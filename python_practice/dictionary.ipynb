{
 "cells": [
  {
   "cell_type": "code",
   "execution_count": 6,
   "id": "9d2f8527-d1e7-4202-a79f-f1607cacb6f8",
   "metadata": {},
   "outputs": [
    {
     "name": "stdin",
     "output_type": "stream",
     "text": [
      "何歳ですか 19\n"
     ]
    },
    {
     "name": "stdout",
     "output_type": "stream",
     "text": [
      "どうぞお入りください\n",
      "プレイするゲームをメニューから選択してください\n",
      "1 : ポーカー\n",
      "2 : ブラックジャック\n",
      "3 : ルーレット\n",
      "4 : スロット\n",
      "0 : 終了する\n"
     ]
    },
    {
     "name": "stdin",
     "output_type": "stream",
     "text": [
      ":  3\n"
     ]
    },
    {
     "name": "stdout",
     "output_type": "stream",
     "text": [
      "あなたはルーレットを選択しました\n",
      "プレイするゲームをメニューから選択してください\n",
      "1 : ポーカー\n",
      "2 : ブラックジャック\n",
      "3 : ルーレット\n",
      "4 : スロット\n",
      "0 : 終了する\n"
     ]
    },
    {
     "name": "stdin",
     "output_type": "stream",
     "text": [
      ":  0\n"
     ]
    },
    {
     "name": "stdout",
     "output_type": "stream",
     "text": [
      "終了します\n"
     ]
    }
   ],
   "source": [
    "age = int(input('何歳ですか'))\n",
    "casino_age = 18\n",
    "game_dict = {\n",
    "1: 'ポーカー',\n",
    "2: 'ブラックジャック',\n",
    "3: 'ルーレット',\n",
    "4: 'スロット',\n",
    "0: '終了する'\n",
    "}\n",
    "\n",
    "\n",
    "if casino_age <= age:\n",
    "    print('どうぞお入りください')  \n",
    "    while True:\n",
    "        print('プレイするゲームをメニューから選択してください')\n",
    "        for i in game_dict:\n",
    "            print(i, ':', game_dict[i])\n",
    "        choice = int(input(': '))\n",
    "        if choice in game_dict:\n",
    "            if choice == 0:\n",
    "                print('終了します')\n",
    "                break\n",
    "            else:\n",
    "                print(f'あなたは{game_dict[choice]}を選択しました')\n",
    "            \n",
    "        else:\n",
    "            print('メニューから選んでください')\n",
    "    else:\n",
    "        print('ご利用ありがとうございました')\n",
    "else:\n",
    "    print(f'カジノは{casino_age}歳からです')\n",
    "    "
   ]
  },
  {
   "cell_type": "code",
   "execution_count": 4,
   "id": "be430969-c1ca-4e3f-9c93-1e96b6f5d71a",
   "metadata": {},
   "outputs": [
    {
     "name": "stdout",
     "output_type": "stream",
     "text": [
      "1 ポーカー\n",
      "2 ブラックジャック\n",
      "3 ルーレット\n"
     ]
    }
   ],
   "source": [
    "game_dict = {\n",
    "1: 'ポーカー',\n",
    "2: 'ブラックジャック',\n",
    "3: 'ルーレット'\n",
    "}\n",
    "for i in game_dict:\n",
    "    print(i, game_dict[i])"
   ]
  },
  {
   "cell_type": "code",
   "execution_count": null,
   "id": "9f6b1d6b-84ab-4fdf-86ec-0bbb203fc0c7",
   "metadata": {},
   "outputs": [],
   "source": []
  }
 ],
 "metadata": {
  "kernelspec": {
   "display_name": "Python 3 (ipykernel)",
   "language": "python",
   "name": "python3"
  },
  "language_info": {
   "codemirror_mode": {
    "name": "ipython",
    "version": 3
   },
   "file_extension": ".py",
   "mimetype": "text/x-python",
   "name": "python",
   "nbconvert_exporter": "python",
   "pygments_lexer": "ipython3",
   "version": "3.9.13"
  }
 },
 "nbformat": 4,
 "nbformat_minor": 5
}
