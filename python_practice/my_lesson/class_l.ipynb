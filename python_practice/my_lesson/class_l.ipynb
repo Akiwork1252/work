{
 "cells": [
  {
   "cell_type": "code",
   "execution_count": 18,
   "id": "a48119ac-8928-4b28-bb96-18e0f6c43ef9",
   "metadata": {},
   "outputs": [],
   "source": [
    "import random"
   ]
  },
  {
   "cell_type": "code",
   "execution_count": 3,
   "id": "194a2167-a22c-4538-a9a8-3263c40a899a",
   "metadata": {},
   "outputs": [],
   "source": [
    "class Person:\n",
    "    account_count = 0\n",
    "    def __init__(self, name, age):\n",
    "        self.__name = name\n",
    "        self.age = age\n",
    "        self.__step_count = 0\n",
    "        Person.account_count += 1\n",
    "        \n",
    "    def walk(self):\n",
    "        count = random.randint(1, 6)\n",
    "        self.__step_count += count\n",
    "        print(f'{self.__name}はサイコロで{count}を出しました。')\n",
    "        print(f'＞＞＞スタート値から{self.__step_count}歩進みました。')\n",
    "        print()\n",
    "\n",
    "    def difference(self, partner):\n",
    "        difference = self.__step_count - partner.__step_count\n",
    "        if difference < 0:\n",
    "            print(f'  現在の{self.__name}と{partner.__name}との差は{-difference}歩です\\n')\n",
    "        else:\n",
    "            print(f'  現在の{self.__name}の{partner.__name}との差は{difference}歩です\\n')\n",
    "            \n",
    "            \n",
    "aki = Person('Aki', 37)\n",
    "tom = Person('Tom', 22)\n",
    "john = Person('John', 19)"
   ]
  },
  {
   "cell_type": "code",
   "execution_count": 4,
   "id": "3241bc78-aeaf-4a5c-a858-3f3746da7c26",
   "metadata": {},
   "outputs": [
    {
     "name": "stdout",
     "output_type": "stream",
     "text": [
      "3人で勝負します\n",
      "Akiはサイコロで4を出しました。\n",
      "＞＞＞スタート値から4歩進みました。\n",
      "\n",
      "Tomはサイコロで3を出しました。\n",
      "＞＞＞スタート値から3歩進みました。\n",
      "\n",
      "Johnはサイコロで2を出しました。\n",
      "＞＞＞スタート値から2歩進みました。\n",
      "\n",
      "Akiはサイコロで4を出しました。\n",
      "＞＞＞スタート値から8歩進みました。\n",
      "\n",
      "Tomはサイコロで3を出しました。\n",
      "＞＞＞スタート値から6歩進みました。\n",
      "\n",
      "Johnはサイコロで3を出しました。\n",
      "＞＞＞スタート値から5歩進みました。\n",
      "\n",
      "Akiはサイコロで2を出しました。\n",
      "＞＞＞スタート値から10歩進みました。\n",
      "\n",
      "Tomはサイコロで6を出しました。\n",
      "＞＞＞スタート値から12歩進みました。\n",
      "\n",
      "Johnはサイコロで2を出しました。\n",
      "＞＞＞スタート値から7歩進みました。\n",
      "\n",
      "Akiはサイコロで2を出しました。\n",
      "＞＞＞スタート値から12歩進みました。\n",
      "\n",
      "Tomはサイコロで4を出しました。\n",
      "＞＞＞スタート値から16歩進みました。\n",
      "\n",
      "Johnはサイコロで6を出しました。\n",
      "＞＞＞スタート値から13歩進みました。\n",
      "\n",
      "Akiはサイコロで2を出しました。\n",
      "＞＞＞スタート値から14歩進みました。\n",
      "\n",
      "Tomはサイコロで3を出しました。\n",
      "＞＞＞スタート値から19歩進みました。\n",
      "\n",
      "Johnはサイコロで2を出しました。\n",
      "＞＞＞スタート値から15歩進みました。\n",
      "\n",
      "Akiはサイコロで2を出しました。\n",
      "＞＞＞スタート値から16歩進みました。\n",
      "\n",
      "Tomはサイコロで1を出しました。\n",
      "＞＞＞スタート値から20歩進みました。\n",
      "\n",
      "Johnはサイコロで1を出しました。\n",
      "＞＞＞スタート値から16歩進みました。\n",
      "\n",
      "Akiはサイコロで5を出しました。\n",
      "＞＞＞スタート値から21歩進みました。\n",
      "\n",
      "Tomはサイコロで4を出しました。\n",
      "＞＞＞スタート値から24歩進みました。\n",
      "\n",
      "Johnはサイコロで1を出しました。\n",
      "＞＞＞スタート値から17歩進みました。\n",
      "\n",
      "Akiはサイコロで3を出しました。\n",
      "＞＞＞スタート値から24歩進みました。\n",
      "\n",
      "Tomはサイコロで5を出しました。\n",
      "＞＞＞スタート値から29歩進みました。\n",
      "\n",
      "Johnはサイコロで6を出しました。\n",
      "＞＞＞スタート値から23歩進みました。\n",
      "\n",
      "Akiはサイコロで3を出しました。\n",
      "＞＞＞スタート値から27歩進みました。\n",
      "\n",
      "Tomはサイコロで5を出しました。\n",
      "＞＞＞スタート値から34歩進みました。\n",
      "\n",
      "Tomがゴールしました。\n",
      "プログラムを終了します。\n"
     ]
    }
   ],
   "source": [
    "def func():\n",
    "    while True:\n",
    "        yield aki\n",
    "        yield tom\n",
    "        yield john\n",
    "\n",
    "\n",
    "goal = 30\n",
    "print(f'{Person.account_count}人で勝負します')\n",
    "for i in func():\n",
    "    i.walk()\n",
    "    if i._Person__step_count >= goal:\n",
    "        print(f'{i._Person__name}がゴールしました。')\n",
    "        print('プログラムを終了します。')\n",
    "        break"
   ]
  },
  {
   "cell_type": "code",
   "execution_count": 16,
   "id": "07587865-8ed2-4f57-87a1-f172f72fabb5",
   "metadata": {},
   "outputs": [],
   "source": [
    "class PrimeNumbersIterator:\n",
    "    def __init__(self, start=0, stop=2000):\n",
    "        self.start = start\n",
    "        self.stop = stop\n",
    "\n",
    "    # 素数判定。素数であれば値を返す\n",
    "    def return_prime_numbers(self, num):\n",
    "        division_list = []\n",
    "        for i in range(1, num+1):\n",
    "            if num % i == 0:\n",
    "                division_list.append(i)\n",
    "        if len(division_list) == 2:\n",
    "            return num\n",
    "\n",
    "    # 入力されたstopまでの全ての素数をリスト化する\n",
    "    def add_list(self):\n",
    "        stop = self.stop\n",
    "        prime_list = []\n",
    "        for i in range(1, stop+1):\n",
    "            n = self.return_prime_numbers(i)\n",
    "            if n is None:\n",
    "                continue\n",
    "            else:\n",
    "                prime_list.append(n)\n",
    "        return prime_list\n",
    "\n",
    "    def __next__(self):\n",
    "        prime_list = self.add_list()\n",
    "        num = self.start\n",
    "        self.start += 1\n",
    "        while self.start < len(prime_list):\n",
    "            return prime_list[num]\n",
    "\n",
    "    def __iter__(self):\n",
    "        return self\n",
    "\n",
    "\n",
    "prime_iter = PrimeNumbersIterator()"
   ]
  },
  {
   "cell_type": "code",
   "execution_count": 6,
   "id": "75af62ea-97d7-48e4-aaf8-f2b201f60bc7",
   "metadata": {},
   "outputs": [
    {
     "name": "stdout",
     "output_type": "stream",
     "text": [
      "2\n",
      "3\n",
      "5\n",
      "7\n",
      "11\n"
     ]
    }
   ],
   "source": [
    "print(next(prime_iter))\n",
    "print(next(prime_iter))\n",
    "print(next(prime_iter))\n",
    "print(next(prime_iter))\n",
    "print(next(prime_iter))"
   ]
  },
  {
   "cell_type": "code",
   "execution_count": 7,
   "id": "0c045e8b-5b67-4f70-a2ed-566af7f4036d",
   "metadata": {},
   "outputs": [
    {
     "name": "stdout",
     "output_type": "stream",
     "text": [
      "13\n",
      "17\n",
      "19\n",
      "23\n",
      "29\n"
     ]
    }
   ],
   "source": [
    "print(next(prime_iter))\n",
    "print(next(prime_iter))\n",
    "print(next(prime_iter))\n",
    "print(next(prime_iter))\n",
    "print(next(prime_iter))"
   ]
  },
  {
   "cell_type": "code",
   "execution_count": 58,
   "id": "8a7ff283-1770-4a17-b616-71faf24f859b",
   "metadata": {},
   "outputs": [],
   "source": [
    "class Person:\n",
    "    account_count = 0\n",
    "    account_list = set()\n",
    "    def __init__(self, name):\n",
    "        self.name = name\n",
    "        self.step_count = 0\n",
    "        Person.account_count += 1\n",
    "        Person.account_list.add(self.name)\n",
    "    \n",
    "    def walk(self):\n",
    "        step = random.randint(1, 6)\n",
    "        self.step_count += step\n",
    "        print(f'{self.name}が\"サイコロで{step}を出しました。')\n",
    "        self.display()\n",
    "        \n",
    "    def display(self, **kwargs):\n",
    "        print('ーースタート地点からの距離ーー')\n",
    "        print(f'\\t{self.name}：{self.step_count}')"
   ]
  },
  {
   "cell_type": "code",
   "execution_count": 59,
   "id": "552a219e-a936-4317-8a26-e4ebe497c1cc",
   "metadata": {},
   "outputs": [],
   "source": [
    "luffy = Person('Luffy')\n",
    "zoro = Person('Zoro')\n",
    "sanji = Person('Sanji')"
   ]
  },
  {
   "cell_type": "code",
   "execution_count": 48,
   "id": "e3365186-89be-4580-b6c1-6c2f5471a21d",
   "metadata": {},
   "outputs": [
    {
     "name": "stdout",
     "output_type": "stream",
     "text": [
      "Luffyが\"サイコロで5を出しました。\n",
      "ーースタート地点からの距離ーー\n",
      "Luffy：5\n"
     ]
    }
   ],
   "source": [
    "luffy.walk()"
   ]
  },
  {
   "cell_type": "code",
   "execution_count": 44,
   "id": "7dc6a7aa-ad09-43ef-8552-e1b953cb61e9",
   "metadata": {},
   "outputs": [
    {
     "name": "stdout",
     "output_type": "stream",
     "text": [
      "ーー現在の状況ーー\n",
      "<__main__.Person object at 0x7f663586f280>：0\n"
     ]
    }
   ],
   "source": [
    "luffy.display()"
   ]
  },
  {
   "cell_type": "code",
   "execution_count": 60,
   "id": "b504e560-fe19-4230-9217-6a19d2c85ed7",
   "metadata": {},
   "outputs": [
    {
     "name": "stdout",
     "output_type": "stream",
     "text": [
      "Luffyが\"サイコロで3を出しました。\n",
      "ーースタート地点からの距離ーー\n",
      "\tLuffy：3\n",
      "Zoroが\"サイコロで5を出しました。\n",
      "ーースタート地点からの距離ーー\n",
      "\tZoro：5\n",
      "Sanjiが\"サイコロで2を出しました。\n",
      "ーースタート地点からの距離ーー\n",
      "\tSanji：2\n",
      "Luffyが\"サイコロで4を出しました。\n",
      "ーースタート地点からの距離ーー\n",
      "\tLuffy：7\n",
      "Zoroが\"サイコロで5を出しました。\n",
      "ーースタート地点からの距離ーー\n",
      "\tZoro：10\n",
      "Sanjiが\"サイコロで6を出しました。\n",
      "ーースタート地点からの距離ーー\n",
      "\tSanji：8\n",
      "Luffyが\"サイコロで2を出しました。\n",
      "ーースタート地点からの距離ーー\n",
      "\tLuffy：9\n",
      "Zoroが\"サイコロで3を出しました。\n",
      "ーースタート地点からの距離ーー\n",
      "\tZoro：13\n",
      "Sanjiが\"サイコロで5を出しました。\n",
      "ーースタート地点からの距離ーー\n",
      "\tSanji：13\n",
      "Luffyが\"サイコロで6を出しました。\n",
      "ーースタート地点からの距離ーー\n",
      "\tLuffy：15\n",
      "Zoroが\"サイコロで6を出しました。\n",
      "ーースタート地点からの距離ーー\n",
      "\tZoro：19\n",
      "Sanjiが\"サイコロで1を出しました。\n",
      "ーースタート地点からの距離ーー\n",
      "\tSanji：14\n",
      "Luffyが\"サイコロで3を出しました。\n",
      "ーースタート地点からの距離ーー\n",
      "\tLuffy：18\n",
      "Zoroが\"サイコロで5を出しました。\n",
      "ーースタート地点からの距離ーー\n",
      "\tZoro：24\n",
      "Sanjiが\"サイコロで6を出しました。\n",
      "ーースタート地点からの距離ーー\n",
      "\tSanji：20\n",
      "Luffyが\"サイコロで1を出しました。\n",
      "ーースタート地点からの距離ーー\n",
      "\tLuffy：19\n",
      "Zoroが\"サイコロで1を出しました。\n",
      "ーースタート地点からの距離ーー\n",
      "\tZoro：25\n",
      "Sanjiが\"サイコロで3を出しました。\n",
      "ーースタート地点からの距離ーー\n",
      "\tSanji：23\n",
      "Luffyが\"サイコロで1を出しました。\n",
      "ーースタート地点からの距離ーー\n",
      "\tLuffy：20\n",
      "Zoroが\"サイコロで2を出しました。\n",
      "ーースタート地点からの距離ーー\n",
      "\tZoro：27\n",
      "Sanjiが\"サイコロで3を出しました。\n",
      "ーースタート地点からの距離ーー\n",
      "\tSanji：26\n",
      "Luffyが\"サイコロで5を出しました。\n",
      "ーースタート地点からの距離ーー\n",
      "\tLuffy：25\n",
      "Zoroが\"サイコロで4を出しました。\n",
      "ーースタート地点からの距離ーー\n",
      "\tZoro：31\n",
      "Zoroがゴールしました。\n"
     ]
    }
   ],
   "source": [
    "def func():\n",
    "    while True:\n",
    "        yield luffy\n",
    "        yield zoro\n",
    "        yield sanji\n",
    "        \n",
    "\n",
    "goal = 30\n",
    "for i in func():\n",
    "    i.walk()\n",
    "    if i.step_count >= goal:\n",
    "        print(f'{i.name}がゴールしました。')\n",
    "        break"
   ]
  },
  {
   "cell_type": "code",
   "execution_count": 64,
   "id": "8b13a405-6a5c-4f1b-a0f6-1b96a22af2c2",
   "metadata": {},
   "outputs": [],
   "source": [
    "import re\n",
    "pt = '^[0-9a-zA-Z_]+@(gmail|yahoo)\\.(com|co.jp)+$'\n",
    "pattern = re.compile(pt) "
   ]
  },
  {
   "cell_type": "code",
   "execution_count": 65,
   "id": "2d8076bb-c67d-47d2-8a22-2897581a76f5",
   "metadata": {},
   "outputs": [
    {
     "data": {
      "text/plain": [
       "re.compile(r'^[0-9a-zA-Z_]+@(gmail|yahoo)\\.(com|co.jp)+$', re.UNICODE)"
      ]
     },
     "execution_count": 65,
     "metadata": {},
     "output_type": "execute_result"
    }
   ],
   "source": [
    "pattern"
   ]
  },
  {
   "cell_type": "code",
   "execution_count": 66,
   "id": "73a03bee-c85d-4051-8498-71378f99b716",
   "metadata": {},
   "outputs": [],
   "source": [
    "mail = 'aki153@gamil.com'\n",
    "pattern.search(mail)"
   ]
  },
  {
   "cell_type": "code",
   "execution_count": 68,
   "id": "4c97ae6c-b02b-4025-b535-7f103488aae6",
   "metadata": {},
   "outputs": [
    {
     "data": {
      "text/plain": [
       "False"
      ]
     },
     "execution_count": 68,
     "metadata": {},
     "output_type": "execute_result"
    }
   ],
   "source": [
    "mydict = {'a': 1, 'b': 2}\n",
    "'c' in mydict"
   ]
  },
  {
   "cell_type": "code",
   "execution_count": 84,
   "id": "b2ade4d2-27f6-43d1-8aa6-c60533aa541c",
   "metadata": {},
   "outputs": [
    {
     "data": {
      "text/plain": [
       "22"
      ]
     },
     "execution_count": 84,
     "metadata": {},
     "output_type": "execute_result"
    }
   ],
   "source": [
    "l = []\n",
    "for i in range(50):\n",
    "    n = random.randrange(1, 319)\n",
    "    l.append(n)\n",
    "    \n",
    "min(l)"
   ]
  },
  {
   "cell_type": "code",
   "execution_count": 85,
   "id": "2e7fe8ae-e15d-43a6-800c-d4cf68f4effe",
   "metadata": {},
   "outputs": [],
   "source": [
    "with open('Sample.txt', 'w') as f:\n",
    "    f.write('hello')\n",
    "    f.write('My neme is Aki')"
   ]
  },
  {
   "cell_type": "code",
   "execution_count": 89,
   "id": "094b5855-e0b0-4037-8fbb-6d163c83618d",
   "metadata": {},
   "outputs": [
    {
     "name": "stdout",
     "output_type": "stream",
     "text": [
      "helloMy neme is Aki "
     ]
    }
   ],
   "source": [
    "with open('Sample.txt', 'r') as f:\n",
    "    lines = f.readlines()\n",
    "    \n",
    "    for line in lines:\n",
    "        print(line, end=' ')"
   ]
  },
  {
   "cell_type": "code",
   "execution_count": 92,
   "id": "845526a7-6617-40ec-867f-31d761379a71",
   "metadata": {},
   "outputs": [
    {
     "data": {
      "text/plain": [
       "-1"
      ]
     },
     "execution_count": 92,
     "metadata": {},
     "output_type": "execute_result"
    }
   ],
   "source": [
    "mail = 'aki@gmail.com'\n",
    "res = mail.find('p')\n",
    "\n",
    "res"
   ]
  },
  {
   "cell_type": "code",
   "execution_count": 97,
   "id": "c6a15305-917a-4e7b-99d3-2e425a1b1739",
   "metadata": {},
   "outputs": [
    {
     "name": "stdout",
     "output_type": "stream",
     "text": [
      "aki@yahoo.co.jp\n"
     ]
    }
   ],
   "source": [
    "if mail.split('@')[-1] == 'gmail.com':\n",
    "    newmail = mail.replace(mail.split('@')[-1], 'yahoo.co.jp')\n",
    "    \n",
    "print(newmail)"
   ]
  },
  {
   "cell_type": "code",
   "execution_count": 94,
   "id": "4ffdbb47-282a-426f-8c92-40d20eb4675e",
   "metadata": {},
   "outputs": [
    {
     "data": {
      "text/plain": [
       "'gmail.com'"
      ]
     },
     "execution_count": 94,
     "metadata": {},
     "output_type": "execute_result"
    }
   ],
   "source": [
    "mail.split('@')[-1]"
   ]
  },
  {
   "cell_type": "code",
   "execution_count": 96,
   "id": "ef5ce902-75a8-4415-b707-f75d580db4d7",
   "metadata": {},
   "outputs": [
    {
     "data": {
      "text/plain": [
       "True"
      ]
     },
     "execution_count": 96,
     "metadata": {},
     "output_type": "execute_result"
    }
   ],
   "source": [
    "mail.split('@')[-1] == 'gmail.com'"
   ]
  },
  {
   "cell_type": "code",
   "execution_count": null,
   "id": "bc630019-33a1-4d99-8dfd-62af8935cfd3",
   "metadata": {},
   "outputs": [],
   "source": []
  }
 ],
 "metadata": {
  "kernelspec": {
   "display_name": "Python 3 (ipykernel)",
   "language": "python",
   "name": "python3"
  },
  "language_info": {
   "codemirror_mode": {
    "name": "ipython",
    "version": 3
   },
   "file_extension": ".py",
   "mimetype": "text/x-python",
   "name": "python",
   "nbconvert_exporter": "python",
   "pygments_lexer": "ipython3",
   "version": "3.9.13"
  }
 },
 "nbformat": 4,
 "nbformat_minor": 5
}
