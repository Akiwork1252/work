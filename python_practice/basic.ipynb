{
 "cells": [
  {
   "cell_type": "code",
   "execution_count": 7,
   "id": "58589749-90c6-4601-a8f9-f798ebd1cedb",
   "metadata": {},
   "outputs": [
    {
     "name": "stdout",
     "output_type": "stream",
     "text": [
      "Akinori\n",
      "33\n",
      "Tom\n",
      "24\n",
      "Akinoriが歩きました\n",
      "Tomが走りました\n"
     ]
    }
   ],
   "source": [
    "class Person:\n",
    "    count = 0\n",
    "    def __init__(self, name, age):\n",
    "        self.name = name\n",
    "        self.age = age\n",
    "        Person.count += 1\n",
    "        \n",
    "    def walking(self):\n",
    "        print(f'{self.name}が歩きました')\n",
    "        \n",
    "    def running(self):\n",
    "        print(f'{self.name}が走りました')\n",
    "        \n",
    "    \n",
    "aki = Person('Akinori', 33)\n",
    "tom = Person('Tom', 24)\n",
    "print(aki.name)\n",
    "print(aki.age)\n",
    "print(tom.name)\n",
    "print(tom.age)\n",
    "aki.walking()\n",
    "tom.running()"
   ]
  },
  {
   "cell_type": "code",
   "execution_count": 9,
   "id": "121d481a-4262-4fe4-bd45-55821a7cdfb2",
   "metadata": {},
   "outputs": [
    {
     "data": {
      "text/plain": [
       "'Luffy'"
      ]
     },
     "execution_count": 9,
     "metadata": {},
     "output_type": "execute_result"
    }
   ],
   "source": [
    "class pirate(Person):\n",
    "    pass\n",
    "\n",
    "luffy = pirate('Luffy', 19)\n",
    "luffy.name"
   ]
  },
  {
   "cell_type": "code",
   "execution_count": 29,
   "id": "8db4f539-3033-432c-a704-37b01a379f88",
   "metadata": {},
   "outputs": [],
   "source": [
    "class Car:\n",
    "    def set_model(self, model):\n",
    "        self.__model = model\n",
    "        \n",
    "    def get_model(self):\n",
    "        return self.__model\n",
    "    \n",
    "    model = property(get_model, set_model)"
   ]
  },
  {
   "cell_type": "code",
   "execution_count": 30,
   "id": "d2f130d3-4ccb-4119-ac33-6ab7b23a14a8",
   "metadata": {},
   "outputs": [],
   "source": [
    "prius = Car()"
   ]
  },
  {
   "cell_type": "code",
   "execution_count": 22,
   "id": "f44cd404-7f94-4cdb-b906-1c1b5b2afe66",
   "metadata": {},
   "outputs": [],
   "source": [
    "prius.set_model('Toyota')"
   ]
  },
  {
   "cell_type": "code",
   "execution_count": 23,
   "id": "3d03743e-9e08-4c70-8238-21c4f3bf3557",
   "metadata": {},
   "outputs": [
    {
     "data": {
      "text/plain": [
       "'Toyota'"
      ]
     },
     "execution_count": 23,
     "metadata": {},
     "output_type": "execute_result"
    }
   ],
   "source": [
    "prius.get_model()"
   ]
  },
  {
   "cell_type": "code",
   "execution_count": 24,
   "id": "cbc816b8-9918-4321-8871-315df10de667",
   "metadata": {},
   "outputs": [
    {
     "data": {
      "text/plain": [
       "'Toyota'"
      ]
     },
     "execution_count": 24,
     "metadata": {},
     "output_type": "execute_result"
    }
   ],
   "source": [
    "prius.model"
   ]
  },
  {
   "cell_type": "code",
   "execution_count": 31,
   "id": "d1a31a5d-79fe-4ba7-8c52-7fd7c4ace205",
   "metadata": {},
   "outputs": [
    {
     "name": "stdout",
     "output_type": "stream",
     "text": [
      "Toyota\n",
      "{'_Car__model': 'Toyota'}\n",
      "bmw\n",
      "{'_Car__model': 'bmw'}\n"
     ]
    }
   ],
   "source": [
    "prius.model = 'Toyota'\n",
    "print(prius.model)\n",
    "print(prius.__dict__)\n",
    "prius.model = 'bmw'\n",
    "print(prius.model)\n",
    "print(prius.__dict__)"
   ]
  },
  {
   "cell_type": "code",
   "execution_count": 5,
   "id": "f944c6ff-7ef7-4a53-883c-b27c1d0b15a8",
   "metadata": {},
   "outputs": [],
   "source": [
    "import random"
   ]
  },
  {
   "cell_type": "code",
   "execution_count": 38,
   "id": "c38db3d0-597d-482b-bc1a-fd74dd7dc902",
   "metadata": {},
   "outputs": [
    {
     "name": "stdout",
     "output_type": "stream",
     "text": [
      "4 2 6 4 1 2 1 6 1 2 4 1 5 1 6 4 6 5 3 4 2 5 3 4 3 1 6 1 4 4 "
     ]
    }
   ],
   "source": [
    "for i in range(30):\n",
    "    print(random.randint(1, 6), end=' ')"
   ]
  },
  {
   "cell_type": "code",
   "execution_count": 159,
   "id": "a3fe8c2c-3871-4293-b343-ab94e5852a70",
   "metadata": {},
   "outputs": [],
   "source": [
    "import random\n",
    "class Glico_game:\n",
    "    def __init__(self, name):\n",
    "        self.name = name\n",
    "        self.__step_count = 0\n",
    "        self.rps_list = []\n",
    "        \n",
    "    def rps(self):\n",
    "        n = random.randint(0, 2)  # 0:グー、 1:チョキ、　2:パー\n",
    "        print(f'{self.name}は{n}を出しました')\n",
    "        self.rps_list.append(n)\n",
    "        return n\n",
    "    \n",
    "def judge(*args):\n",
    "    pass\n",
    "\n",
    "aki = Glico_game('Akinori')\n",
    "luffy = Glico_game('Luffy')            "
   ]
  },
  {
   "cell_type": "code",
   "execution_count": 160,
   "id": "76235751-8f26-4da8-ae39-3b01e2a1a010",
   "metadata": {},
   "outputs": [
    {
     "name": "stdout",
     "output_type": "stream",
     "text": [
      "Akinoriは1を出しました\n"
     ]
    },
    {
     "data": {
      "text/plain": [
       "1"
      ]
     },
     "execution_count": 160,
     "metadata": {},
     "output_type": "execute_result"
    }
   ],
   "source": [
    "aki.rps()"
   ]
  },
  {
   "cell_type": "code",
   "execution_count": 119,
   "id": "25f6f2dc-2055-4ab7-9173-5a23e90770aa",
   "metadata": {},
   "outputs": [],
   "source": [
    "account_list = [aki, luffy]"
   ]
  },
  {
   "cell_type": "code",
   "execution_count": 157,
   "id": "81f3ea8a-b2ab-491f-93bc-971f0987edf5",
   "metadata": {},
   "outputs": [],
   "source": [
    "def func(self):\n",
    "    for i in args:\n",
    "        print(f'{i.name}は{i.rps()}を出しました')"
   ]
  },
  {
   "cell_type": "code",
   "execution_count": 158,
   "id": "2d7f0f86-3c5f-4bb2-9a39-17bd523ce959",
   "metadata": {},
   "outputs": [
    {
     "name": "stdout",
     "output_type": "stream",
     "text": [
      "Akinoriは1を出しました\n",
      "Luffyは0を出しました\n"
     ]
    }
   ],
   "source": [
    "for i in account_list:\n",
    "    func(i)"
   ]
  },
  {
   "cell_type": "code",
   "execution_count": 135,
   "id": "2d460e0c-c4d2-4539-8d79-87b66f8ec6d1",
   "metadata": {},
   "outputs": [
    {
     "name": "stdout",
     "output_type": "stream",
     "text": [
      "[1, 2, 3]\n",
      "[1, 2, 3]\n",
      "[1, 2, 3]\n"
     ]
    }
   ],
   "source": [
    "a_list = [aki, luffy]\n",
    "for i in nums:\n",
    "    print(nums)\n",
    "    "
   ]
  },
  {
   "cell_type": "code",
   "execution_count": 62,
   "id": "23becfe4-2169-4548-8c22-ac05239ef657",
   "metadata": {},
   "outputs": [
    {
     "data": {
      "text/plain": [
       "1"
      ]
     },
     "execution_count": 62,
     "metadata": {},
     "output_type": "execute_result"
    }
   ],
   "source": [
    "random.randint(0, 2)"
   ]
  },
  {
   "cell_type": "code",
   "execution_count": 94,
   "id": "0d4cd41f-7241-43cb-b598-9a0395272c22",
   "metadata": {},
   "outputs": [
    {
     "name": "stdout",
     "output_type": "stream",
     "text": [
      "現在<__main__.Person object at 0x7f9d3b7dbee0>との差は6歩です\n"
     ]
    }
   ],
   "source": [
    "aki.difference(john)"
   ]
  }
 ],
 "metadata": {
  "kernelspec": {
   "display_name": "Python 3 (ipykernel)",
   "language": "python",
   "name": "python3"
  },
  "language_info": {
   "codemirror_mode": {
    "name": "ipython",
    "version": 3
   },
   "file_extension": ".py",
   "mimetype": "text/x-python",
   "name": "python",
   "nbconvert_exporter": "python",
   "pygments_lexer": "ipython3",
   "version": "3.9.13"
  }
 },
 "nbformat": 4,
 "nbformat_minor": 5
}
