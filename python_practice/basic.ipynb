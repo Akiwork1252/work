{
 "cells": [
  {
   "cell_type": "code",
   "execution_count": 5,
   "id": "8f1a4270-f4e6-4680-ac93-15e501be7286",
   "metadata": {},
   "outputs": [
    {
     "name": "stdout",
     "output_type": "stream",
     "text": [
      "a is True\n"
     ]
    }
   ],
   "source": [
    "# is\n",
    "a = 1\n",
    "b = 2 - 1\n",
    "if a is b:\n",
    "    print('a is True')"
   ]
  },
  {
   "cell_type": "markdown",
   "id": "0970bf75-fe01-4a95-9a3d-477f1ec4c650",
   "metadata": {},
   "source": [
    "### list"
   ]
  },
  {
   "cell_type": "code",
   "execution_count": 26,
   "id": "8bcc89e7-fadf-4cd4-a97d-cf78b62776cf",
   "metadata": {},
   "outputs": [
    {
     "name": "stdout",
     "output_type": "stream",
     "text": [
      "['Luffy', 'Zoro', 'Sanji', 'Nami']\n",
      "['Luffy', 'Zoro', 'Sanji', 'Usopp', 'Nami']\n",
      "['Luffy', 'Zoro', 'Usopp', 'Nami']\n",
      "['Zoro', 'Usopp', 'Nami', 'Luffy']\n",
      "4\n"
     ]
    }
   ],
   "source": [
    "pirate = ['Luffy', 'Zoro', 'Sanji']\n",
    "pirate.append('Nami')\n",
    "print(pirate)\n",
    "pirate.insert(-1, 'Usopp')\n",
    "print(pirate)\n",
    "pirate.remove('Sanji')\n",
    "print(pirate)\n",
    "pirate.sort(reverse=True)\n",
    "print(pirate)\n",
    "print(len(pirate))"
   ]
  },
  {
   "cell_type": "markdown",
   "id": "51939020-9c5b-4c07-9b6b-3d753bb5c311",
   "metadata": {},
   "source": [
    "### slising"
   ]
  },
  {
   "cell_type": "code",
   "execution_count": 20,
   "id": "741d3dba-268d-48e2-ba19-c32a41323add",
   "metadata": {},
   "outputs": [
    {
     "name": "stdout",
     "output_type": "stream",
     "text": [
      "[2, 3, 4]\n",
      "[1, 3]\n",
      "[6, 5, 4, 3, 2, 1]\n"
     ]
    }
   ],
   "source": [
    "even = [1, 2, 3, 4, 5, 6]\n",
    "print(even[1:4])\n",
    "print(even[:4:2])\n",
    "print(even[::-1])"
   ]
  },
  {
   "cell_type": "code",
   "execution_count": 27,
   "id": "063b42c0-0c02-41c0-8d5c-a178fd699c9c",
   "metadata": {},
   "outputs": [
    {
     "name": "stdout",
     "output_type": "stream",
     "text": [
      "['Zoro', 'Usopp', 'Nami', 'Luffy', 'Robin', 'chopper']\n"
     ]
    }
   ],
   "source": [
    "pirate2 = ['Robin', 'chopper']\n",
    "print(pirate + pirate2)"
   ]
  },
  {
   "cell_type": "code",
   "execution_count": 29,
   "id": "a721d944-d955-43d3-8712-c3d7f9b611a5",
   "metadata": {},
   "outputs": [
    {
     "data": {
      "text/plain": [
       "['Zoro', 'Usopp', 'Nami', 'Luffy', ['Robin', 'chopper'], ['Robin', 'chopper']]"
      ]
     },
     "execution_count": 29,
     "metadata": {},
     "output_type": "execute_result"
    }
   ],
   "source": [
    "pirate.append(pirate2)\n",
    "pirate"
   ]
  },
  {
   "cell_type": "markdown",
   "id": "2ba88adf-5c0f-483e-9df9-bc4fa8d5e2c7",
   "metadata": {},
   "source": [
    "### slising, join"
   ]
  },
  {
   "cell_type": "code",
   "execution_count": 32,
   "id": "794d8456-0fac-44a0-88eb-8b8aefaa714e",
   "metadata": {},
   "outputs": [
    {
     "data": {
      "text/plain": [
       "'aki1531252@gmail.com'"
      ]
     },
     "execution_count": 32,
     "metadata": {},
     "output_type": "execute_result"
    }
   ],
   "source": [
    "address = ['aki1531252', 'gmail.com']\n",
    "mail = '@'.join(address)\n",
    "mail"
   ]
  },
  {
   "cell_type": "code",
   "execution_count": 34,
   "id": "ce0ef834-edce-4960-b7f3-d4e43bdaa397",
   "metadata": {},
   "outputs": [
    {
     "data": {
      "text/plain": [
       "['aki1531252', 'gmail.com']"
      ]
     },
     "execution_count": 34,
     "metadata": {},
     "output_type": "execute_result"
    }
   ],
   "source": [
    "mail.split('@')"
   ]
  },
  {
   "cell_type": "code",
   "execution_count": 40,
   "id": "630f0c05-40a0-4ed0-a2c8-f8223e90331b",
   "metadata": {},
   "outputs": [
    {
     "name": "stdin",
     "output_type": "stream",
     "text": [
      "あなたが探している海賊はLuffyですか(y/n) y\n"
     ]
    },
    {
     "name": "stdout",
     "output_type": "stream",
     "text": [
      "見つかってよかったですね\n"
     ]
    }
   ],
   "source": [
    "pirate = ['Luffy', 'Zoro', 'Sanji']\n",
    "for i in pirate:\n",
    "    choice = input(f'あなたが探している海賊は{i}ですか(y/n)')\n",
    "    if choice == 'y':\n",
    "        print('見つかってよかったですね')\n",
    "        break\n",
    "    else:\n",
    "        print('そうですか')\n",
    "else:\n",
    "    print(f'ループは以上です')"
   ]
  },
  {
   "cell_type": "code",
   "execution_count": null,
   "id": "a26a0827-1302-496f-9b4a-d68ac65076a2",
   "metadata": {},
   "outputs": [],
   "source": []
  }
 ],
 "metadata": {
  "kernelspec": {
   "display_name": "Python 3 (ipykernel)",
   "language": "python",
   "name": "python3"
  },
  "language_info": {
   "codemirror_mode": {
    "name": "ipython",
    "version": 3
   },
   "file_extension": ".py",
   "mimetype": "text/x-python",
   "name": "python",
   "nbconvert_exporter": "python",
   "pygments_lexer": "ipython3",
   "version": "3.9.13"
  }
 },
 "nbformat": 4,
 "nbformat_minor": 5
}
