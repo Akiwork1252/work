{
 "cells": [
  {
   "cell_type": "code",
   "execution_count": 5,
   "id": "8f1a4270-f4e6-4680-ac93-15e501be7286",
   "metadata": {},
   "outputs": [
    {
     "name": "stdout",
     "output_type": "stream",
     "text": [
      "a is True\n"
     ]
    }
   ],
   "source": [
    "# is\n",
    "a = 1\n",
    "b = 2 - 1\n",
    "if a is b:\n",
    "    print('a is True')"
   ]
  },
  {
   "cell_type": "markdown",
   "id": "0970bf75-fe01-4a95-9a3d-477f1ec4c650",
   "metadata": {},
   "source": [
    "### list"
   ]
  },
  {
   "cell_type": "code",
   "execution_count": 26,
   "id": "8bcc89e7-fadf-4cd4-a97d-cf78b62776cf",
   "metadata": {},
   "outputs": [
    {
     "name": "stdout",
     "output_type": "stream",
     "text": [
      "['Luffy', 'Zoro', 'Sanji', 'Nami']\n",
      "['Luffy', 'Zoro', 'Sanji', 'Usopp', 'Nami']\n",
      "['Luffy', 'Zoro', 'Usopp', 'Nami']\n",
      "['Zoro', 'Usopp', 'Nami', 'Luffy']\n",
      "4\n"
     ]
    }
   ],
   "source": [
    "pirate = ['Luffy', 'Zoro', 'Sanji']\n",
    "pirate.append('Nami')\n",
    "print(pirate)\n",
    "pirate.insert(-1, 'Usopp')\n",
    "print(pirate)\n",
    "pirate.remove('Sanji')\n",
    "print(pirate)\n",
    "pirate.sort(reverse=True)\n",
    "print(pirate)\n",
    "print(len(pirate))"
   ]
  },
  {
   "cell_type": "code",
   "execution_count": 62,
   "id": "06228bd7-58f6-4d45-84c8-eb990dfb6b21",
   "metadata": {},
   "outputs": [
    {
     "name": "stdout",
     "output_type": "stream",
     "text": [
      "0\n",
      "Luffy\n",
      "1\n",
      "Zoro\n",
      "2\n",
      "Sanji\n"
     ]
    }
   ],
   "source": [
    "for idx, p in enumerate(pirate):\n",
    "    print(idx)\n",
    "    print(p)"
   ]
  },
  {
   "cell_type": "code",
   "execution_count": 63,
   "id": "6f50f2b7-ecc5-4202-a33c-aecf03898d9e",
   "metadata": {},
   "outputs": [
    {
     "name": "stdout",
     "output_type": "stream",
     "text": [
      "(0, 'Luffy')\n",
      "(1, 'Zoro')\n",
      "(2, 'Sanji')\n"
     ]
    }
   ],
   "source": [
    "for x in enumerate(pirate):\n",
    "    print(x)"
   ]
  },
  {
   "cell_type": "code",
   "execution_count": 65,
   "id": "e1f93003-62ba-4b88-9272-f43b0b451162",
   "metadata": {},
   "outputs": [
    {
     "data": {
      "text/plain": [
       "[0, 1, 4, 9, 16, 25, 36, 49, 64, 81]"
      ]
     },
     "execution_count": 65,
     "metadata": {},
     "output_type": "execute_result"
    }
   ],
   "source": [
    "square_list = [i ** 2 for i in range(10)]\n",
    "square_list"
   ]
  },
  {
   "cell_type": "code",
   "execution_count": 66,
   "id": "29d6c296-35ad-4280-9ea1-3a0bf4a1333c",
   "metadata": {},
   "outputs": [
    {
     "data": {
      "text/plain": [
       "[0, 4, 16, 36, 64]"
      ]
     },
     "execution_count": 66,
     "metadata": {},
     "output_type": "execute_result"
    }
   ],
   "source": [
    "square_list = [i ** 2 for i in range(10) if i % 2 == 0]\n",
    "square_list"
   ]
  },
  {
   "cell_type": "markdown",
   "id": "5239c0ee-70c9-4c91-b75e-5e475a61b453",
   "metadata": {},
   "source": [
    "### dictionary"
   ]
  },
  {
   "cell_type": "code",
   "execution_count": 69,
   "id": "34acda0d-cbb6-4fca-ae6d-79d36b87c5f1",
   "metadata": {},
   "outputs": [
    {
     "data": {
      "text/plain": [
       "19"
      ]
     },
     "execution_count": 69,
     "metadata": {},
     "output_type": "execute_result"
    }
   ],
   "source": [
    "pirate_dict = {'Luffy': 19, 'Zoro': 21, 'Usopp': 20}\n",
    "pirate_dict.get('Luffy', 'notthing')"
   ]
  },
  {
   "cell_type": "code",
   "execution_count": 71,
   "id": "11c1b280-4f8f-4fb2-9f52-507a7cb1bea9",
   "metadata": {},
   "outputs": [
    {
     "name": "stdin",
     "output_type": "stream",
     "text": [
      "What do you like about pirates Nami\n"
     ]
    },
    {
     "data": {
      "text/plain": [
       "'nothing'"
      ]
     },
     "execution_count": 71,
     "metadata": {},
     "output_type": "execute_result"
    }
   ],
   "source": [
    "like_person = input('What do you like about pirates')\n",
    "pirate_dict.get(like_person, 'nothing')"
   ]
  },
  {
   "cell_type": "code",
   "execution_count": 73,
   "id": "d0ce0784-3239-4e87-9898-98f0a62f8e2e",
   "metadata": {},
   "outputs": [
    {
     "data": {
      "text/plain": [
       "{'Luffy': 19, 'Zoro': 21, 'Usopp': 20, 'Nami': 20, 'Robin': 30, 'chopper': 20}"
      ]
     },
     "execution_count": 73,
     "metadata": {},
     "output_type": "execute_result"
    }
   ],
   "source": [
    "pirate_dict2 = {'Nami': 20, 'Robin': 30, 'chopper': 20}\n",
    "pirate_dict.update(pirate_dict2)\n",
    "pirate_dict"
   ]
  },
  {
   "cell_type": "code",
   "execution_count": 76,
   "id": "0f39fef8-ded3-44e1-b28c-bf79956d6a5c",
   "metadata": {},
   "outputs": [
    {
     "data": {
      "text/plain": [
       "[('Luffy', 19),\n",
       " ('Usopp', 20),\n",
       " ('Nami', 20),\n",
       " ('chopper', 20),\n",
       " ('Zoro', 21),\n",
       " ('Robin', 30)]"
      ]
     },
     "execution_count": 76,
     "metadata": {},
     "output_type": "execute_result"
    }
   ],
   "source": [
    "sorted(pirate_dict.items(), key=lambda x:x[1])"
   ]
  },
  {
   "cell_type": "markdown",
   "id": "51939020-9c5b-4c07-9b6b-3d753bb5c311",
   "metadata": {},
   "source": [
    "### slising"
   ]
  },
  {
   "cell_type": "code",
   "execution_count": 20,
   "id": "741d3dba-268d-48e2-ba19-c32a41323add",
   "metadata": {},
   "outputs": [
    {
     "name": "stdout",
     "output_type": "stream",
     "text": [
      "[2, 3, 4]\n",
      "[1, 3]\n",
      "[6, 5, 4, 3, 2, 1]\n"
     ]
    }
   ],
   "source": [
    "even = [1, 2, 3, 4, 5, 6]\n",
    "print(even[1:4])\n",
    "print(even[:4:2])\n",
    "print(even[::-1])"
   ]
  },
  {
   "cell_type": "code",
   "execution_count": 27,
   "id": "063b42c0-0c02-41c0-8d5c-a178fd699c9c",
   "metadata": {},
   "outputs": [
    {
     "name": "stdout",
     "output_type": "stream",
     "text": [
      "['Zoro', 'Usopp', 'Nami', 'Luffy', 'Robin', 'chopper']\n"
     ]
    }
   ],
   "source": [
    "pirate2 = ['Robin', 'chopper']\n",
    "print(pirate + pirate2)"
   ]
  },
  {
   "cell_type": "code",
   "execution_count": 29,
   "id": "a721d944-d955-43d3-8712-c3d7f9b611a5",
   "metadata": {},
   "outputs": [
    {
     "data": {
      "text/plain": [
       "['Zoro', 'Usopp', 'Nami', 'Luffy', ['Robin', 'chopper'], ['Robin', 'chopper']]"
      ]
     },
     "execution_count": 29,
     "metadata": {},
     "output_type": "execute_result"
    }
   ],
   "source": [
    "pirate.append(pirate2)\n",
    "pirate"
   ]
  },
  {
   "cell_type": "markdown",
   "id": "2ba88adf-5c0f-483e-9df9-bc4fa8d5e2c7",
   "metadata": {},
   "source": [
    "### slising, join"
   ]
  },
  {
   "cell_type": "code",
   "execution_count": 32,
   "id": "794d8456-0fac-44a0-88eb-8b8aefaa714e",
   "metadata": {},
   "outputs": [
    {
     "data": {
      "text/plain": [
       "'aki1531252@gmail.com'"
      ]
     },
     "execution_count": 32,
     "metadata": {},
     "output_type": "execute_result"
    }
   ],
   "source": [
    "address = ['aki1531252', 'gmail.com']\n",
    "mail = '@'.join(address)\n",
    "mail"
   ]
  },
  {
   "cell_type": "code",
   "execution_count": 34,
   "id": "ce0ef834-edce-4960-b7f3-d4e43bdaa397",
   "metadata": {},
   "outputs": [
    {
     "data": {
      "text/plain": [
       "['aki1531252', 'gmail.com']"
      ]
     },
     "execution_count": 34,
     "metadata": {},
     "output_type": "execute_result"
    }
   ],
   "source": [
    "mail.split('@')"
   ]
  },
  {
   "cell_type": "markdown",
   "id": "47e20926-1dc4-4ae0-84d5-995f3ebc945d",
   "metadata": {},
   "source": [
    "### ループのelse"
   ]
  },
  {
   "cell_type": "code",
   "execution_count": 40,
   "id": "630f0c05-40a0-4ed0-a2c8-f8223e90331b",
   "metadata": {},
   "outputs": [
    {
     "name": "stdin",
     "output_type": "stream",
     "text": [
      "あなたが探している海賊はLuffyですか(y/n) y\n"
     ]
    },
    {
     "name": "stdout",
     "output_type": "stream",
     "text": [
      "見つかってよかったですね\n"
     ]
    }
   ],
   "source": [
    "pirate = ['Luffy', 'Zoro', 'Sanji']\n",
    "for i in pirate:\n",
    "    choice = input(f'あなたが探している海賊は{i}ですか(y/n)')\n",
    "    if choice == 'y':\n",
    "        print('見つかってよかったですね')\n",
    "        break\n",
    "    else:\n",
    "        print('そうですか')\n",
    "else:\n",
    "    print(f'ループは以上です')"
   ]
  },
  {
   "cell_type": "code",
   "execution_count": 52,
   "id": "167683fe-f517-4f8b-9ac7-efc571e08cf3",
   "metadata": {},
   "outputs": [
    {
     "name": "stdout",
     "output_type": "stream",
     "text": [
      "0\n",
      "1\n",
      "2\n",
      "3\n",
      "4\n",
      "5\n",
      "6\n",
      "7\n",
      "8\n",
      "9\n",
      "count end\n"
     ]
    }
   ],
   "source": [
    "count = 0\n",
    "while count < 10:\n",
    "    print(count)\n",
    "    count += 1\n",
    "else:\n",
    "    print('count end')"
   ]
  },
  {
   "cell_type": "code",
   "execution_count": 59,
   "id": "fcc659ed-5d7b-44b0-b75b-a95640248178",
   "metadata": {},
   "outputs": [
    {
     "name": "stdin",
     "output_type": "stream",
     "text": [
      "game?(y/n): Your balance is 100 y\n"
     ]
    },
    {
     "name": "stdout",
     "output_type": "stream",
     "text": [
      "80\n"
     ]
    },
    {
     "name": "stdin",
     "output_type": "stream",
     "text": [
      "game?(y/n): Your balance is 80 y\n"
     ]
    },
    {
     "name": "stdout",
     "output_type": "stream",
     "text": [
      "60\n"
     ]
    },
    {
     "name": "stdin",
     "output_type": "stream",
     "text": [
      "game?(y/n): Your balance is 60 n\n"
     ]
    },
    {
     "name": "stdout",
     "output_type": "stream",
     "text": [
      "good bye\n"
     ]
    }
   ],
   "source": [
    "balance = 100\n",
    "game_price = 20\n",
    "\n",
    "while balance >= game_price:\n",
    "    choice = input(f'game?(y/n): Your balance is {balance}')\n",
    "    if choice == 'y':\n",
    "        balance -= game_price\n",
    "        print(f'{balance}')\n",
    "    elif choice == 'n':\n",
    "        print('good bye')\n",
    "        break\n",
    "    else:\n",
    "        print('Enter y or n')\n",
    "else:\n",
    "    print(f'Your balance is {balance}')"
   ]
  },
  {
   "cell_type": "code",
   "execution_count": null,
   "id": "8fea1d7f-90a9-4575-ac3a-e07694acce78",
   "metadata": {},
   "outputs": [],
   "source": []
  }
 ],
 "metadata": {
  "kernelspec": {
   "display_name": "Python 3 (ipykernel)",
   "language": "python",
   "name": "python3"
  },
  "language_info": {
   "codemirror_mode": {
    "name": "ipython",
    "version": 3
   },
   "file_extension": ".py",
   "mimetype": "text/x-python",
   "name": "python",
   "nbconvert_exporter": "python",
   "pygments_lexer": "ipython3",
   "version": "3.9.13"
  }
 },
 "nbformat": 4,
 "nbformat_minor": 5
}
