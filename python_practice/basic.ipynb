{
 "cells": [
  {
   "cell_type": "code",
   "execution_count": 5,
   "id": "8f1a4270-f4e6-4680-ac93-15e501be7286",
   "metadata": {},
   "outputs": [
    {
     "name": "stdout",
     "output_type": "stream",
     "text": [
      "a is True\n"
     ]
    }
   ],
   "source": [
    "# is\n",
    "a = 1\n",
    "b = 2 - 1\n",
    "if a is b:\n",
    "    print('a is True')"
   ]
  },
  {
   "cell_type": "markdown",
   "id": "0970bf75-fe01-4a95-9a3d-477f1ec4c650",
   "metadata": {},
   "source": [
    "### list"
   ]
  },
  {
   "cell_type": "code",
   "execution_count": 26,
   "id": "8bcc89e7-fadf-4cd4-a97d-cf78b62776cf",
   "metadata": {},
   "outputs": [
    {
     "name": "stdout",
     "output_type": "stream",
     "text": [
      "['Luffy', 'Zoro', 'Sanji', 'Nami']\n",
      "['Luffy', 'Zoro', 'Sanji', 'Usopp', 'Nami']\n",
      "['Luffy', 'Zoro', 'Usopp', 'Nami']\n",
      "['Zoro', 'Usopp', 'Nami', 'Luffy']\n",
      "4\n"
     ]
    }
   ],
   "source": [
    "pirate = ['Luffy', 'Zoro', 'Sanji']\n",
    "pirate.append('Nami')\n",
    "print(pirate)\n",
    "pirate.insert(-1, 'Usopp')\n",
    "print(pirate)\n",
    "pirate.remove('Sanji')\n",
    "print(pirate)\n",
    "pirate.sort(reverse=True)\n",
    "print(pirate)\n",
    "print(len(pirate))"
   ]
  },
  {
   "cell_type": "code",
   "execution_count": 62,
   "id": "06228bd7-58f6-4d45-84c8-eb990dfb6b21",
   "metadata": {},
   "outputs": [
    {
     "name": "stdout",
     "output_type": "stream",
     "text": [
      "0\n",
      "Luffy\n",
      "1\n",
      "Zoro\n",
      "2\n",
      "Sanji\n"
     ]
    }
   ],
   "source": [
    "for idx, p in enumerate(pirate):\n",
    "    print(idx)\n",
    "    print(p)"
   ]
  },
  {
   "cell_type": "code",
   "execution_count": 63,
   "id": "6f50f2b7-ecc5-4202-a33c-aecf03898d9e",
   "metadata": {},
   "outputs": [
    {
     "name": "stdout",
     "output_type": "stream",
     "text": [
      "(0, 'Luffy')\n",
      "(1, 'Zoro')\n",
      "(2, 'Sanji')\n"
     ]
    }
   ],
   "source": [
    "for x in enumerate(pirate):\n",
    "    print(x)"
   ]
  },
  {
   "cell_type": "code",
   "execution_count": 65,
   "id": "e1f93003-62ba-4b88-9272-f43b0b451162",
   "metadata": {},
   "outputs": [
    {
     "data": {
      "text/plain": [
       "[0, 1, 4, 9, 16, 25, 36, 49, 64, 81]"
      ]
     },
     "execution_count": 65,
     "metadata": {},
     "output_type": "execute_result"
    }
   ],
   "source": [
    "square_list = [i ** 2 for i in range(10)]\n",
    "square_list"
   ]
  },
  {
   "cell_type": "code",
   "execution_count": 66,
   "id": "29d6c296-35ad-4280-9ea1-3a0bf4a1333c",
   "metadata": {},
   "outputs": [
    {
     "data": {
      "text/plain": [
       "[0, 4, 16, 36, 64]"
      ]
     },
     "execution_count": 66,
     "metadata": {},
     "output_type": "execute_result"
    }
   ],
   "source": [
    "square_list = [i ** 2 for i in range(10) if i % 2 == 0]\n",
    "square_list"
   ]
  },
  {
<<<<<<< HEAD
   "cell_type": "code",
   "execution_count": 77,
   "id": "94e9eac5-e114-466d-95a8-c7caa3f0808b",
   "metadata": {},
   "outputs": [
    {
     "data": {
      "text/plain": [
       "{1, 2, 4, 5, 6, 34}"
      ]
     },
     "execution_count": 77,
     "metadata": {},
     "output_type": "execute_result"
    }
   ],
   "source": [
    "num_list = [1, 1, 2, 34, 4, 5, 6, 6]\n",
    "set(num_list)"
   ]
  },
  {
=======
>>>>>>> 9fc6c8eee45fd6215ca1cd4b54bb7886d80ff5d6
   "cell_type": "markdown",
   "id": "5239c0ee-70c9-4c91-b75e-5e475a61b453",
   "metadata": {},
   "source": [
    "### dictionary"
   ]
  },
  {
   "cell_type": "code",
   "execution_count": 69,
   "id": "34acda0d-cbb6-4fca-ae6d-79d36b87c5f1",
   "metadata": {},
   "outputs": [
    {
     "data": {
      "text/plain": [
       "19"
      ]
     },
     "execution_count": 69,
     "metadata": {},
     "output_type": "execute_result"
    }
   ],
   "source": [
    "pirate_dict = {'Luffy': 19, 'Zoro': 21, 'Usopp': 20}\n",
    "pirate_dict.get('Luffy', 'notthing')"
   ]
  },
  {
   "cell_type": "code",
   "execution_count": 71,
   "id": "11c1b280-4f8f-4fb2-9f52-507a7cb1bea9",
   "metadata": {},
   "outputs": [
    {
     "name": "stdin",
     "output_type": "stream",
     "text": [
      "What do you like about pirates Nami\n"
     ]
    },
    {
     "data": {
      "text/plain": [
       "'nothing'"
      ]
     },
     "execution_count": 71,
     "metadata": {},
     "output_type": "execute_result"
    }
   ],
   "source": [
    "like_person = input('What do you like about pirates')\n",
    "pirate_dict.get(like_person, 'nothing')"
   ]
  },
  {
   "cell_type": "code",
   "execution_count": 73,
   "id": "d0ce0784-3239-4e87-9898-98f0a62f8e2e",
   "metadata": {},
   "outputs": [
    {
     "data": {
      "text/plain": [
       "{'Luffy': 19, 'Zoro': 21, 'Usopp': 20, 'Nami': 20, 'Robin': 30, 'chopper': 20}"
      ]
     },
     "execution_count": 73,
     "metadata": {},
     "output_type": "execute_result"
    }
   ],
   "source": [
    "pirate_dict2 = {'Nami': 20, 'Robin': 30, 'chopper': 20}\n",
    "pirate_dict.update(pirate_dict2)\n",
    "pirate_dict"
   ]
  },
  {
   "cell_type": "code",
   "execution_count": 76,
   "id": "0f39fef8-ded3-44e1-b28c-bf79956d6a5c",
   "metadata": {},
   "outputs": [
    {
     "data": {
      "text/plain": [
       "[('Luffy', 19),\n",
       " ('Usopp', 20),\n",
       " ('Nami', 20),\n",
       " ('chopper', 20),\n",
       " ('Zoro', 21),\n",
       " ('Robin', 30)]"
      ]
     },
     "execution_count": 76,
     "metadata": {},
     "output_type": "execute_result"
    }
   ],
   "source": [
    "sorted(pirate_dict.items(), key=lambda x:x[1])"
   ]
  },
  {
   "cell_type": "markdown",
   "id": "51939020-9c5b-4c07-9b6b-3d753bb5c311",
   "metadata": {},
   "source": [
    "### slising"
   ]
  },
  {
   "cell_type": "code",
   "execution_count": 20,
   "id": "741d3dba-268d-48e2-ba19-c32a41323add",
   "metadata": {},
   "outputs": [
    {
     "name": "stdout",
     "output_type": "stream",
     "text": [
      "[2, 3, 4]\n",
      "[1, 3]\n",
      "[6, 5, 4, 3, 2, 1]\n"
     ]
    }
   ],
   "source": [
    "even = [1, 2, 3, 4, 5, 6]\n",
    "print(even[1:4])\n",
    "print(even[:4:2])\n",
    "print(even[::-1])"
   ]
  },
  {
   "cell_type": "code",
   "execution_count": 27,
   "id": "063b42c0-0c02-41c0-8d5c-a178fd699c9c",
   "metadata": {},
   "outputs": [
    {
     "name": "stdout",
     "output_type": "stream",
     "text": [
      "['Zoro', 'Usopp', 'Nami', 'Luffy', 'Robin', 'chopper']\n"
     ]
    }
   ],
   "source": [
    "pirate2 = ['Robin', 'chopper']\n",
    "print(pirate + pirate2)"
   ]
  },
  {
   "cell_type": "code",
   "execution_count": 29,
   "id": "a721d944-d955-43d3-8712-c3d7f9b611a5",
   "metadata": {},
   "outputs": [
    {
     "data": {
      "text/plain": [
       "['Zoro', 'Usopp', 'Nami', 'Luffy', ['Robin', 'chopper'], ['Robin', 'chopper']]"
      ]
     },
     "execution_count": 29,
     "metadata": {},
     "output_type": "execute_result"
    }
   ],
   "source": [
    "pirate.append(pirate2)\n",
    "pirate"
   ]
  },
  {
   "cell_type": "markdown",
   "id": "2ba88adf-5c0f-483e-9df9-bc4fa8d5e2c7",
   "metadata": {},
   "source": [
    "### slising, join"
   ]
  },
  {
   "cell_type": "code",
   "execution_count": 32,
   "id": "794d8456-0fac-44a0-88eb-8b8aefaa714e",
   "metadata": {},
   "outputs": [
    {
     "data": {
      "text/plain": [
       "'aki1531252@gmail.com'"
      ]
     },
     "execution_count": 32,
     "metadata": {},
     "output_type": "execute_result"
    }
   ],
   "source": [
    "address = ['aki1531252', 'gmail.com']\n",
    "mail = '@'.join(address)\n",
    "mail"
   ]
  },
  {
   "cell_type": "code",
   "execution_count": 34,
   "id": "ce0ef834-edce-4960-b7f3-d4e43bdaa397",
   "metadata": {},
   "outputs": [
    {
     "data": {
      "text/plain": [
       "['aki1531252', 'gmail.com']"
      ]
     },
     "execution_count": 34,
     "metadata": {},
     "output_type": "execute_result"
    }
   ],
   "source": [
    "mail.split('@')"
   ]
  },
  {
   "cell_type": "markdown",
   "id": "47e20926-1dc4-4ae0-84d5-995f3ebc945d",
   "metadata": {},
   "source": [
    "### ループのelse"
   ]
  },
  {
   "cell_type": "code",
   "execution_count": 40,
   "id": "630f0c05-40a0-4ed0-a2c8-f8223e90331b",
   "metadata": {},
   "outputs": [
    {
     "name": "stdin",
     "output_type": "stream",
     "text": [
      "あなたが探している海賊はLuffyですか(y/n) y\n"
     ]
    },
    {
     "name": "stdout",
     "output_type": "stream",
     "text": [
      "見つかってよかったですね\n"
     ]
    }
   ],
   "source": [
    "pirate = ['Luffy', 'Zoro', 'Sanji']\n",
    "for i in pirate:\n",
    "    choice = input(f'あなたが探している海賊は{i}ですか(y/n)')\n",
    "    if choice == 'y':\n",
    "        print('見つかってよかったですね')\n",
    "        break\n",
    "    else:\n",
    "        print('そうですか')\n",
    "else:\n",
    "    print(f'ループは以上です')"
   ]
  },
  {
   "cell_type": "code",
   "execution_count": 52,
   "id": "167683fe-f517-4f8b-9ac7-efc571e08cf3",
   "metadata": {},
   "outputs": [
    {
     "name": "stdout",
     "output_type": "stream",
     "text": [
      "0\n",
      "1\n",
      "2\n",
      "3\n",
      "4\n",
      "5\n",
      "6\n",
      "7\n",
      "8\n",
      "9\n",
      "count end\n"
     ]
    }
   ],
   "source": [
    "count = 0\n",
    "while count < 10:\n",
    "    print(count)\n",
    "    count += 1\n",
    "else:\n",
    "    print('count end')"
   ]
  },
  {
   "cell_type": "code",
   "execution_count": 59,
   "id": "fcc659ed-5d7b-44b0-b75b-a95640248178",
   "metadata": {},
   "outputs": [
    {
     "name": "stdin",
     "output_type": "stream",
     "text": [
      "game?(y/n): Your balance is 100 y\n"
     ]
    },
    {
     "name": "stdout",
     "output_type": "stream",
     "text": [
      "80\n"
     ]
    },
    {
     "name": "stdin",
     "output_type": "stream",
     "text": [
      "game?(y/n): Your balance is 80 y\n"
     ]
    },
    {
     "name": "stdout",
     "output_type": "stream",
     "text": [
      "60\n"
     ]
    },
    {
     "name": "stdin",
     "output_type": "stream",
     "text": [
      "game?(y/n): Your balance is 60 n\n"
     ]
    },
    {
     "name": "stdout",
     "output_type": "stream",
     "text": [
      "good bye\n"
     ]
    }
   ],
   "source": [
    "balance = 100\n",
    "game_price = 20\n",
    "\n",
    "while balance >= game_price:\n",
    "    choice = input(f'game?(y/n): Your balance is {balance}')\n",
    "    if choice == 'y':\n",
    "        balance -= game_price\n",
    "        print(f'{balance}')\n",
    "    elif choice == 'n':\n",
    "        print('good bye')\n",
    "        break\n",
    "    else:\n",
    "        print('Enter y or n')\n",
    "else:\n",
    "    print(f'Your balance is {balance}')"
   ]
  },
  {
<<<<<<< HEAD
   "cell_type": "markdown",
   "id": "3342695b-7d04-4a1d-9d31-fcd8da79d00c",
   "metadata": {},
   "source": [
    "### mutable, immutable"
   ]
  },
  {
   "cell_type": "code",
   "execution_count": 3,
   "id": "8fea1d7f-90a9-4575-ac3a-e07694acce78",
   "metadata": {},
   "outputs": [
    {
     "name": "stdout",
     "output_type": "stream",
     "text": [
      "140531041102528\n",
      "140531041102528\n",
      "**********\n",
      "140531041051824\n",
      "aki@gmail.com non\n",
      "140531037020688\n"
     ]
    }
   ],
   "source": [
    "pirate = ['luffy', 'nami']\n",
    "\n",
    "mail = 'aki@gmail.com'\n",
    "\n",
    "\n",
    "# mutable(list, dict, set)\n",
    "print(id(pirate))\n",
    "pirate.append('zoro')\n",
    "print(id(pirate))\n",
    "print('*'*10)\n",
    "\n",
    "# immutable(int, floot, str, bool, tuple)\n",
    "print(id(mail))\n",
    "mail += ' non'\n",
    "print(mail)\n",
    "print(id(mail))"
   ]
  },
  {
   "cell_type": "code",
   "execution_count": 8,
   "id": "47290a3f-e526-4031-9491-20dcecc5fd21",
   "metadata": {},
   "outputs": [
    {
     "name": "stdout",
     "output_type": "stream",
     "text": [
      "1-2-3-4-5-6-7-8-9-10\n"
     ]
    }
   ],
   "source": [
    "for i in range(1, 11):\n",
    "    if i == 10:\n",
    "        print(str(i))\n",
    "    else:\n",
    "        print(str(i)+'-', end='')"
   ]
  },
  {
   "cell_type": "code",
   "execution_count": 9,
   "id": "99de3731-e52c-4f86-b1cb-b0df540c0f86",
   "metadata": {},
   "outputs": [
    {
     "name": "stdout",
     "output_type": "stream",
     "text": [
      "1-2-3-4-5-6-7-8-9-10\n"
     ]
    }
   ],
   "source": [
    "# 文字列はimmutableなので毎回新しい変数(text)を作る ＝　非効率\n",
    "text = ''\n",
    "for i in range(1, 11):\n",
    "    if i == 1:\n",
    "        text += str(i)\n",
    "    else:\n",
    "        text += '-' + str(i)\n",
    "print(text)"
   ]
  },
  {
   "cell_type": "code",
   "execution_count": 12,
   "id": "6a914b14-0ebb-4df9-a1eb-b469ef3cb57d",
   "metadata": {},
   "outputs": [
    {
     "data": {
      "text/plain": [
       "'1-2-3-4-5-6-7-8-9-10'"
      ]
     },
     "execution_count": 12,
     "metadata": {},
     "output_type": "execute_result"
    }
   ],
   "source": [
    "text_list = []\n",
    "for i in range(1, 11):\n",
    "    text_list.append(str(i))\n",
    "    \n",
    "text = '-'.join(text_list)\n",
    "text"
   ]
  },
  {
   "cell_type": "code",
   "execution_count": 17,
   "id": "a104c896-1cd2-478b-a53a-697395f66b42",
   "metadata": {},
   "outputs": [
    {
     "data": {
      "text/plain": [
       "'1-2-3-4-5-6-7-8-9-10'"
      ]
     },
     "execution_count": 17,
     "metadata": {},
     "output_type": "execute_result"
    }
   ],
   "source": [
    "text = [str(i) for i in range(1, 11)]\n",
    "'-'.join(text)"
   ]
  },
  {
   "cell_type": "code",
   "execution_count": 2,
   "id": "b9d61a0f-eb7d-41e1-a617-323a41362301",
   "metadata": {},
   "outputs": [
    {
     "data": {
      "text/plain": [
       "4"
      ]
     },
     "execution_count": 2,
     "metadata": {},
     "output_type": "execute_result"
    }
   ],
   "source": [
    "len(str(2019))"
   ]
  },
  {
   "cell_type": "code",
   "execution_count": null,
   "id": "24425b24-5cab-4615-a0f4-c5ba4e501df6",
   "metadata": {},
   "outputs": [],
   "source": [
    "# データを記録する期間を確認する\n",
    "def user_month():\n",
    "    print('月々の収入を記録します。記録する年と月を半角英数字で入力してください。')\n",
    "    while True:  # 正しい値が入力されるまでループする\n",
    "        f_year, f_month = map(int, input('開始月：○○年○○月　(入力例：2019 7)').split())\n",
    "        l_year, l_month = map(int, input('終了月：○○年○○月　(入力例：2021 12)').split())\n",
    "        if (1980 <= f_year <= 2024) and (1980 <= l_year <= 2024):\n",
    "            year = l_year - f_year\n",
    "            # 入力が１月〜１２月であるか判定する\n",
    "            if 0 < f_month < 13 and 0 < l_month < 13: \n",
    "                if f_month < l_month:\n",
    "                    months = l_month - f_month + 1\n",
    "                    print(f'{f_year}年{f_month}月〜{l_year}年{l_month}月の{year}年と{months}ヶ月間の収入を記録します。')\n",
    "                    break\n",
    "                else:\n",
    "                    months = (13-f_month) + l_month\n",
    "                    year -= 1\n",
    "                    if months == 12:\n",
    "                        year += 1\n",
    "                        months = 0\n",
    "                    print(f'{f_year}年{f_month}月〜{l_year}年{l_month}月の{year}年と{months}ヶ月間の収入を記録します。')   \n",
    "                    break\n",
    "            else:\n",
    "                print('入力された値が正しくありません')\n",
    "        else:\n",
    "            print('入力が正しくないか、期間が長すぎます。')\n",
    "    return f_month, l_month, months\n",
    "\n",
    "\n",
    "f_month, l_month, period = user_month()"
   ]
  },
  {
   "cell_type": "code",
   "execution_count": 12,
   "id": "82977015-ce94-42d5-8811-43a699f93e59",
   "metadata": {},
   "outputs": [
    {
     "name": "stdin",
     "output_type": "stream",
     "text": [
      "開始月：○○年○○月　(入力例：2019 7) 2010 8\n",
      "終了月：○○年○○月　(入力例：2021 12) 2020 12\n"
     ]
    }
   ],
   "source": [
    "f_year, f_month = map(int, input('開始月：○○年○○月　(入力例：2019 7)').split())\n",
    "l_year, l_month = map(int, input('終了月：○○年○○月　(入力例：2021 12)').split())\n",
    "\n",
    "year_month_tuple = (\n",
    "(f_year, f_month),\n",
    "(l_year, l_month)\n",
    ")"
   ]
  },
  {
   "cell_type": "code",
   "execution_count": 27,
   "id": "9ab5eefa-7cc8-41af-9997-cdca90ae54be",
   "metadata": {},
   "outputs": [
    {
     "name": "stdin",
     "output_type": "stream",
     "text": [
      "開始月：○○年○○月　(入力例：2019 7) 2010 8\n",
      "終了月：○○年○○月　(入力例：2021 12) 2020 7\n"
     ]
    },
    {
     "name": "stdout",
     "output_type": "stream",
     "text": [
      "2010年8月から\n"
     ]
    },
    {
     "ename": "KeyboardInterrupt",
     "evalue": "Interrupted by user",
     "output_type": "error",
     "traceback": [
      "\u001b[0;31m---------------------------------------------------------------------------\u001b[0m",
      "\u001b[0;31mKeyboardInterrupt\u001b[0m                         Traceback (most recent call last)",
      "\u001b[0;32m/tmp/ipykernel_248/2798263262.py\u001b[0m in \u001b[0;36m<module>\u001b[0;34m\u001b[0m\n\u001b[1;32m      2\u001b[0m     \u001b[0mprint\u001b[0m\u001b[0;34m(\u001b[0m\u001b[0;34m'月々の収入を記録します。記録する年と月を半角英数字で入力してください。'\u001b[0m\u001b[0;34m)\u001b[0m\u001b[0;34m\u001b[0m\u001b[0;34m\u001b[0m\u001b[0m\n\u001b[1;32m      3\u001b[0m \u001b[0;32mwhile\u001b[0m \u001b[0;32mTrue\u001b[0m\u001b[0;34m:\u001b[0m\u001b[0;34m\u001b[0m\u001b[0;34m\u001b[0m\u001b[0m\n\u001b[0;32m----> 4\u001b[0;31m     \u001b[0mf_year\u001b[0m\u001b[0;34m,\u001b[0m \u001b[0mf_month\u001b[0m \u001b[0;34m=\u001b[0m \u001b[0mmap\u001b[0m\u001b[0;34m(\u001b[0m\u001b[0mint\u001b[0m\u001b[0;34m,\u001b[0m \u001b[0minput\u001b[0m\u001b[0;34m(\u001b[0m\u001b[0;34m'開始月：○○年○○月　(入力例：2019 7)'\u001b[0m\u001b[0;34m)\u001b[0m\u001b[0;34m.\u001b[0m\u001b[0msplit\u001b[0m\u001b[0;34m(\u001b[0m\u001b[0;34m)\u001b[0m\u001b[0;34m)\u001b[0m\u001b[0;34m\u001b[0m\u001b[0;34m\u001b[0m\u001b[0m\n\u001b[0m\u001b[1;32m      5\u001b[0m     \u001b[0ml_year\u001b[0m\u001b[0;34m,\u001b[0m \u001b[0ml_month\u001b[0m \u001b[0;34m=\u001b[0m \u001b[0mmap\u001b[0m\u001b[0;34m(\u001b[0m\u001b[0mint\u001b[0m\u001b[0;34m,\u001b[0m \u001b[0minput\u001b[0m\u001b[0;34m(\u001b[0m\u001b[0;34m'終了月：○○年○○月　(入力例：2021 12)'\u001b[0m\u001b[0;34m)\u001b[0m\u001b[0;34m.\u001b[0m\u001b[0msplit\u001b[0m\u001b[0;34m(\u001b[0m\u001b[0;34m)\u001b[0m\u001b[0;34m)\u001b[0m\u001b[0;34m\u001b[0m\u001b[0;34m\u001b[0m\u001b[0m\n\u001b[1;32m      6\u001b[0m     \u001b[0myear_month_tuple\u001b[0m \u001b[0;34m=\u001b[0m \u001b[0;34m(\u001b[0m\u001b[0;34m(\u001b[0m\u001b[0mf_year\u001b[0m\u001b[0;34m,\u001b[0m \u001b[0mf_month\u001b[0m\u001b[0;34m)\u001b[0m\u001b[0;34m,\u001b[0m\u001b[0;34m(\u001b[0m\u001b[0ml_year\u001b[0m\u001b[0;34m,\u001b[0m \u001b[0ml_month\u001b[0m\u001b[0;34m)\u001b[0m\u001b[0;34m)\u001b[0m\u001b[0;34m\u001b[0m\u001b[0;34m\u001b[0m\u001b[0m\n",
      "\u001b[0;32m/opt/anaconda3/lib/python3.9/site-packages/ipykernel/kernelbase.py\u001b[0m in \u001b[0;36mraw_input\u001b[0;34m(self, prompt)\u001b[0m\n\u001b[1;32m   1175\u001b[0m                 \u001b[0;34m\"raw_input was called, but this frontend does not support input requests.\"\u001b[0m\u001b[0;34m\u001b[0m\u001b[0;34m\u001b[0m\u001b[0m\n\u001b[1;32m   1176\u001b[0m             )\n\u001b[0;32m-> 1177\u001b[0;31m         return self._input_request(\n\u001b[0m\u001b[1;32m   1178\u001b[0m             \u001b[0mstr\u001b[0m\u001b[0;34m(\u001b[0m\u001b[0mprompt\u001b[0m\u001b[0;34m)\u001b[0m\u001b[0;34m,\u001b[0m\u001b[0;34m\u001b[0m\u001b[0;34m\u001b[0m\u001b[0m\n\u001b[1;32m   1179\u001b[0m             \u001b[0mself\u001b[0m\u001b[0;34m.\u001b[0m\u001b[0m_parent_ident\u001b[0m\u001b[0;34m[\u001b[0m\u001b[0;34m\"shell\"\u001b[0m\u001b[0;34m]\u001b[0m\u001b[0;34m,\u001b[0m\u001b[0;34m\u001b[0m\u001b[0;34m\u001b[0m\u001b[0m\n",
      "\u001b[0;32m/opt/anaconda3/lib/python3.9/site-packages/ipykernel/kernelbase.py\u001b[0m in \u001b[0;36m_input_request\u001b[0;34m(self, prompt, ident, parent, password)\u001b[0m\n\u001b[1;32m   1217\u001b[0m             \u001b[0;32mexcept\u001b[0m \u001b[0mKeyboardInterrupt\u001b[0m\u001b[0;34m:\u001b[0m\u001b[0;34m\u001b[0m\u001b[0;34m\u001b[0m\u001b[0m\n\u001b[1;32m   1218\u001b[0m                 \u001b[0;31m# re-raise KeyboardInterrupt, to truncate traceback\u001b[0m\u001b[0;34m\u001b[0m\u001b[0;34m\u001b[0m\u001b[0m\n\u001b[0;32m-> 1219\u001b[0;31m                 \u001b[0;32mraise\u001b[0m \u001b[0mKeyboardInterrupt\u001b[0m\u001b[0;34m(\u001b[0m\u001b[0;34m\"Interrupted by user\"\u001b[0m\u001b[0;34m)\u001b[0m \u001b[0;32mfrom\u001b[0m \u001b[0;32mNone\u001b[0m\u001b[0;34m\u001b[0m\u001b[0;34m\u001b[0m\u001b[0m\n\u001b[0m\u001b[1;32m   1220\u001b[0m             \u001b[0;32mexcept\u001b[0m \u001b[0mException\u001b[0m\u001b[0;34m:\u001b[0m\u001b[0;34m\u001b[0m\u001b[0;34m\u001b[0m\u001b[0m\n\u001b[1;32m   1221\u001b[0m                 \u001b[0mself\u001b[0m\u001b[0;34m.\u001b[0m\u001b[0mlog\u001b[0m\u001b[0;34m.\u001b[0m\u001b[0mwarning\u001b[0m\u001b[0;34m(\u001b[0m\u001b[0;34m\"Invalid Message:\"\u001b[0m\u001b[0;34m,\u001b[0m \u001b[0mexc_info\u001b[0m\u001b[0;34m=\u001b[0m\u001b[0;32mTrue\u001b[0m\u001b[0;34m)\u001b[0m\u001b[0;34m\u001b[0m\u001b[0;34m\u001b[0m\u001b[0m\n",
      "\u001b[0;31mKeyboardInterrupt\u001b[0m: Interrupted by user"
     ]
    }
   ],
   "source": [
    "def user_month():\n",
    "    print('月々の収入を記録します。記録する年と月を半角英数字で入力してください。')\n",
    "while True:\n",
    "    f_year, f_month = map(int, input('開始月：○○年○○月　(入力例：2019 7)').split())\n",
    "    l_year, l_month = map(int, input('終了月：○○年○○月　(入力例：2021 12)').split())\n",
    "    year_month_tuple = ((f_year, f_month),(l_year, l_month))\n",
    "    \n",
    "    if not(1990 < f_year < 2024) and not(1900 < l_year < 2024):\n",
    "        print('入力された値が正しくないです。')\n",
    "    else:\n",
    "        for idx, data in enumerate(year_month_tuple):\n",
    "            y, m = data\n",
    "            if idx == 0:\n",
    "                f_year = y\n",
    "                f_month = m\n",
    "                print(f'{y}年{m}月から')\n",
    "            else:\n",
    "                years = y - f_year\n",
    "                months = m - f_month\n",
    "                print(f'{y}年{m}月までの{years}年と{months}ヶ月の間の記録を行います。')  "
   ]
  },
  {
   "cell_type": "code",
   "execution_count": 23,
   "id": "2db78824-0bda-4009-8670-678e5767b81d",
   "metadata": {},
   "outputs": [
    {
     "data": {
      "text/plain": [
       "-10"
      ]
     },
     "execution_count": 23,
     "metadata": {},
     "output_type": "execute_result"
    }
   ],
   "source": []
  },
  {
   "cell_type": "code",
   "execution_count": null,
   "id": "d226138b-3c45-48ce-a543-621b8fa12462",
=======
   "cell_type": "code",
   "execution_count": null,
   "id": "8fea1d7f-90a9-4575-ac3a-e07694acce78",
>>>>>>> 9fc6c8eee45fd6215ca1cd4b54bb7886d80ff5d6
   "metadata": {},
   "outputs": [],
   "source": []
  }
 ],
 "metadata": {
  "kernelspec": {
   "display_name": "Python 3 (ipykernel)",
   "language": "python",
   "name": "python3"
  },
  "language_info": {
   "codemirror_mode": {
    "name": "ipython",
    "version": 3
   },
   "file_extension": ".py",
   "mimetype": "text/x-python",
   "name": "python",
   "nbconvert_exporter": "python",
   "pygments_lexer": "ipython3",
   "version": "3.9.13"
  }
 },
 "nbformat": 4,
 "nbformat_minor": 5
}
