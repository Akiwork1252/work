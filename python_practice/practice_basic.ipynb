{
 "cells": [
  {
   "cell_type": "code",
   "execution_count": 12,
   "id": "ab87518c-4c6d-4ccb-85ea-2618886950ad",
   "metadata": {},
   "outputs": [
    {
     "name": "stdout",
     "output_type": "stream",
     "text": [
      "月々の収入を記録できます。記録する月を半角英数字で入力してください\n"
     ]
    },
    {
     "name": "stdin",
     "output_type": "stream",
     "text": [
      "何月から＞＞＞＞ 8\n",
      "何月まで＞＞＞＞ 7\n"
     ]
    },
    {
     "name": "stdout",
     "output_type": "stream",
     "text": [
      "8月から7月までの12ヶ月間の収入を記録します。\n"
     ]
    }
   ],
   "source": [
    "# 何ヶ月のデータを記録するか確認する\n",
    "def user_month():\n",
    "    print('月々の収入を記録できます。記録する月を半角英数字で入力してください')\n",
    "    first_month = int(input('何月から＞＞＞＞'))\n",
    "    last_month = int(input('何月まで＞＞＞＞'))\n",
    "    if first_month < last_month:\n",
    "        months = last_month - first_month + 1\n",
    "        print(f'{first_month}月から{last_month}月までの{months}ヶ月間の収入を記録します。')\n",
    "    else:\n",
    "        months = (13-first_month) + last_month\n",
    "        print(f'{first_month}月から{last_month}月までの{months}ヶ月間の収入を記録します。')   \n",
    "              \n",
    "user_month()"
   ]
  },
  {
   "cell_type": "code",
   "execution_count": null,
   "id": "f991fa3f-2194-4256-a675-a0030e1a52b9",
   "metadata": {},
   "outputs": [],
   "source": [
    "# データをdictinaryで保存する\n",
    "def data_dict():\n",
    "    pass"
   ]
  },
  {
   "cell_type": "code",
   "execution_count": null,
   "id": "70fed995-4435-430e-9978-0334624b52d7",
   "metadata": {},
   "outputs": [],
   "source": [
    "# 現在の保持データを表示する\n",
    "def display():\n",
    "    pass"
   ]
  },
  {
   "cell_type": "code",
   "execution_count": null,
   "id": "8d9b3cd6-795a-489b-bf80-419351c859a5",
   "metadata": {},
   "outputs": [],
   "source": [
    "# 個々のデータの再確認を行う\n",
    "def check_data():\n",
    "    pass"
   ]
  },
  {
   "cell_type": "code",
   "execution_count": null,
   "id": "9f0f6810-832a-4be7-ac56-df8f05e88042",
   "metadata": {},
   "outputs": [],
   "source": [
    "# 既存データの修正を行う\n",
    "def data_fixes():\n",
    "    pass"
   ]
  },
  {
   "cell_type": "code",
   "execution_count": null,
   "id": "ca15381a-61cb-4144-9733-c80fa3600ecf",
   "metadata": {},
   "outputs": [],
   "source": [
    "# データの追加を行う\n",
    "def add_data():\n",
    "    pass"
   ]
  },
  {
   "cell_type": "code",
   "execution_count": null,
   "id": "f6e3581c-a909-4c72-b63b-79f3f3af2e65",
   "metadata": {},
   "outputs": [],
   "source": []
  },
  {
   "cell_type": "code",
   "execution_count": 4,
   "id": "7eeff600-db64-4d86-aea9-c1317da79f14",
   "metadata": {},
   "outputs": [
    {
     "data": {
      "text/plain": [
       "18"
      ]
     },
     "execution_count": 4,
     "metadata": {},
     "output_type": "execute_result"
    }
   ],
   "source": [
    "f=9, l=3\n",
    "13-f+l\n"
   ]
  },
  {
   "cell_type": "code",
   "execution_count": null,
   "id": "727ada2e-e995-4719-b843-aaf06559d203",
   "metadata": {},
   "outputs": [],
   "source": []
  }
 ],
 "metadata": {
  "kernelspec": {
   "display_name": "Python 3 (ipykernel)",
   "language": "python",
   "name": "python3"
  },
  "language_info": {
   "codemirror_mode": {
    "name": "ipython",
    "version": 3
   },
   "file_extension": ".py",
   "mimetype": "text/x-python",
   "name": "python",
   "nbconvert_exporter": "python",
   "pygments_lexer": "ipython3",
   "version": "3.9.13"
  }
 },
 "nbformat": 4,
 "nbformat_minor": 5
}
