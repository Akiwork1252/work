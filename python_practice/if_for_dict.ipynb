{
 "cells": [
  {
   "cell_type": "code",
   "execution_count": 4,
   "id": "fc6f6afc-31f5-4318-84b0-2b260efd9c0e",
   "metadata": {},
   "outputs": [
    {
     "name": "stdout",
     "output_type": "stream",
     "text": [
      "月々の収入を記録できます。記録する月を半角英数字で入力してください。\n"
     ]
    },
    {
     "name": "stdin",
     "output_type": "stream",
     "text": [
      "何月から＞＞＞＞ 13\n",
      "何月まで＞＞＞＞ 3\n"
     ]
    },
    {
     "name": "stdout",
     "output_type": "stream",
     "text": [
      "入力された値が正しくありません\n"
     ]
    },
    {
     "name": "stdin",
     "output_type": "stream",
     "text": [
      "何月から＞＞＞＞ 0\n",
      "何月まで＞＞＞＞ 13\n"
     ]
    },
    {
     "name": "stdout",
     "output_type": "stream",
     "text": [
      "入力された値が正しくありません\n"
     ]
    },
    {
     "name": "stdin",
     "output_type": "stream",
     "text": [
      "何月から＞＞＞＞ 12\n",
      "何月まで＞＞＞＞ 4\n"
     ]
    },
    {
     "name": "stdout",
     "output_type": "stream",
     "text": [
      "12月から翌年4月までの5ヶ月間の収入を記録します。\n"
     ]
    }
   ],
   "source": [
    "# データを記録する期間を確認する\n",
    "def user_month():\n",
    "    print('月々の収入を記録できます。記録する月を半角英数字で入力してください。')\n",
    "    while True:  # 正しい値が入力されるまでループする\n",
    "        first_month = int(input('何月から＞＞＞＞')) \n",
    "        last_month = int(input('何月まで＞＞＞＞'))\n",
    "        if 0 < first_month < 13 and 0 < last_month < 13: # 入力が１〜１２であるか判定する\n",
    "            if first_month < last_month:\n",
    "                months = last_month - first_month + 1\n",
    "                print(f'{first_month}月から{last_month}月までの{months}ヶ月間の収入を記録します。')\n",
    "            else:\n",
    "                months = (13-first_month) + last_month\n",
    "                print(f'{first_month}月から翌年{last_month}月までの{months}ヶ月間の収入を記録します。')   \n",
    "                break\n",
    "        else:\n",
    "            print('入力された値が正しくありません')\n",
    "    return first_month, last_month, months\n",
    "\n",
    "\n",
    "f_month, l_month, period = user_month()"
   ]
  },
  {
   "cell_type": "code",
   "execution_count": 5,
   "id": "f991fa3f-2194-4256-a675-a0030e1a52b9",
   "metadata": {},
   "outputs": [
    {
     "name": "stdout",
     "output_type": "stream",
     "text": [
      "データは全て半角英数字で入力してください。\n"
     ]
    },
    {
     "name": "stdin",
     "output_type": "stream",
     "text": [
      "12月＞＞＞〇〇万円： 21\n"
     ]
    },
    {
     "name": "stdout",
     "output_type": "stream",
     "text": [
      "***翌年***\n"
     ]
    },
    {
     "name": "stdin",
     "output_type": "stream",
     "text": [
      "1月＞＞＞〇〇万円： 32\n",
      "2月＞＞＞〇〇万円： 44\n",
      "3月＞＞＞〇〇万円： 32\n",
      "4月＞＞＞〇〇万円： 22\n"
     ]
    },
    {
     "name": "stdout",
     "output_type": "stream",
     "text": [
      "12月〜4月までの5ヶ月間のデータを保存しました!!!!\n"
     ]
    },
    {
     "data": {
      "text/plain": [
       "{'12月': '21万円', '1月': '32万円', '2月': '44万円', '3月': '32万円', '4月': '22万円'}"
      ]
     },
     "metadata": {},
     "output_type": "display_data"
    }
   ],
   "source": [
    "# データをdictinaryで保存する\n",
    "def data_dict(f_month=1, l_month=12, period=12):\n",
    "    print('データは全て半角英数字で入力してください。')\n",
    "    month_dict = {}\n",
    "    f = f_month\n",
    "    l = l_month\n",
    "    p = period\n",
    "    for _ in range(period):\n",
    "        if f_month == 13:\n",
    "            f_month = 1\n",
    "            print('***翌年***') # 〇〇年を追加する\n",
    "            month = int(input(f'{f_month}月＞＞＞〇〇万円：'))\n",
    "            month_dict[f'{f_month}月'] = f'{month}万円'\n",
    "            f_month += 1\n",
    "        else:\n",
    "            month = int(input(f'{f_month}月＞＞＞〇〇万円：')) # valueErrorへの対策を検討\n",
    "            month_dict[f'{f_month}月'] = f'{month}万円'\n",
    "            f_month += 1\n",
    "    print(f'{f}月〜{l}月までの{p}ヶ月間のデータを保存しました!!!!')\n",
    "    display(month_dict)\n",
    "    return month_dict\n",
    "\n",
    "month_dict = data_dict(f_month, l_month, period)"
   ]
  },
  {
   "cell_type": "code",
   "execution_count": 6,
   "id": "70fed995-4435-430e-9978-0334624b52d7",
   "metadata": {},
   "outputs": [
    {
     "name": "stdout",
     "output_type": "stream",
     "text": [
      "\n",
      "現在保存しているデータです。\n",
      "******************************\n",
      "{'12月': '21万円', '1月': '32万円', '2月': '44万円', '3月': '32万円', '4月': '22万円'}\n",
      "******************************\n",
      "\n"
     ]
    }
   ],
   "source": [
    "# 現在の保持データを表示する\n",
    "def display(user_dict):\n",
    "    print('\\n現在保存しているデータです。')\n",
    "    print('*'*30)\n",
    "    print(user_dict)\n",
    "    print('*'*30)\n",
    "    print()\n",
    "    \n",
    "display(month_dict)"
   ]
  },
  {
   "cell_type": "code",
   "execution_count": 140,
   "id": "d5651f64-13fd-4259-884d-867362d70964",
   "metadata": {},
   "outputs": [
    {
     "name": "stdout",
     "output_type": "stream",
     "text": [
      "下記より実行したいメニューを選択してください。\n",
      "\n",
      "    ・全てのデータを確認する　＞＞＞　all(a)\n",
      "    ・個別のデータを確認する　＞＞＞　choice(c)\n",
      "    \n"
     ]
    },
    {
     "name": "stdin",
     "output_type": "stream",
     "text": [
      "user : c\n"
     ]
    },
    {
     "name": "stdout",
     "output_type": "stream",
     "text": [
      "確認したい月を半角英数字で入力してください。\n"
     ]
    },
    {
     "name": "stdin",
     "output_type": "stream",
     "text": [
      "〇〇月　＞＞＞: 1\n"
     ]
    },
    {
     "name": "stdout",
     "output_type": "stream",
     "text": [
      "1月の収入は21万円です。\n",
      "\n"
     ]
    }
   ],
   "source": [
    "# Userが確認したいデータを確認する\n",
    "def check_menu():\n",
    "    menu2 = \"\"\"\n",
    "    ・全てのデータを確認する　＞＞＞　all(a)\n",
    "    ・個別のデータを確認する　＞＞＞　choice(c)\n",
    "    \"\"\"\n",
    "    # 確認するデータの確認\n",
    "    print('下記より実行したいメニューを選択してください。')\n",
    "    print(menu2)\n",
    "    user_choice = input('user :')\n",
    "    # 全てのデータを確認する\n",
    "    if user_choice == 'all' or user_choice == 'a':\n",
    "        display(month_dict)\n",
    "    # 指定した月のデータのみ確認する\n",
    "    elif user_choice == 'choice' or user_choice == 'c':\n",
    "        _check_data(month_dict)\n",
    "    # 入力ミス\n",
    "    else:\n",
    "        print('入力が正しくありません。')\n",
    "check_menu()"
   ]
  },
  {
   "cell_type": "code",
   "execution_count": 139,
   "id": "7cdacd71-25f4-4425-b5bb-9d8962bc8b95",
   "metadata": {},
   "outputs": [],
   "source": [
    "# 個別のデータ確認\n",
    "def _check_data(month_dict):\n",
    "    print('確認したい月を半角英数字で入力してください。')\n",
    "    choice_month = int(input('〇〇月　＞＞＞:'))\n",
    "    month = f'{choice_month}月'\n",
    "    if month in month_dict:\n",
    "        print(f'{choice_month}月の収入は{month_dict[month]}です。\\n')\n",
    "    else:\n",
    "        print(f'{month}のデータは存在しません。')\n",
    "        print('データを追加したい場合は、＜操作メニュー＞から”データの追加”を選択してください。\\n')\n"
   ]
  },
  {
   "cell_type": "code",
   "execution_count": 19,
   "id": "9f0f6810-832a-4be7-ac56-df8f05e88042",
   "metadata": {},
   "outputs": [
    {
     "name": "stdout",
     "output_type": "stream",
     "text": [
      "修正したい月を半角英数字で入力してください。前のメニューに戻りたい場合は\"0\"を入力してください\n"
     ]
    },
    {
     "name": "stdin",
     "output_type": "stream",
     "text": [
      "〇〇月　＞＞＞: 7\n"
     ]
    },
    {
     "name": "stdout",
     "output_type": "stream",
     "text": [
      "7月のデータは存在しません。\n",
      "データを追加したい場合は、＜操作メニュー＞から”データの追加”を選択してください。\n",
      "\n",
      "修正したい月を半角英数字で入力してください。前のメニューに戻りたい場合は\"0\"を入力してください\n"
     ]
    },
    {
     "name": "stdin",
     "output_type": "stream",
     "text": [
      "〇〇月　＞＞＞: 2\n",
      "新たな値を半角英数字で入力してください。〇〇万円　＞＞＞ 12\n"
     ]
    },
    {
     "name": "stdout",
     "output_type": "stream",
     "text": [
      "\n",
      "＞＞＞＞2月の収入を12万円に変更しました。\n",
      "\n",
      "現在保存しているデータです。\n",
      "******************************\n",
      "{'12月': '32万円', '1月': '32万円', '2月': '12万円', '3月': '32万円', '4月': '22万円'}\n",
      "******************************\n",
      "\n"
     ]
    }
   ],
   "source": [
    "# 既存データの変更を行う\n",
    "def data_fixes():\n",
    "    while True:\n",
    "        print('修正したい月を半角英数字で入力してください。前のメニューに戻りたい場合は\"0\"を入力してください')\n",
    "        choice_month = int(input('〇〇月　＞＞＞:'))\n",
    "        if 1 <= choice_month < 13:\n",
    "            month = f'{choice_month}月'\n",
    "            if month in month_dict:\n",
    "                r_amount = int(input('新たな値を半角英数字で入力してください。〇〇万円　＞＞＞'))\n",
    "                month_dict[month] = f'{r_amount}万円'\n",
    "                print(f'\\n＞＞＞＞{month}の収入を{r_amount}万円に変更しました。')\n",
    "                display(month_dict)\n",
    "                break\n",
    "            else:\n",
    "                print(f'{month}のデータは存在しません。')\n",
    "                print('データを追加したい場合は、＜操作メニュー＞から”データの追加”を選択してください。\\n')\n",
    "        elif choice_month == 0:\n",
    "            break\n",
    "        else:\n",
    "            print('入力された値が正しくありません')\n",
    "    return month_dict\n",
    "\n",
    "month_dict = data_fixes()"
   ]
  },
  {
   "cell_type": "code",
   "execution_count": 186,
   "id": "ca15381a-61cb-4144-9733-c80fa3600ecf",
   "metadata": {},
   "outputs": [
    {
     "name": "stdout",
     "output_type": "stream",
     "text": [
      "追加したい月を半角英数字で入力してください。\n"
     ]
    },
    {
     "name": "stdin",
     "output_type": "stream",
     "text": [
      "〇〇月　＞＞＞: 4\n"
     ]
    },
    {
     "name": "stdout",
     "output_type": "stream",
     "text": [
      "4月のデータはすでに存在します。\n",
      "データを変更したい場合は、＜操作メニュー＞から”データの変更”を選択してください。\n",
      "\n",
      "追加したい月を半角英数字で入力してください。\n"
     ]
    },
    {
     "name": "stdin",
     "output_type": "stream",
     "text": [
      "〇〇月　＞＞＞: 9\n",
      "〇〇万円　＞＞＞ 12\n",
      "操作を繰り返しますか。(y/n) y\n"
     ]
    },
    {
     "name": "stdout",
     "output_type": "stream",
     "text": [
      "追加したい月を半角英数字で入力してください。\n"
     ]
    },
    {
     "name": "stdin",
     "output_type": "stream",
     "text": [
      "〇〇月　＞＞＞: 8\n",
      "〇〇万円　＞＞＞ 21\n",
      "操作を繰り返しますか。(y/n) n\n"
     ]
    },
    {
     "name": "stdout",
     "output_type": "stream",
     "text": [
      "データを追加しました。\n",
      "\n",
      "現在保存しているデータです。\n",
      "******************************\n",
      "{'12月': '12万円', '1月': '21万円', '2月': '32万円', '3月': '22万円', '4月': '44万円', '5月月': '32万円', '9月': '12万円', '8月': '21万円'}\n",
      "******************************\n",
      "\n",
      "操作を終了します。\n"
     ]
    }
   ],
   "source": [
    "# データの追加を行う\n",
    "def add_data(month_dict):\n",
    "    while True:\n",
    "        print('追加したい月を半角英数字で入力してください。')\n",
    "        choice_month = int(input('〇〇月　＞＞＞:'))\n",
    "        add_month = f'{choice_month}月'\n",
    "        if add_month in month_dict:\n",
    "            print(f'{add_month}のデータはすでに存在します。')\n",
    "            print('データを変更したい場合は、＜操作メニュー＞から”データの変更”を選択してください。\\n')\n",
    "        else:\n",
    "            add_amount = int(input('〇〇万円　＞＞＞'))\n",
    "            month_dict[f'{add_month}'] = f'{add_amount}万円'\n",
    "            y_n = input('操作を繰り返しますか。(y/n)')\n",
    "            if y_n == 'y':\n",
    "                continue\n",
    "            else:\n",
    "                print('データを追加しました。')\n",
    "                display(month_dict)\n",
    "                print('操作を終了します。')\n",
    "                break\n",
    "    return month_dict\n",
    "add_data(month_dict)"
   ]
  },
  {
   "cell_type": "code",
   "execution_count": 187,
   "id": "727ada2e-e995-4719-b843-aaf06559d203",
   "metadata": {},
   "outputs": [
    {
     "name": "stdout",
     "output_type": "stream",
     "text": [
      "月々の収入を記録できます。記録する月を半角英数字で入力してください。\n"
     ]
    },
    {
     "name": "stdin",
     "output_type": "stream",
     "text": [
      "何月から＞＞＞＞ 4\n",
      "何月まで＞＞＞＞ 12\n"
     ]
    },
    {
     "name": "stdout",
     "output_type": "stream",
     "text": [
      "4月から12月までの9ヶ月間の収入を記録します。\n",
      "データは全て半角英数字で入力してください。\n"
     ]
    },
    {
     "name": "stdin",
     "output_type": "stream",
     "text": [
      "4月＞＞＞〇〇万円： 42\n",
      "5月＞＞＞〇〇万円： 32\n",
      "6月＞＞＞〇〇万円： 33\n",
      "7月＞＞＞〇〇万円： 44\n",
      "8月＞＞＞〇〇万円： 52\n",
      "9月＞＞＞〇〇万円： 24\n",
      "10月＞＞＞〇〇万円： 87\n",
      "11月＞＞＞〇〇万円： 92\n",
      "12月＞＞＞〇〇万円： 43\n"
     ]
    },
    {
     "name": "stdout",
     "output_type": "stream",
     "text": [
      "4月〜12月までの9ヶ月間のデータを保存しました!!!!\n",
      "\n",
      "現在保存しているデータです。\n",
      "******************************\n",
      "{'4月': '42万円', '5月': '32万円', '6月': '33万円', '7月': '44万円', '8月': '52万円', '9月': '24万円', '10月': '87万円', '11月': '92万円', '12月': '43万円'}\n",
      "******************************\n",
      "\n"
     ]
    },
    {
     "name": "stdin",
     "output_type": "stream",
     "text": [
      "保存したデータの確認、変更または追加を行いますか (y/n) y\n"
     ]
    },
    {
     "name": "stdout",
     "output_type": "stream",
     "text": [
      "\n",
      "**希望する操作を以下から選択して入力してください**\n",
      "<操作メニュー>\n",
      " \n",
      "・データの再確認　＞＞＞　r \n",
      "・データの変更　＞＞＞　c\n",
      "・データの追加　＞＞＞　a\n",
      "\n"
     ]
    },
    {
     "name": "stdin",
     "output_type": "stream",
     "text": [
      "user : r\n"
     ]
    },
    {
     "name": "stdout",
     "output_type": "stream",
     "text": [
      "下記より実行したいメニューを選択してください。\n",
      "\n",
      "    ・全てのデータを確認する　＞＞＞　all(a)\n",
      "    ・個別のデータを確認する　＞＞＞　choice(c)\n",
      "    \n"
     ]
    },
    {
     "name": "stdin",
     "output_type": "stream",
     "text": [
      "user : a\n"
     ]
    },
    {
     "name": "stdout",
     "output_type": "stream",
     "text": [
      "\n",
      "現在保存しているデータです。\n",
      "******************************\n",
      "{'4月': '42万円', '5月': '32万円', '6月': '33万円', '7月': '44万円', '8月': '52万円', '9月': '24万円', '10月': '87万円', '11月': '92万円', '12月': '43万円'}\n",
      "******************************\n",
      "\n"
     ]
    },
    {
     "name": "stdin",
     "output_type": "stream",
     "text": [
      "保存したデータの確認、変更または追加を行いますか (y/n) y\n"
     ]
    },
    {
     "name": "stdout",
     "output_type": "stream",
     "text": [
      "\n",
      "**希望する操作を以下から選択して入力してください**\n",
      "<操作メニュー>\n",
      " \n",
      "・データの再確認　＞＞＞　r \n",
      "・データの変更　＞＞＞　c\n",
      "・データの追加　＞＞＞　a\n",
      "\n"
     ]
    },
    {
     "name": "stdin",
     "output_type": "stream",
     "text": [
      "user : r\n"
     ]
    },
    {
     "name": "stdout",
     "output_type": "stream",
     "text": [
      "下記より実行したいメニューを選択してください。\n",
      "\n",
      "    ・全てのデータを確認する　＞＞＞　all(a)\n",
      "    ・個別のデータを確認する　＞＞＞　choice(c)\n",
      "    \n"
     ]
    },
    {
     "name": "stdin",
     "output_type": "stream",
     "text": [
      "user : c\n"
     ]
    },
    {
     "name": "stdout",
     "output_type": "stream",
     "text": [
      "確認したい月を半角英数字で入力してください。\n"
     ]
    },
    {
     "name": "stdin",
     "output_type": "stream",
     "text": [
      "〇〇月　＞＞＞: 1\n"
     ]
    },
    {
     "name": "stdout",
     "output_type": "stream",
     "text": [
      "1月のデータは存在しません。\n",
      "データを追加したい場合は、＜操作メニュー＞から”データの追加”を選択してください。\n",
      "\n"
     ]
    },
    {
     "name": "stdin",
     "output_type": "stream",
     "text": [
      "保存したデータの確認、変更または追加を行いますか (y/n) y\n"
     ]
    },
    {
     "name": "stdout",
     "output_type": "stream",
     "text": [
      "\n",
      "**希望する操作を以下から選択して入力してください**\n",
      "<操作メニュー>\n",
      " \n",
      "・データの再確認　＞＞＞　r \n",
      "・データの変更　＞＞＞　c\n",
      "・データの追加　＞＞＞　a\n",
      "\n"
     ]
    },
    {
     "name": "stdin",
     "output_type": "stream",
     "text": [
      "user : r\n"
     ]
    },
    {
     "name": "stdout",
     "output_type": "stream",
     "text": [
      "下記より実行したいメニューを選択してください。\n",
      "\n",
      "    ・全てのデータを確認する　＞＞＞　all(a)\n",
      "    ・個別のデータを確認する　＞＞＞　choice(c)\n",
      "    \n"
     ]
    },
    {
     "name": "stdin",
     "output_type": "stream",
     "text": [
      "user : c\n"
     ]
    },
    {
     "name": "stdout",
     "output_type": "stream",
     "text": [
      "確認したい月を半角英数字で入力してください。\n"
     ]
    },
    {
     "name": "stdin",
     "output_type": "stream",
     "text": [
      "〇〇月　＞＞＞: 6\n"
     ]
    },
    {
     "name": "stdout",
     "output_type": "stream",
     "text": [
      "6月の収入は33万円です。\n",
      "\n"
     ]
    },
    {
     "name": "stdin",
     "output_type": "stream",
     "text": [
      "保存したデータの確認、変更または追加を行いますか (y/n) y\n"
     ]
    },
    {
     "name": "stdout",
     "output_type": "stream",
     "text": [
      "\n",
      "**希望する操作を以下から選択して入力してください**\n",
      "<操作メニュー>\n",
      " \n",
      "・データの再確認　＞＞＞　r \n",
      "・データの変更　＞＞＞　c\n",
      "・データの追加　＞＞＞　a\n",
      "\n"
     ]
    },
    {
     "name": "stdin",
     "output_type": "stream",
     "text": [
      "user : c\n"
     ]
    },
    {
     "name": "stdout",
     "output_type": "stream",
     "text": [
      "修正したい月を半角英数字で入力してください。\n"
     ]
    },
    {
     "name": "stdin",
     "output_type": "stream",
     "text": [
      "〇〇月　＞＞＞: 1\n"
     ]
    },
    {
     "name": "stdout",
     "output_type": "stream",
     "text": [
      "1月のデータは存在しません。\n",
      "データを追加したい場合は、＜操作メニュー＞から”データの追加”を選択してください。\n",
      "\n"
     ]
    },
    {
     "name": "stdin",
     "output_type": "stream",
     "text": [
      "保存したデータの確認、変更または追加を行いますか (y/n) y\n"
     ]
    },
    {
     "name": "stdout",
     "output_type": "stream",
     "text": [
      "\n",
      "**希望する操作を以下から選択して入力してください**\n",
      "<操作メニュー>\n",
      " \n",
      "・データの再確認　＞＞＞　r \n",
      "・データの変更　＞＞＞　c\n",
      "・データの追加　＞＞＞　a\n",
      "\n"
     ]
    },
    {
     "name": "stdin",
     "output_type": "stream",
     "text": [
      "user : c\n"
     ]
    },
    {
     "name": "stdout",
     "output_type": "stream",
     "text": [
      "修正したい月を半角英数字で入力してください。\n"
     ]
    },
    {
     "name": "stdin",
     "output_type": "stream",
     "text": [
      "〇〇月　＞＞＞: 6\n",
      "新たな値を半角英数字で入力してください。〇〇万円　＞＞＞ 32\n"
     ]
    },
    {
     "name": "stdout",
     "output_type": "stream",
     "text": [
      "\n",
      "6月の収入を32万円に変更しました。\n",
      "\n",
      "現在保存しているデータです。\n",
      "******************************\n",
      "{'4月': '42万円', '5月': '32万円', '6月': '32万円', '7月': '44万円', '8月': '52万円', '9月': '24万円', '10月': '87万円', '11月': '92万円', '12月': '43万円'}\n",
      "******************************\n",
      "\n"
     ]
    },
    {
     "name": "stdin",
     "output_type": "stream",
     "text": [
      "保存したデータの確認、変更または追加を行いますか (y/n) n\n"
     ]
    },
    {
     "name": "stdout",
     "output_type": "stream",
     "text": [
      "ご利用ありがとうございました。\n",
      "またのご利用をお待ちしております\n"
     ]
    }
   ],
   "source": [
    "# データを記録する期間を確認する\n",
    "f_month, l_month, period = user_month()\n",
    "# データをdictinaryで保存する\n",
    "month_dict = data_dict(f_month, l_month, period)\n",
    "\n",
    "menu = \"\"\"\n",
    "・データの再確認　＞＞＞　r \n",
    "・データの変更　＞＞＞　c\n",
    "・データの追加　＞＞＞　a\n",
    "\"\"\"\n",
    "\n",
    "while True:\n",
    "    y_n = input('保存したデータの確認、変更または追加を行いますか (y/n)')\n",
    "    # 再操作を行う\n",
    "    if y_n == 'y':\n",
    "        while True:\n",
    "            print('\\n**希望する操作を以下から選択して入力してください**')\n",
    "            print('<操作メニュー>\\n', menu)\n",
    "            choice = input('user :')\n",
    "            # データの再確認を行う\n",
    "            if choice == 'r':\n",
    "                check_menu()\n",
    "                break\n",
    "            # データの変更を行う\n",
    "            elif choice == 'c':\n",
    "                month_dict = data_fixes()\n",
    "                break\n",
    "            # データの追加を行う\n",
    "            elif choice == 'a':\n",
    "                new_data = add_data(month_dict)\n",
    "            # ユーザー入力ミス\n",
    "            else:\n",
    "                print('!入力が正しくありません。メニューから選択して下さい')\n",
    "    # 操作終了\n",
    "    elif y_n == 'n':\n",
    "        print('ご利用ありがとうございました。')\n",
    "        print('またのご利用をお待ちしております')\n",
    "        break\n",
    "    # ユーザー入力ミス\n",
    "    else:\n",
    "        print('入力が正しくありません。')\n",
    "        "
   ]
  },
  {
   "cell_type": "code",
   "execution_count": null,
   "id": "6cda71da-c7ca-446a-bbd1-784a989fa102",
   "metadata": {},
   "outputs": [
    {
     "name": "stdout",
     "output_type": "stream",
     "text": [
      "月々の収入を記録できます。記録する月を半角英数字で入力してください。\n"
     ]
    }
   ],
   "source": [
    "# データを記録する期間を確認する\n",
    "def user_month():\n",
    "    print('月々の収入を記録できます。記録する月を半角英数字で入力してください。')\n",
    "    while True:  # 正しい値が入力されるまで繰り返す\n",
    "        first_month = int(input('何月から＞＞＞＞')) \n",
    "        last_month = int(input('何月まで＞＞＞＞'))\n",
    "        if 0 < first_month < 13 and 0 < last_month < 13:  # 入力値が１〜１２であることを確認する\n",
    "            if first_month < last_month:  # 開始月　＜　停止月\n",
    "                months = last_month - first_month + 1\n",
    "                print(f'{first_month}月から{last_month}月までの{months}ヶ月間の収入を記録します。')\n",
    "            else: \n",
    "                months = (13-first_month) + last_month  \n",
    "                print(f'{first_month}月から翌年{last_month}月までの{months}ヶ月間の収入を記録します。')   \n",
    "                break\n",
    "        else:\n",
    "            print('入力された値が正しくありません')\n",
    "    return first_month, last_month, months\n",
    "\n",
    "\n",
    "# データをdictinaryで保存する\n",
    "def data_dict(f_month=1, l_month=12, period=12): # 開始月、停止月、期間を引数として受け取る\n",
    "    print('データは全て半角英数字で入力してください。')\n",
    "    month_dict = {}\n",
    "    f = f_month\n",
    "    l = l_month\n",
    "    p = period\n",
    "    \n",
    "    for _ in range(period):  # 期間分繰り返す\n",
    "        if f_month == 13:  # 12月まで行ったら1月に戻る\n",
    "            f_month = 1\n",
    "            print('***翌年***') \n",
    "            month = int(input(f'{f_month}月＞＞＞〇〇万円：'))\n",
    "            month_dict[f'{f_month}月'] = f'{month}万円'\n",
    "            f_month += 1\n",
    "        else:\n",
    "            month = int(input(f'{f_month}月＞＞＞〇〇万円：')) # valueErrorへの対策を検討\n",
    "            month_dict[f'{f_month}月'] = f'{month}万円'\n",
    "            f_month += 1\n",
    "    print(f'{f}月〜{l}月までの{p}ヶ月間のデータを保存しました!!!!')\n",
    "    display(month_dict)  # 保存データを表示する display(dictionary)\n",
    "    return month_dict\n",
    "\n",
    "\n",
    "# 現在の保持データを表示する\n",
    "def display(user_dict):  # dictionaryを引数に受け取る\n",
    "    print('\\n現在保存しているデータです。')\n",
    "    print('*'*30)\n",
    "    print(user_dict)\n",
    "    print('*'*30)\n",
    "    print()\n",
    "    \n",
    "\n",
    "# Userが確認したいデータを確認する\n",
    "def check_menu():  \n",
    "    menu2 = \"\"\"\n",
    "    ・全てのデータを確認する　＞＞＞　all(a)\n",
    "    ・個別のデータを確認する　＞＞＞　choice(c)\n",
    "    \"\"\"\n",
    "    \n",
    "    # 確認したいデータの確認\n",
    "    print('下記より実行したいメニューを選択してください。')\n",
    "    print(menu2)\n",
    "    user_choice = input('user :')\n",
    "    \n",
    "    # Userが全てのデータを確認したい場合\n",
    "    if user_choice == 'all' or user_choice == 'a':\n",
    "        display(month_dict)\n",
    "        \n",
    "    # Userが指定した月のデータのみ確認したい場合\n",
    "    elif user_choice == 'choice' or user_choice == 'c':\n",
    "        _check_data(month_dict)\n",
    "        \n",
    "    # 入力ミス\n",
    "    else:\n",
    "        print('入力が正しくありません。')\n",
    "\n",
    "        \n",
    "# 指定した月のデータ確認\n",
    "def _check_data(month_dict):\n",
    "    print('確認したい月を半角英数字で入力してください。')\n",
    "    choice_month = int(input('〇〇月　＞＞＞:'))\n",
    "    month = f'{choice_month}月'\n",
    "    \n",
    "    # 入力された月のデータが存在するかを判定する\n",
    "    if month in month_dict: \n",
    "        print(f'{choice_month}月の収入は{month_dict[month]}です。\\n')\n",
    "    else:\n",
    "        print(f'{month}のデータは存在しません。')\n",
    "        print('データを追加したい場合は、＜操作メニュー＞から”データの追加”を選択してください。\\n')\n",
    "\n",
    "        \n",
    "# 既存データの変更を行う\n",
    "def data_fixes():\n",
    "    while True:  # 正しい値が入力されるまで繰り返す\n",
    "        print('修正したい月を半角英数字で入力してください。前のメニューに戻りたい場合は\"0\"を入力してください')\n",
    "        choice_month = int(input('〇〇月　＞＞＞:'))\n",
    "        # 入力が1月〜12月であるか判定する\n",
    "        if 1 <= choice_month < 13:\n",
    "            month = f'{choice_month}月'\n",
    "            # 入力された月のデータが保存されているか判定する\n",
    "            if month in month_dict:\n",
    "                r_amount = int(input('新たな値を半角英数字で入力してください。〇〇万円　＞＞＞'))\n",
    "                month_dict[month] = f'{r_amount}万円'\n",
    "                print(f'\\n＞＞＞＞{month}の収入を{r_amount}万円に変更しました。')\n",
    "                display(month_dict)\n",
    "                break\n",
    "            else:\n",
    "                print(f'{month}のデータは存在しません。')\n",
    "                print('データを追加したい場合は、＜操作メニュー＞から”データの追加”を選択してください。\\n')\n",
    "        # 前画面に戻りたい場合\n",
    "        elif choice_month == 0:\n",
    "            break\n",
    "        else:\n",
    "            print('入力された値が正しくありません')\n",
    "    return month_dict\n",
    "\n",
    "\n",
    "# データの追加を行う\n",
    "def add_data(month_dict):\n",
    "    # 追加の操作を繰り返す。\n",
    "    while True:\n",
    "        print('追加したい月を半角英数字で入力してください。')\n",
    "        choice_month = int(input('〇〇月　＞＞＞:'))\n",
    "        add_month = f'{choice_month}月'\n",
    "        # 入力された月のデータが存在するか判定する\n",
    "        if add_month in month_dict:\n",
    "            print(f'{add_month}のデータはすでに存在します。')\n",
    "            print('データを変更したい場合は、＜操作メニュー＞から”データの変更”を選択してください。\\n')\n",
    "            break\n",
    "        else:\n",
    "            add_amount = int(input('〇〇万円　＞＞＞'))\n",
    "            month_dict[f'{add_month}'] = f'{add_amount}万円'\n",
    "            y_n = input('操作を繰り返しますか。(y/n)')\n",
    "            \n",
    "            # 操作を繰り返すか判定する\n",
    "            if y_n == 'y':\n",
    "                continue\n",
    "            else:\n",
    "                print('データを追加しました。')\n",
    "                display(month_dict)\n",
    "                print('操作を終了します。')\n",
    "                break\n",
    "    return month_dict\n",
    "\n",
    "\n",
    "\n",
    "# データを記録する期間を確認する user_month() => 開始月、停止月、期間を返す\n",
    "f_month, l_month, period = user_month()\n",
    "# データをdictinaryで保存する　data_dict() => dictionaryを返す\n",
    "month_dict = data_dict(f_month, l_month, period)\n",
    "\n",
    "menu = \"\"\"\n",
    "・データの再確認　＞＞＞　r \n",
    "・データの変更　＞＞＞　c\n",
    "・データの追加　＞＞＞　a\n",
    "\"\"\"\n",
    "# 操作を繰り返す\n",
    "while True:\n",
    "    y_n = input('保存したデータの確認、変更または追加を行いますか (y/n)')\n",
    "    # 再操作を行う\n",
    "    if y_n == 'y':\n",
    "        while True:\n",
    "            print('\\n**希望する操作を以下から選択して入力してください**')\n",
    "            print('<操作メニュー>\\n', menu)\n",
    "            choice = input('user :')\n",
    "            # データの再確認を行う\n",
    "            if choice == 'r':\n",
    "                check_menu()\n",
    "                break\n",
    "            # データの変更を行う\n",
    "            elif choice == 'c':\n",
    "                month_dict = data_fixes()\n",
    "                break\n",
    "            # データの追加を行う\n",
    "            elif choice == 'a':\n",
    "                new_data = add_data(month_dict)\n",
    "                break\n",
    "            # ユーザー入力ミス\n",
    "            else:\n",
    "                print('!入力が正しくありません。メニューから選択して下さい')\n",
    "    # 操作を終了する\n",
    "    elif y_n == 'n':\n",
    "        print('ご利用ありがとうございました。')\n",
    "        print('またのご利用をお待ちしております')\n",
    "        break\n",
    "    # ユーザー入力ミス\n",
    "    else:\n",
    "        print('入力が正しくありません。')"
   ]
  },
  {
   "cell_type": "code",
   "execution_count": null,
   "id": "47e11d74-5e0c-4627-876d-596ee64dd79d",
   "metadata": {},
   "outputs": [],
   "source": [
    "def data_fixes():\n",
    "    print('データを変更したい月を半角英数字で入力してください。')\n",
    "    choice_month = int(input('〇〇月　＞＞＞:'))\n",
    "    month = f'{choice_month}月'\n",
    "    # 入力された月のデータが存在するかを判定する\n",
    "    if month in month_dict:\n",
    "        r_amount = int(input('新たな値を半角英数字で入力してください。〇〇万円　＞＞＞'))\n",
    "        month_dict[month] = f'{r_amount}万円'\n",
    "        print(f'\\n＞＞＞＞{month}の収入を{r_amount}万円に変更しました。')\n",
    "        display(month_dict)\n",
    "    else:\n",
    "        print(f'{month}のデータは存在しません。')\n",
    "        print('データを追加したい場合は、＜操作メニュー＞から”データの追加”を選択してください。\\n')\n",
    "    return month_dict\n"
   ]
  }
 ],
 "metadata": {
  "kernelspec": {
   "display_name": "Python 3 (ipykernel)",
   "language": "python",
   "name": "python3"
  },
  "language_info": {
   "codemirror_mode": {
    "name": "ipython",
    "version": 3
   },
   "file_extension": ".py",
   "mimetype": "text/x-python",
   "name": "python",
   "nbconvert_exporter": "python",
   "pygments_lexer": "ipython3",
   "version": "3.9.13"
  }
 },
 "nbformat": 4,
 "nbformat_minor": 5
}
