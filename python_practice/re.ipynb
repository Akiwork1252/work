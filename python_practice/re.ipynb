{
 "cells": [
  {
   "cell_type": "code",
   "execution_count": 1,
   "id": "0188a181-eb56-465d-bef9-54242590ed06",
   "metadata": {},
   "outputs": [],
   "source": [
    "import re"
   ]
  },
  {
   "cell_type": "code",
   "execution_count": 9,
   "id": "209f73da-415e-4f7a-87fb-cce237f084dc",
   "metadata": {},
   "outputs": [
    {
     "name": "stdout",
     "output_type": "stream",
     "text": [
      "113: <re.Match object; span=(0, 1), match='1'>\n",
      "abc: None\n",
      "113: None\n",
      "abc: <re.Match object; span=(0, 1), match='a'>\n"
     ]
    }
   ],
   "source": [
    "pt = ['^[0-9]', '[^0-9]']\n",
    "s = ['113', 'abc']\n",
    "for value_p in pt:\n",
    "    pt = re.compile(value_p)\n",
    "    for value_s in s:\n",
    "        res = pt.search(value_s)\n",
    "        print(f'{value_s}: {res}')"
   ]
  },
  {
   "cell_type": "code",
   "execution_count": 10,
   "id": "67dc275b-4726-4f8a-94c4-f136ce804a04",
   "metadata": {},
   "outputs": [
    {
     "name": "stdout",
     "output_type": "stream",
     "text": [
      "Sample.csv\n",
      "Sample.html\n",
      "Sample.py\n"
     ]
    }
   ],
   "source": [
    "pt = '\\.(csv|html|py)$'\n",
    "s = ['Sample.csv', 'Sample.exe', 'Sample.html', 'Sample.py']\n",
    "\n",
    "pt = re.compile(pt)\n",
    "for value in s:\n",
    "    res = pt.search(value)\n",
    "    if res is not None:\n",
    "        print(value)"
   ]
  },
  {
   "cell_type": "code",
   "execution_count": 13,
   "id": "1474d398-3a95-4413-bdec-e9b93d548bf5",
   "metadata": {},
   "outputs": [],
   "source": [
    "import csv\n",
    "f = open('Sample.csv', 'w')\n",
    "w = csv.writer(f)\n",
    "w.writerow(['Tokyo', 'money', 153])\n",
    "f.close()"
   ]
  },
  {
   "cell_type": "code",
   "execution_count": 14,
   "id": "5f653307-eea3-4f3a-be73-e3821a39e769",
   "metadata": {},
   "outputs": [
    {
     "name": "stdout",
     "output_type": "stream",
     "text": [
      "Tokyo,money,153,\n"
     ]
    }
   ],
   "source": [
    "f = open('Sample.csv', 'r')\n",
    "rd = csv.reader(f)\n",
    "for row in rd:\n",
    "    for col in row:\n",
    "        print(col, end=',')\n",
    "    print()\n",
    "f.close()"
   ]
  },
  {
   "cell_type": "code",
   "execution_count": 15,
   "id": "3c44427d-af92-4e8f-a77d-d182b333ee4a",
   "metadata": {},
   "outputs": [],
   "source": [
    "import random"
   ]
  },
  {
   "cell_type": "code",
   "execution_count": 17,
   "id": "6de4cf0b-5871-4ee0-86b7-87521592d2a3",
   "metadata": {},
   "outputs": [
    {
     "data": {
      "text/plain": [
       "1"
      ]
     },
     "execution_count": 17,
     "metadata": {},
     "output_type": "execute_result"
    }
   ],
   "source": [
    "n = random.randint(1, 10)\n",
    "l = []\n",
    "for i in range(1000):\n",
    "    n = random.randint(1, 10)\n",
    "    l.append(n)\n",
    "    \n",
    "min(l)"
   ]
  },
  {
   "cell_type": "code",
   "execution_count": 18,
   "id": "504163d1-1ed1-48e0-8604-b9be3b3b18bb",
   "metadata": {},
   "outputs": [
    {
     "data": {
      "text/plain": [
       "69.8"
      ]
     },
     "execution_count": 18,
     "metadata": {},
     "output_type": "execute_result"
    }
   ],
   "source": [
    "349/5"
   ]
  },
  {
   "cell_type": "code",
   "execution_count": 19,
   "id": "fec91beb-04ca-4d98-99cc-c549f1ec2ed9",
   "metadata": {},
   "outputs": [
    {
     "data": {
      "text/plain": [
       "5.132352941176471"
      ]
     },
     "execution_count": 19,
     "metadata": {},
     "output_type": "execute_result"
    }
   ],
   "source": [
    "349/68"
   ]
  },
  {
   "cell_type": "code",
   "execution_count": 20,
   "id": "53e66b9a-60af-494e-a6f2-66ec213c62cc",
   "metadata": {},
   "outputs": [
    {
     "data": {
      "text/plain": [
       "69.8"
      ]
     },
     "execution_count": 20,
     "metadata": {},
     "output_type": "execute_result"
    }
   ],
   "source": [
    "probability_of_winning = 349\n",
    "probability_of_winning / 5"
   ]
  },
  {
   "cell_type": "code",
   "execution_count": 22,
   "id": "b1cc8ded-4eb9-47c5-bd05-1b3043b92040",
   "metadata": {},
   "outputs": [
    {
     "data": {
      "text/plain": [
       "False"
      ]
     },
     "execution_count": 22,
     "metadata": {},
     "output_type": "execute_result"
    }
   ],
   "source": [
    "n = 1500\n",
    "type(n) is str"
   ]
  },
  {
   "cell_type": "code",
   "execution_count": 24,
   "id": "2c8e8515-601f-4af1-ad19-e058c271fabd",
   "metadata": {},
   "outputs": [
    {
     "data": {
      "text/plain": [
       "False"
      ]
     },
     "execution_count": 24,
     "metadata": {},
     "output_type": "execute_result"
    }
   ],
   "source": [
    "a = 'end'\n",
    "type(a) is int"
   ]
  },
  {
   "cell_type": "code",
   "execution_count": 25,
   "id": "c5d1c291-0186-427c-8cb4-0c00ad100acf",
   "metadata": {},
   "outputs": [
    {
     "data": {
      "text/plain": [
       "23"
      ]
     },
     "execution_count": 25,
     "metadata": {},
     "output_type": "execute_result"
    }
   ],
   "source": [
    "l = [1, 4, 5, 6, 7]\n",
    "sum(l)"
   ]
  },
  {
   "cell_type": "code",
   "execution_count": 34,
   "id": "c2d3e55b-8941-40dd-b6d4-3e7d6ec6d815",
   "metadata": {},
   "outputs": [],
   "source": [
    "def ball_goes_in():\n",
    "    n = random.randint(1, 14)\n",
    "    # ７でヘソに入賞\n",
    "    if n == 7:\n",
    "        count += 1\n",
    "    else:\n",
    "        pass\n",
    "    return count"
   ]
  },
  {
   "cell_type": "code",
   "execution_count": 35,
   "id": "f9fd987c-9377-49b2-9407-3df3019a4bd8",
   "metadata": {},
   "outputs": [],
   "source": [
    "for i in range(6000):\n"
   ]
  },
  {
   "cell_type": "code",
   "execution_count": 37,
   "id": "7558eecc-64a1-4107-a78f-4e13309b61e4",
   "metadata": {},
   "outputs": [
    {
     "data": {
      "text/plain": [
       "<function __main__.ball_goes_in()>"
      ]
     },
     "execution_count": 37,
     "metadata": {},
     "output_type": "execute_result"
    }
   ],
   "source": [
    "f"
   ]
  },
  {
   "cell_type": "code",
   "execution_count": 62,
   "id": "ee32cb07-c088-4b08-982c-b11a3f402bf5",
   "metadata": {},
   "outputs": [],
   "source": [
    "count = 0\n",
    "for i in range(9000):\n",
    "    n = random.randint(1, 14)\n",
    "    # ７でヘソに入賞\n",
    "    if n == 7:\n",
    "        count += 1\n",
    "    else:\n",
    "        pass"
   ]
  },
  {
   "cell_type": "code",
   "execution_count": 63,
   "id": "155be3a6-ab19-4522-89ae-95c9bbe137cf",
   "metadata": {},
   "outputs": [
    {
     "name": "stdout",
     "output_type": "stream",
     "text": [
      "672\n"
     ]
    }
   ],
   "source": [
    "print(count)"
   ]
  },
  {
   "cell_type": "code",
   "execution_count": 64,
   "id": "9c942d39-6202-4ed5-8691-9d1136a7398c",
   "metadata": {},
   "outputs": [
    {
     "data": {
      "text/plain": [
       "13.392857142857142"
      ]
     },
     "execution_count": 64,
     "metadata": {},
     "output_type": "execute_result"
    }
   ],
   "source": [
    "9000/672"
   ]
  },
  {
   "cell_type": "code",
   "execution_count": 68,
   "id": "f7efa768-844e-40bf-b918-65255c2b6384",
   "metadata": {},
   "outputs": [
    {
     "data": {
      "text/plain": [
       "8.928571428571429"
      ]
     },
     "execution_count": 68,
     "metadata": {},
     "output_type": "execute_result"
    }
   ],
   "source": [
    "125/14"
   ]
  },
  {
   "cell_type": "code",
   "execution_count": 66,
   "id": "3ff4c0f2-0b17-47df-b74b-a439429b47d6",
   "metadata": {},
   "outputs": [
    {
     "data": {
      "text/plain": [
       "17.857142857142858"
      ]
     },
     "execution_count": 66,
     "metadata": {},
     "output_type": "execute_result"
    }
   ],
   "source": [
    "250/14"
   ]
  },
  {
   "cell_type": "code",
   "execution_count": 69,
   "id": "0493d636-76f5-41c8-9ae2-7c6bc5ce2c92",
   "metadata": {},
   "outputs": [
    {
     "data": {
      "text/plain": [
       "0.112"
      ]
     },
     "execution_count": 69,
     "metadata": {},
     "output_type": "execute_result"
    }
   ],
   "source": [
    "14/125"
   ]
  },
  {
   "cell_type": "code",
   "execution_count": 70,
   "id": "063fe9cd-14c7-4082-8f2c-0745860392c6",
   "metadata": {},
   "outputs": [
    {
     "data": {
      "text/plain": [
       "0.048"
      ]
     },
     "execution_count": 70,
     "metadata": {},
     "output_type": "execute_result"
    }
   ],
   "source": [
    "12/250"
   ]
  },
  {
   "cell_type": "code",
   "execution_count": 71,
   "id": "cf706b97-2ca4-4b3a-8c04-df92b3ddaeae",
   "metadata": {},
   "outputs": [
    {
     "data": {
      "text/plain": [
       "0.07142857142857142"
      ]
     },
     "execution_count": 71,
     "metadata": {},
     "output_type": "execute_result"
    }
   ],
   "source": [
    "1/14"
   ]
  },
  {
   "cell_type": "code",
   "execution_count": 72,
   "id": "b8332528-962d-4532-8425-4f279056e228",
   "metadata": {},
   "outputs": [
    {
     "data": {
      "text/plain": [
       "0.07142857142857142"
      ]
     },
     "execution_count": 72,
     "metadata": {},
     "output_type": "execute_result"
    }
   ],
   "source": [
    "8.928571428571429/125"
   ]
  },
  {
   "cell_type": "code",
   "execution_count": 89,
   "id": "a39443d8-a1d2-4826-808a-a4094c82335e",
   "metadata": {},
   "outputs": [],
   "source": [
    "users_dict = {}\n",
    "user_info_list = []"
   ]
  },
  {
   "cell_type": "code",
   "execution_count": 93,
   "id": "f3da305b-1a21-44e7-82bb-90434137164f",
   "metadata": {},
   "outputs": [
    {
     "name": "stdout",
     "output_type": "stream",
     "text": [
      "名前と年齢を入力してください。\n"
     ]
    },
    {
     "name": "stdin",
     "output_type": "stream",
     "text": [
      "名前:  nami\n",
      "年齢：  22\n",
      "所持金:  20000\n"
     ]
    }
   ],
   "source": [
    "print('名前と年齢を入力してください。')\n",
    "name = input('名前: ')\n",
    "age = int(input('年齢： '))\n",
    "user_info_list.append(age)\n",
    "if (name in users_dict) and (age == users_dict[name][0]):\n",
    "    print('アカウントが存在します')\n",
    "else:\n",
    "    money = int(input('所持金: '))\n",
    "    user_info_list.append(money)\n",
    "    users_dict[name] = user_info_list"
   ]
  },
  {
   "cell_type": "code",
   "execution_count": 79,
   "id": "c7b884b4-e9a5-4dcf-adba-b036126f9f5e",
   "metadata": {},
   "outputs": [
    {
     "name": "stdout",
     "output_type": "stream",
     "text": [
      "False\n"
     ]
    }
   ],
   "source": [
    "if re:\n",
    "    print('True')\n",
    "else:\n",
    "    print('False')"
   ]
  },
  {
   "cell_type": "code",
   "execution_count": 94,
   "id": "c0eed2f9-fbd2-4619-b348-281708985d37",
   "metadata": {},
   "outputs": [
    {
     "data": {
      "text/plain": [
       "{'aki': [32, 3000, 32, 22, 20000], 'nami': [32, 3000, 32, 22, 20000]}"
      ]
     },
     "execution_count": 94,
     "metadata": {},
     "output_type": "execute_result"
    }
   ],
   "source": [
    "users_dict"
   ]
  },
  {
   "cell_type": "code",
   "execution_count": 105,
   "id": "e32cf1b8-09b7-4166-a129-f8ab7ca13e6f",
   "metadata": {},
   "outputs": [
    {
     "data": {
      "text/plain": [
       "10.0"
      ]
     },
     "execution_count": 105,
     "metadata": {},
     "output_type": "execute_result"
    }
   ],
   "source": [
    "40*0.25"
   ]
  },
  {
   "cell_type": "code",
   "execution_count": 106,
   "id": "b6cc2563-b715-4a8f-b111-5c4a16df55bb",
   "metadata": {},
   "outputs": [
    {
     "data": {
      "text/plain": [
       "279.2"
      ]
     },
     "execution_count": 106,
     "metadata": {},
     "output_type": "execute_result"
    }
   ],
   "source": [
    "349*0.8"
   ]
  },
  {
   "cell_type": "code",
   "execution_count": 109,
   "id": "3f1ae9c9-f48a-40df-a67c-776e8706e5d4",
   "metadata": {},
   "outputs": [
    {
     "data": {
      "text/plain": [
       "223.29999999999998"
      ]
     },
     "execution_count": 109,
     "metadata": {},
     "output_type": "execute_result"
    }
   ],
   "source": [
    "319*0.7"
   ]
  },
  {
   "cell_type": "code",
   "execution_count": 110,
   "id": "5fe5538c-e985-406a-8c73-77cd34cb8b72",
   "metadata": {},
   "outputs": [
    {
     "data": {
      "text/plain": [
       "30.0"
      ]
     },
     "execution_count": 110,
     "metadata": {},
     "output_type": "execute_result"
    }
   ],
   "source": [
    "40*0.75"
   ]
  },
  {
   "cell_type": "code",
   "execution_count": 117,
   "id": "3b9201a5-24b8-428c-b18f-a4a815130bc2",
   "metadata": {},
   "outputs": [
    {
     "data": {
      "text/plain": [
       "55.824999999999996"
      ]
     },
     "execution_count": 117,
     "metadata": {},
     "output_type": "execute_result"
    }
   ],
   "source": [
    "(319*0.7)/4"
   ]
  },
  {
   "cell_type": "code",
   "execution_count": 118,
   "id": "a7f3feb4-a8c0-4d55-81e3-2c34baa3ce82",
   "metadata": {},
   "outputs": [
    {
     "data": {
      "text/plain": [
       "450"
      ]
     },
     "execution_count": 118,
     "metadata": {},
     "output_type": "execute_result"
    }
   ],
   "source": [
    "n = 450\n",
    "n"
   ]
  },
  {
   "cell_type": "code",
   "execution_count": 119,
   "id": "93d425c6-4a6a-43c7-98f8-f9fc73a3930b",
   "metadata": {},
   "outputs": [
    {
     "data": {
      "text/plain": [
       "450.0"
      ]
     },
     "execution_count": 119,
     "metadata": {},
     "output_type": "execute_result"
    }
   ],
   "source": [
    "float(n)"
   ]
  },
  {
   "cell_type": "code",
   "execution_count": 120,
   "id": "bf45c2f6-65dc-4a43-8381-909d09d6fc94",
   "metadata": {},
   "outputs": [
    {
     "data": {
      "text/plain": [
       "30.0"
      ]
     },
     "execution_count": 120,
     "metadata": {},
     "output_type": "execute_result"
    }
   ],
   "source": [
    "40*0.75"
   ]
  },
  {
   "cell_type": "code",
   "execution_count": 121,
   "id": "e7dc2571-154a-4f9c-a125-094bc3af2873",
   "metadata": {},
   "outputs": [],
   "source": [
    "n = 15"
   ]
  },
  {
   "cell_type": "code",
   "execution_count": 122,
   "id": "373ee403-058f-461a-8db3-b077dbf1c04f",
   "metadata": {},
   "outputs": [
    {
     "data": {
      "text/plain": [
       "True"
      ]
     },
     "execution_count": 122,
     "metadata": {},
     "output_type": "execute_result"
    }
   ],
   "source": [
    "n < 40*0.75"
   ]
  },
  {
   "cell_type": "code",
   "execution_count": 124,
   "id": "8054ca03-a6ce-4c68-b116-0592e8f88d47",
   "metadata": {},
   "outputs": [
    {
     "name": "stdin",
     "output_type": "stream",
     "text": [
      "Please Enter \n"
     ]
    }
   ],
   "source": [
    "f = input('Please Enter')"
   ]
  },
  {
   "cell_type": "code",
   "execution_count": 126,
   "id": "c8af3092-79d9-4074-aa9a-73f8241c7579",
   "metadata": {},
   "outputs": [
    {
     "data": {
      "text/plain": [
       "str"
      ]
     },
     "execution_count": 126,
     "metadata": {},
     "output_type": "execute_result"
    }
   ],
   "source": [
    "type(f)"
   ]
  },
  {
   "cell_type": "code",
   "execution_count": 131,
   "id": "964562ec-37f7-4eb3-a003-11bbbe28517b",
   "metadata": {},
   "outputs": [
    {
     "name": "stdin",
     "output_type": "stream",
     "text": [
      "Enter \n"
     ]
    },
    {
     "data": {
      "text/plain": [
       "str"
      ]
     },
     "execution_count": 131,
     "metadata": {},
     "output_type": "execute_result"
    }
   ],
   "source": [
    "while True:\n",
    "    f = input('Enter')\n",
    "    if type(f) is str:\n",
    "        break\n",
    "type(f)"
   ]
  },
  {
   "cell_type": "code",
   "execution_count": 133,
   "id": "73a60215-f845-4de7-b403-dfe5c880c2cd",
   "metadata": {},
   "outputs": [],
   "source": [
    "n\n",
    "def func(n):\n",
    "    return (1/40 + (1 - 1/40 - 1/150)) * func(n-1)"
   ]
  },
  {
   "cell_type": "code",
   "execution_count": 140,
   "id": "32b5cc76-8fb1-4b38-a80c-a6941b94a346",
   "metadata": {},
   "outputs": [
    {
     "data": {
      "text/plain": [
       "0.8747827028937166"
      ]
     },
     "execution_count": 140,
     "metadata": {},
     "output_type": "execute_result"
    }
   ],
   "source": [
    "(1/40 + (1 - 1/40 - 1/150)) ** 20"
   ]
  },
  {
   "cell_type": "code",
   "execution_count": 146,
   "id": "5f6f154f-e743-4a5a-85c0-c0bb1a3b5201",
   "metadata": {},
   "outputs": [
    {
     "data": {
      "text/plain": [
       "86.95652173913044"
      ]
     },
     "execution_count": 146,
     "metadata": {},
     "output_type": "execute_result"
    }
   ],
   "source": [
    "p_a = 1/30\n",
    "p_b = 1/200\n",
    "\n",
    "p = p_a / (p_a + p_b)\n",
    "p*100"
   ]
  },
  {
   "cell_type": "code",
   "execution_count": 162,
   "id": "178b89d2-6142-4868-a62b-1e6092bfb8c2",
   "metadata": {},
   "outputs": [],
   "source": [
    "def user_action(n):\n",
    "    while True:\n",
    "        if n == 'firing':\n",
    "            user = input('Enterキーを押すと玉が発射されます。')\n",
    "        elif n == 'menu':\n",
    "            user = input('Enterキーを入力すると次の画面に進みます。')\n",
    "        elif n == 'replay_choice':\n",
    "            user = input('獲得出玉で遊技を続けますか？ (y/n): ')\n",
    "        elif n == 'replay':\n",
    "            user = input('\\n持ち玉を使用して遊技を行いますか？(y/n): ')\n",
    "        elif n == 'replay_again':\n",
    "            user = input('持ち玉を使い切りました。現金を使って遊技を継続しますか。(y/n)')\n",
    "        elif n == 'play_end':\n",
    "            user = input('お疲れ様でした。Enterキーを押すとメニュー画面が表示されます。。')\n",
    "        elif n == 'user_choice':\n",
    "            user = input('user:')\n",
    "        if type(user) is str:\n",
    "            return user"
   ]
  },
  {
   "cell_type": "code",
   "execution_count": 164,
   "id": "ca8960c8-d611-4dc3-b807-3a81afdc8eb1",
   "metadata": {},
   "outputs": [
    {
     "name": "stdin",
     "output_type": "stream",
     "text": [
      "Enterキーを押すと玉が発射されます。 \n"
     ]
    },
    {
     "data": {
      "text/plain": [
       "str"
      ]
     },
     "execution_count": 164,
     "metadata": {},
     "output_type": "execute_result"
    }
   ],
   "source": [
    "f = user_action('firing')\n",
    "type(f)"
   ]
  },
  {
   "cell_type": "code",
   "execution_count": 149,
   "id": "cc27c61e-831f-4a15-a26e-67623abaa843",
   "metadata": {},
   "outputs": [
    {
     "name": "stdin",
     "output_type": "stream",
     "text": [
      "Enterキーを入力すると次の画面に進みます。 \n"
     ]
    }
   ],
   "source": [
    "user_action('menu')"
   ]
  },
  {
   "cell_type": "code",
   "execution_count": 154,
   "id": "0ae8debf-2793-4beb-a89d-54351b7f7c5b",
   "metadata": {},
   "outputs": [
    {
     "name": "stdin",
     "output_type": "stream",
     "text": [
      "\n",
      "持ち玉を使用して遊技を行いますか？(y/n):  k\n"
     ]
    }
   ],
   "source": [
    "user_action('replay')"
   ]
  },
  {
   "cell_type": "code",
   "execution_count": 166,
   "id": "28ea8e6f-be00-468e-b0d5-65416e82b143",
   "metadata": {},
   "outputs": [
    {
     "name": "stdin",
     "output_type": "stream",
     "text": [
      "持ち玉を使い切りました。現金を使って遊技を継続しますか。(y/n) y\n"
     ]
    },
    {
     "name": "stdout",
     "output_type": "stream",
     "text": [
      "y\n"
     ]
    }
   ],
   "source": [
    "f = user_action('replay_again')\n",
    "print(f)"
   ]
  },
  {
   "cell_type": "code",
   "execution_count": 168,
   "id": "bece46b1-ddad-4698-ba83-d914a60a83bc",
   "metadata": {},
   "outputs": [
    {
     "data": {
      "text/plain": [
       "type"
      ]
     },
     "execution_count": 168,
     "metadata": {},
     "output_type": "execute_result"
    }
   ],
   "source": [
    "n = int\n",
    "type(n)"
   ]
  },
  {
   "cell_type": "code",
   "execution_count": 169,
   "id": "59ef8025-ee01-4349-957b-0d60e4cb514e",
   "metadata": {},
   "outputs": [
    {
     "data": {
      "text/plain": [
       "0"
      ]
     },
     "execution_count": 169,
     "metadata": {},
     "output_type": "execute_result"
    }
   ],
   "source": [
    "0 % 50 "
   ]
  },
  {
   "cell_type": "code",
   "execution_count": 170,
   "id": "8b4ad1de-f03b-4772-8117-0a78b2795635",
   "metadata": {},
   "outputs": [
    {
     "data": {
      "text/plain": [
       "0.8503507567778152"
      ]
     },
     "execution_count": 170,
     "metadata": {},
     "output_type": "execute_result"
    }
   ],
   "source": [
    "1 - (89/90)**170"
   ]
  },
  {
   "cell_type": "code",
   "execution_count": 174,
   "id": "3eae8e16-aac1-4c78-80fd-b7a2c437f364",
   "metadata": {},
   "outputs": [
    {
     "data": {
      "text/plain": [
       "0.6837110220713903"
      ]
     },
     "execution_count": 174,
     "metadata": {},
     "output_type": "execute_result"
    }
   ],
   "source": [
    "1 - (69/70)**80"
   ]
  },
  {
   "cell_type": "code",
   "execution_count": 172,
   "id": "501d85ef-315c-49db-9513-54642e3b7e72",
   "metadata": {},
   "outputs": [
    {
     "data": {
      "text/plain": [
       "0.866926570015236"
      ]
     },
     "execution_count": 172,
     "metadata": {},
     "output_type": "execute_result"
    }
   ],
   "source": [
    "1 - (59/60)**120"
   ]
  },
  {
   "cell_type": "code",
   "execution_count": 175,
   "id": "5f1035c5-f08e-4c43-be89-8592bca58eca",
   "metadata": {},
   "outputs": [
    {
     "data": {
      "text/plain": [
       "96.85833333333333"
      ]
     },
     "execution_count": 175,
     "metadata": {},
     "output_type": "execute_result"
    }
   ],
   "source": [
    "1/40 + (1 - 1/40 - 1/150)*100"
   ]
  },
  {
   "cell_type": "code",
   "execution_count": 189,
   "id": "e46c552b-c944-4030-af80-93794097f924",
   "metadata": {},
   "outputs": [
    {
     "data": {
      "text/plain": [
       "87.8048780487805"
      ]
     },
     "execution_count": 189,
     "metadata": {},
     "output_type": "execute_result"
    }
   ],
   "source": [
    "1/25 / (1/25 + 1/180) * 100"
   ]
  },
  {
   "cell_type": "code",
   "execution_count": 190,
   "id": "59bb592d-1802-4d6c-b891-e9335edfd62f",
   "metadata": {},
   "outputs": [],
   "source": [
    "import random"
   ]
  },
  {
   "cell_type": "code",
   "execution_count": 194,
   "id": "06caba6a-1e36-439b-abdc-7b199a40357d",
   "metadata": {},
   "outputs": [
    {
     "data": {
      "text/plain": [
       "3"
      ]
     },
     "execution_count": 194,
     "metadata": {},
     "output_type": "execute_result"
    }
   ],
   "source": [
    "random.randint(1, 3)"
   ]
  },
  {
   "cell_type": "code",
   "execution_count": 200,
   "id": "81c8d933-0014-4720-ae37-1d2d720801c6",
   "metadata": {},
   "outputs": [
    {
     "data": {
      "text/plain": [
       "0"
      ]
     },
     "execution_count": 200,
     "metadata": {},
     "output_type": "execute_result"
    }
   ],
   "source": [
    "l = []\n",
    "for i in range(1000):\n",
    "    n = random.randint(0, 2)\n",
    "    l.append(n)\n",
    "min(l)"
   ]
  },
  {
   "cell_type": "code",
   "execution_count": 201,
   "id": "c2553cd4-3a5d-4e9e-ac35-d1d112def7b4",
   "metadata": {},
   "outputs": [
    {
     "data": {
      "text/plain": [
       "2"
      ]
     },
     "execution_count": 201,
     "metadata": {},
     "output_type": "execute_result"
    }
   ],
   "source": [
    "max(l)"
   ]
  },
  {
   "cell_type": "code",
   "execution_count": 203,
   "id": "620decb5-9f0f-481d-b127-871031b8869d",
   "metadata": {},
   "outputs": [],
   "source": [
    "def user_action(n):\n",
    "    def input_judge(user):\n",
    "        if (user != 'y') and (user != 'n'):\n",
    "            print('入力が正しくありません')\n",
    "        else:\n",
    "            return user\n",
    "    while True:\n",
    "        if n == 'firing':\n",
    "            user = input('Enterキーを押すと玉が発射されます。')\n",
    "        elif n == 'menu':\n",
    "            user = input('Enterキーを入力すると次の画面に進みます。')\n",
    "        elif n == 'bonus_start':\n",
    "            user = input('<確率変動>に突入します。Enterキーを押してください。')\n",
    "        elif n == 'bonus_end':\n",
    "            user = input('<確率変動>を終了します。Enterを押すと結果画面が表示されます。\\n')\n",
    "        elif n == 'replay_choice':\n",
    "            while True:\n",
    "                user = input('\\n獲得出玉で遊技を続けますか？ (y/n): ')\n",
    "                user = input_judge(user)\n",
    "                if user is not None:\n",
    "                    break\n",
    "        elif n == 'replay':\n",
    "            while True:\n",
    "                user = input('\\n持ち玉を使用して遊技を行いますか？(y/n): ')\n",
    "                if (user != 'y') and (user != 'n'):\n",
    "                    print('入力が正しくありません')\n",
    "                else:\n",
    "                    break\n",
    "        elif n == 'replay_again':\n",
    "            while True:\n",
    "                user = input('持ち玉を使い切りました。現金を使って遊技を継続しますか。(y/n)')\n",
    "        elif n == 'finished':\n",
    "            user = input('お疲れ様でした。Enterキーを押すとメニュー画面が表示されます。')\n",
    "        elif n == 'user_choice':\n",
    "            user = input('user:')\n",
    "        if type(user) is str:\n",
    "            return user"
   ]
  },
  {
   "cell_type": "code",
   "execution_count": 206,
   "id": "29b6e833-6de4-4165-a072-de4b32e105f7",
   "metadata": {},
   "outputs": [
    {
     "name": "stdin",
     "output_type": "stream",
     "text": [
      "\n",
      "獲得出玉で遊技を続けますか？ (y/n):  k\n"
     ]
    },
    {
     "name": "stdout",
     "output_type": "stream",
     "text": [
      "入力が正しくありません\n"
     ]
    },
    {
     "name": "stdin",
     "output_type": "stream",
     "text": [
      "\n",
      "獲得出玉で遊技を続けますか？ (y/n):  \n"
     ]
    },
    {
     "name": "stdout",
     "output_type": "stream",
     "text": [
      "入力が正しくありません\n"
     ]
    },
    {
     "name": "stdin",
     "output_type": "stream",
     "text": [
      "\n",
      "獲得出玉で遊技を続けますか？ (y/n):  n\n"
     ]
    },
    {
     "data": {
      "text/plain": [
       "'n'"
      ]
     },
     "execution_count": 206,
     "metadata": {},
     "output_type": "execute_result"
    }
   ],
   "source": [
    "user_action('replay_choice')"
   ]
  },
  {
   "cell_type": "code",
   "execution_count": 212,
   "id": "3696736e-8fa8-4662-9022-987cf25205ca",
   "metadata": {},
   "outputs": [
    {
     "name": "stdin",
     "output_type": "stream",
     "text": [
      "age:  k\n"
     ]
    },
    {
     "name": "stdout",
     "output_type": "stream",
     "text": [
      "半角英数字で入力して下さい（例：32）\n"
     ]
    },
    {
     "name": "stdin",
     "output_type": "stream",
     "text": [
      "age:  n\n"
     ]
    },
    {
     "name": "stdout",
     "output_type": "stream",
     "text": [
      "半角英数字で入力して下さい（例：32）\n"
     ]
    },
    {
     "name": "stdin",
     "output_type": "stream",
     "text": [
      "age:  32\n"
     ]
    }
   ],
   "source": [
    "while True:\n",
    "    try:\n",
    "        age = int(input('age: '))\n",
    "    except ValueError:\n",
    "        print('半角英数字で入力して下さい（例：32）')\n",
    "    else:\n",
    "        break"
   ]
  },
  {
   "cell_type": "code",
   "execution_count": 213,
   "id": "d8ccea6d-0c32-4880-a67a-55eb38993662",
   "metadata": {},
   "outputs": [],
   "source": [
    "import datetime"
   ]
  },
  {
   "cell_type": "code",
   "execution_count": 214,
   "id": "c100c3a0-f39e-4883-82cd-c4414ad4d033",
   "metadata": {},
   "outputs": [],
   "source": [
    "dt = datetime.datetime.now()"
   ]
  },
  {
   "cell_type": "code",
   "execution_count": 223,
   "id": "8cb0cac8-b6dd-443c-89f6-b4e02d542eb3",
   "metadata": {},
   "outputs": [],
   "source": [
    "d = f'{dt.year}/{dt.month}/{dt.day}'"
   ]
  },
  {
   "cell_type": "code",
   "execution_count": 227,
   "id": "7d27ac2c-e160-4955-b1f0-9827eb05b8e1",
   "metadata": {},
   "outputs": [],
   "source": [
    "import sqlite3"
   ]
  },
  {
   "cell_type": "code",
   "execution_count": 281,
   "id": "d0645d7b-a959-4f1a-9903-d9f3e69370d7",
   "metadata": {},
   "outputs": [
    {
     "name": "stdin",
     "output_type": "stream",
     "text": [
      "name:  zoro\n",
      "age:  21\n",
      "money:  5000\n"
     ]
    }
   ],
   "source": [
    "name = input('name: ')\n",
    "age = int(input('age: '))\n",
    "money = int(input('money: '))"
   ]
  },
  {
   "cell_type": "code",
   "execution_count": 284,
   "id": "a50479a3-68c6-43ba-8de1-01bd5f4f1387",
   "metadata": {},
   "outputs": [
    {
     "data": {
      "text/plain": [
       "<sqlite3.Cursor at 0x7f64cb5049d0>"
      ]
     },
     "execution_count": 284,
     "metadata": {},
     "output_type": "execute_result"
    }
   ],
   "source": [
    "cursor.execute('INSERT INTO user VALUES(?, ?, ?)', [name, age, money])"
   ]
  },
  {
   "cell_type": "code",
   "execution_count": 285,
   "id": "7c4507ee-9f8f-4242-bdcc-123b3b033ada",
   "metadata": {},
   "outputs": [
    {
     "name": "stdout",
     "output_type": "stream",
     "text": [
      "('aki', 32, 5000)\n",
      "('luffy', 19, 3000)\n",
      "('nami', 20, 30000)\n",
      "('zoro', 21, 1111)\n",
      "('zoro', 87, 11111)\n",
      "('zoro', 21, 5000)\n"
     ]
    }
   ],
   "source": [
    "itr = cursor.execute('SELECT * FROM user')\n",
    "for row in itr:\n",
    "    print(row)"
   ]
  },
  {
   "cell_type": "code",
   "execution_count": 298,
   "id": "5f3876b6-c7fa-41f4-98eb-a241e8f81f52",
   "metadata": {},
   "outputs": [],
   "source": [
    "itr = cursor.execute('SELECT * FROM user WHERE (name == (?)) and (age == (?))', [name, age])"
   ]
  },
  {
   "cell_type": "code",
   "execution_count": 299,
   "id": "77779cf7-937f-4980-a86f-643b3f267b04",
   "metadata": {},
   "outputs": [
    {
     "name": "stdout",
     "output_type": "stream",
     "text": [
      "('zoro', 21, 1111)\n",
      "('zoro', 21, 5000)\n"
     ]
    }
   ],
   "source": [
    "count = 0\n",
    "for row in itr:\n",
    "    n, a, m = row\n",
    "    count += 1\n",
    "    print(row)"
   ]
  },
  {
   "cell_type": "code",
   "execution_count": 296,
   "id": "8930ecd5-d464-4221-9fbb-8668ff90c746",
   "metadata": {},
   "outputs": [
    {
     "name": "stdout",
     "output_type": "stream",
     "text": [
      "2\n"
     ]
    }
   ],
   "source": [
    "print(count)count = 0\n",
    "for row in itr:\n",
    "    n, a, m = row\n",
    "    count += 1\n",
    "    print(row)"
   ]
  },
  {
   "cell_type": "code",
   "execution_count": 302,
   "id": "b17abcf8-1c72-4aa6-861f-334b36ad2925",
   "metadata": {},
   "outputs": [],
   "source": [
    "def func():\n",
    "    name = input('name: ')\n",
    "    age = int(input('age: '))\n",
    "    money = int(input('money: '))\n",
    "    if age > 20:\n",
    "        return m\n",
    "    else:\n",
    "        return name, age, money"
   ]
  },
  {
   "cell_type": "code",
   "execution_count": 311,
   "id": "fb3c9820-77b6-40b6-99b3-a6ca29534ebc",
   "metadata": {},
   "outputs": [
    {
     "name": "stdin",
     "output_type": "stream",
     "text": [
      "name:  aki\n",
      "age:  11\n",
      "money:  5000\n"
     ]
    }
   ],
   "source": [
    "f = func()"
   ]
  },
  {
   "cell_type": "code",
   "execution_count": 313,
   "id": "67bc62a9-6a67-417f-995e-d2bf62ed9562",
   "metadata": {},
   "outputs": [
    {
     "name": "stdout",
     "output_type": "stream",
     "text": [
      "aki 11 5000\n"
     ]
    }
   ],
   "source": [
    "print(f[0], f[1], f[2])"
   ]
  },
  {
   "cell_type": "code",
   "execution_count": 314,
   "id": "005fd386-43f5-4b6d-a7a9-2a00a4572d2c",
   "metadata": {},
   "outputs": [],
   "source": [
    "my_dict = {}"
   ]
  },
  {
   "cell_type": "code",
   "execution_count": 315,
   "id": "b6a07178-6f94-4fb4-82b0-54571a9ec443",
   "metadata": {},
   "outputs": [
    {
     "name": "stdin",
     "output_type": "stream",
     "text": [
      "name:  aki\n",
      "age:  32\n",
      "money:  5000\n"
     ]
    }
   ],
   "source": [
    "name = input('name: ')\n",
    "age = int(input('age: '))\n",
    "money = int(input('money: '))\n",
    "my_dict.update(name=name, age=age, money=money)"
   ]
  },
  {
   "cell_type": "code",
   "execution_count": 316,
   "id": "81de9a9f-e601-456d-8b95-b8ec7c28ee0e",
   "metadata": {},
   "outputs": [
    {
     "data": {
      "text/plain": [
       "{'name': 'aki', 'age': 32, 'money': 5000}"
      ]
     },
     "execution_count": 316,
     "metadata": {},
     "output_type": "execute_result"
    }
   ],
   "source": [
    "my_dict"
   ]
  },
  {
   "cell_type": "code",
   "execution_count": 317,
   "id": "5074885e-3da2-4fe7-8ce2-ad2261fdcacb",
   "metadata": {},
   "outputs": [],
   "source": [
    "machine = ''"
   ]
  },
  {
   "cell_type": "code",
   "execution_count": 322,
   "id": "315bd819-89d9-4e7f-8e95-5039b83b602e",
   "metadata": {},
   "outputs": [],
   "source": [
    "machine += ' CR北斗'"
   ]
  },
  {
   "cell_type": "code",
   "execution_count": 319,
   "id": "b45d5f17-b180-4d5b-9314-3b393bdff0c0",
   "metadata": {},
   "outputs": [
    {
     "data": {
      "text/plain": [
       "'CR北斗'"
      ]
     },
     "execution_count": 319,
     "metadata": {},
     "output_type": "execute_result"
    }
   ],
   "source": [
    "machine"
   ]
  },
  {
   "cell_type": "code",
   "execution_count": 320,
   "id": "94f0716a-8080-4fad-83f0-7199e006ac75",
   "metadata": {},
   "outputs": [],
   "source": [
    "machine += 'CRマドマギ'"
   ]
  },
  {
   "cell_type": "code",
   "execution_count": 323,
   "id": "52614530-0c6d-4e45-95bd-f31de563bb02",
   "metadata": {},
   "outputs": [
    {
     "data": {
      "text/plain": [
       "'CR北斗CRマドマギ CR北斗'"
      ]
     },
     "execution_count": 323,
     "metadata": {},
     "output_type": "execute_result"
    }
   ],
   "source": [
    "machine"
   ]
  },
  {
   "cell_type": "code",
   "execution_count": 343,
   "id": "40713837-cd4e-40d2-b264-44afcf5b789f",
   "metadata": {},
   "outputs": [],
   "source": [
    "itr = cursor.execute('SELECT * FROM user')"
   ]
  },
  {
   "cell_type": "code",
   "execution_count": 344,
   "id": "95fd12dd-4689-4b9b-94f3-b1569a53072a",
   "metadata": {},
   "outputs": [],
   "source": [
    "for row in itr:\n",
    "    print(row)"
   ]
  },
  {
   "cell_type": "code",
   "execution_count": 338,
   "id": "569ffb77-58c2-4b61-9266-148dd6f6ffdd",
   "metadata": {},
   "outputs": [
    {
     "name": "stdout",
     "output_type": "stream",
     "text": [
      "('aki', 32, 5000)\n"
     ]
    }
   ],
   "source": [
    "itr = cursor.execute('SELECT * FROM user WHERE name = \"aki\"')\n",
    "for row in itr:\n",
    "    print(row)"
   ]
  },
  {
   "cell_type": "code",
   "execution_count": 336,
   "id": "0bd932ac-0b11-406d-aee2-6bcd1d2da3d0",
   "metadata": {},
   "outputs": [
    {
     "data": {
      "text/plain": [
       "sqlite3.Cursor"
      ]
     },
     "execution_count": 336,
     "metadata": {},
     "output_type": "execute_result"
    }
   ],
   "source": [
    "type(itr)"
   ]
  },
  {
   "cell_type": "code",
   "execution_count": 1,
   "id": "4224e8bb-6ffd-4b87-98fe-99734f97fb4e",
   "metadata": {},
   "outputs": [],
   "source": [
    "import sqlite3"
   ]
  },
  {
   "cell_type": "code",
   "execution_count": null,
   "id": "4a3446f3-2630-4699-897c-d5a44d5448e0",
   "metadata": {},
   "outputs": [],
   "source": [
    "cursor.execute('CREATE TABLE user(name CHAR(20), age INT, money INT)')"
   ]
  },
  {
   "cell_type": "code",
   "execution_count": 2,
   "id": "462f631e-3841-44c1-811a-fd36c2acdf50",
   "metadata": {},
   "outputs": [],
   "source": [
    "con = sqlite3.connect('lesson.db')\n",
    "cursor = con.cursor()"
   ]
  },
  {
   "cell_type": "code",
   "execution_count": null,
   "id": "acd9067c-d4ff-4095-a3aa-4b3d8f580ea3",
   "metadata": {},
   "outputs": [],
   "source": []
  },
  {
   "cell_type": "code",
   "execution_count": 5,
   "id": "b1f741f2-7f5a-47bd-9b1a-f759358c7ebf",
   "metadata": {},
   "outputs": [
    {
     "name": "stdin",
     "output_type": "stream",
     "text": [
      "name:  luffy\n",
      "age:  19\n",
      "money:  5000\n"
     ]
    },
    {
     "data": {
      "text/plain": [
       "<sqlite3.Cursor at 0x7f7db62f26c0>"
      ]
     },
     "execution_count": 5,
     "metadata": {},
     "output_type": "execute_result"
    }
   ],
   "source": [
    "name = input('name: ')\n",
    "age = int(input('age: '))\n",
    "money = int(input('money: '))\n",
    "cursor.execute('INSERT INTO user VALUES(?, ?, ?)', [name, age, money])"
   ]
  },
  {
   "cell_type": "code",
   "execution_count": 6,
   "id": "bf4f926a-2547-4ca1-b8e2-82f4ec425bdb",
   "metadata": {},
   "outputs": [
    {
     "name": "stdout",
     "output_type": "stream",
     "text": [
      "('luffy', 19, 5000)\n"
     ]
    }
   ],
   "source": [
    "itr = cursor.execute('SELECT * FROM user')\n",
    "for user in itr:\n",
    "    print(user)"
   ]
  },
  {
   "cell_type": "code",
   "execution_count": 7,
   "id": "9a467cb0-673b-48aa-9bea-5e2dd1edbefd",
   "metadata": {},
   "outputs": [],
   "source": [
    "con.commit()"
   ]
  },
  {
   "cell_type": "code",
   "execution_count": 8,
   "id": "0d291af2-9ef6-432f-bd4e-d647636a5515",
   "metadata": {},
   "outputs": [
    {
     "data": {
      "text/plain": [
       "<sqlite3.Cursor at 0x7f7db6c3e3b0>"
      ]
     },
     "execution_count": 8,
     "metadata": {},
     "output_type": "execute_result"
    }
   ],
   "source": [
    "con = sqlite3.connect('lesson.db')\n",
    "cursor = con.cursor()\n",
    "cursor.execute('CREATE TABLE pirates(name CHAR(20), age INT, money INT)')"
   ]
  },
  {
   "cell_type": "code",
   "execution_count": 12,
   "id": "743e6135-f117-4ae1-9ce2-bd36515717db",
   "metadata": {},
   "outputs": [
    {
     "name": "stdout",
     "output_type": "stream",
     "text": [
      "5000\n",
      "1\n"
     ]
    }
   ],
   "source": [
    "count = 0\n",
    "itr = cursor.execute('SELECT * FROM user')\n",
    "for user in itr:\n",
    "    count += 1\n",
    "    print(user[2])\n",
    "print(count)"
   ]
  },
  {
   "cell_type": "code",
   "execution_count": 14,
   "id": "2d525952-d09e-4fa0-822c-34dc8b52d887",
   "metadata": {},
   "outputs": [],
   "source": [
    "con.commit()"
   ]
  },
  {
   "cell_type": "code",
   "execution_count": 15,
   "id": "912909a9-6300-4c60-9c9b-db6853e383f2",
   "metadata": {},
   "outputs": [
    {
     "data": {
      "text/plain": [
       "'+5000'"
      ]
     },
     "execution_count": 15,
     "metadata": {},
     "output_type": "execute_result"
    }
   ],
   "source": [
    "num = 5000\n",
    "num = '+' + str(num)\n",
    "num"
   ]
  },
  {
   "cell_type": "code",
   "execution_count": 1,
   "id": "e3697ae8-cdb9-4939-a79c-0200921bf093",
   "metadata": {},
   "outputs": [],
   "source": [
    "import re"
   ]
  },
  {
   "cell_type": "code",
   "execution_count": null,
   "id": "de314a6d-8ee7-4ea3-a44b-eea0f024fd14",
   "metadata": {},
   "outputs": [],
   "source": []
  },
  {
   "cell_type": "code",
   "execution_count": 6,
   "id": "de8e4461-5b69-4c0f-8a2c-8cbeedf2f340",
   "metadata": {},
   "outputs": [],
   "source": [
    "pt = '^([A-Z]|[a-z]){3}'\n",
    "pt = re.compile(pt)"
   ]
  },
  {
   "cell_type": "code",
   "execution_count": 2,
   "id": "d9142c5f-e243-4fde-8329-b26d7d506905",
   "metadata": {},
   "outputs": [],
   "source": [
    "name = 'aki'"
   ]
  },
  {
   "cell_type": "code",
   "execution_count": 7,
   "id": "813bb0f8-d50c-4588-8b69-70a337f55aaa",
   "metadata": {},
   "outputs": [
    {
     "data": {
      "text/plain": [
       "<re.Match object; span=(0, 3), match='aki'>"
      ]
     },
     "execution_count": 7,
     "metadata": {},
     "output_type": "execute_result"
    }
   ],
   "source": [
    "user = pt.search(name)\n",
    "user"
   ]
  },
  {
   "cell_type": "code",
   "execution_count": 9,
   "id": "2401f344-e6cd-4e0d-b3e0-f146038d6ed8",
   "metadata": {},
   "outputs": [
    {
     "data": {
      "text/plain": [
       "str"
      ]
     },
     "execution_count": 9,
     "metadata": {},
     "output_type": "execute_result"
    }
   ],
   "source": [
    "month = 12\n",
    "day = 3\n",
    "date = f'{month}-{day}'\n",
    "type(date)"
   ]
  },
  {
   "cell_type": "code",
   "execution_count": 16,
   "id": "e294ea0b-ef22-4366-ac73-c7e9059b3243",
   "metadata": {},
   "outputs": [],
   "source": [
    "num = 0\n",
    "count = 0\n",
    "def func(n, m):\n",
    "    global num\n",
    "    global count\n",
    "    num += n\n",
    "    count += m"
   ]
  },
  {
   "cell_type": "code",
   "execution_count": 17,
   "id": "631ac621-9c4d-4609-848e-bbcae477f635",
   "metadata": {},
   "outputs": [
    {
     "name": "stdout",
     "output_type": "stream",
     "text": [
      "125 1000\n",
      "425 750\n",
      "625 -2750\n",
      "745 2250\n"
     ]
    }
   ],
   "source": [
    "func(125, 1000)\n",
    "print(num, count)\n",
    "\n",
    "func(300, -250)\n",
    "print(num, count)\n",
    "\n",
    "func(200, -3500)\n",
    "print(num, count)\n",
    "\n",
    "func(120, 5000)\n",
    "print(num, count)"
   ]
  },
  {
   "cell_type": "code",
   "execution_count": 18,
   "id": "b192f8f7-cd7f-409c-9c4b-1189c4662552",
   "metadata": {},
   "outputs": [
    {
     "data": {
      "text/plain": [
       "2250"
      ]
     },
     "execution_count": 18,
     "metadata": {},
     "output_type": "execute_result"
    }
   ],
   "source": [
    "count"
   ]
  },
  {
   "cell_type": "code",
   "execution_count": 19,
   "id": "1c4300ad-e6e5-440e-b694-0f61d3bc572e",
   "metadata": {},
   "outputs": [
    {
     "data": {
      "text/plain": [
       "2129"
      ]
     },
     "execution_count": 19,
     "metadata": {},
     "output_type": "execute_result"
    }
   ],
   "source": [
    "func(100, -121)\n",
    "count"
   ]
  },
  {
   "cell_type": "code",
   "execution_count": 22,
   "id": "679383a5-20ac-4203-8fe6-fc93f0a0a4fb",
   "metadata": {},
   "outputs": [
    {
     "data": {
      "text/plain": [
       "'aki'"
      ]
     },
     "execution_count": 22,
     "metadata": {},
     "output_type": "execute_result"
    }
   ],
   "source": [
    "itr = None\n",
    "itr = 'aki'\n",
    "itr"
   ]
  },
  {
   "cell_type": "code",
   "execution_count": 8,
   "id": "ee3125a3-ce2a-41bf-9536-b35d0c63e8c5",
   "metadata": {},
   "outputs": [],
   "source": [
    "name = 'sanji'\n",
    "age = 21\n",
    "money = 666"
   ]
  },
  {
   "cell_type": "code",
   "execution_count": 1,
   "id": "23d4d459-2fe9-41a2-8949-f510e6e11be9",
   "metadata": {},
   "outputs": [],
   "source": [
    "import sqlite3"
   ]
  },
  {
   "cell_type": "code",
   "execution_count": 2,
   "id": "761384d5-d55d-437d-b8ab-319b510f5d30",
   "metadata": {},
   "outputs": [],
   "source": [
    "con = sqlite3.connect('lesson.db')\n",
    "cursor = con.cursor()"
   ]
  },
  {
   "cell_type": "code",
   "execution_count": 9,
   "id": "dafcb450-ae38-40d5-a7a0-a8169e551229",
   "metadata": {},
   "outputs": [
    {
     "data": {
      "text/plain": [
       "<sqlite3.Cursor at 0x7f574e5cca40>"
      ]
     },
     "execution_count": 9,
     "metadata": {},
     "output_type": "execute_result"
    }
   ],
   "source": [
    "cursor.execute('INSERT INTO user VALUES(?, ?, ?)', [name, age, money])"
   ]
  },
  {
   "cell_type": "code",
   "execution_count": 15,
   "id": "f4637a81-75d1-441b-a1e2-c74cd4954844",
   "metadata": {},
   "outputs": [
    {
     "name": "stdout",
     "output_type": "stream",
     "text": [
      "('luffy', 19, 20000)\n",
      "('sanji', 21, 666)\n"
     ]
    }
   ],
   "source": [
    "itr = cursor.execute('SELECT * FROM user')\n",
    "for row in itr:\n",
    "    print(row)"
   ]
  },
  {
   "cell_type": "code",
   "execution_count": 13,
   "id": "5908042b-ea45-4f08-a23f-2acc557f51fb",
   "metadata": {},
   "outputs": [
    {
     "name": "stdout",
     "output_type": "stream",
     "text": [
      "5000\n"
     ]
    }
   ],
   "source": [
    "itr = cursor.execute('SELECT * FROM user WHERE (name = (?)) and (age = (?))', [name, age])\n",
    "for row in itr:\n",
    "    name, age, money = row\n",
    "print(money)"
   ]
  },
  {
   "cell_type": "code",
   "execution_count": 13,
   "id": "1333c270-6afc-4abc-bcbb-67153d7cd0b4",
   "metadata": {},
   "outputs": [],
   "source": [
    "check_name = 'luffy'\n",
    "check_age = 19"
   ]
  },
  {
   "cell_type": "code",
   "execution_count": 23,
   "id": "53e2b190-48d3-426e-9807-1b127e13fd76",
   "metadata": {},
   "outputs": [],
   "source": [
    "name = 'luffy'\n",
    "age = 19"
   ]
  },
  {
   "cell_type": "code",
   "execution_count": 12,
   "id": "537c92fa-b5b9-47df-a13d-2ced88c9be53",
   "metadata": {},
   "outputs": [],
   "source": [
    "chenge_money = 20000"
   ]
  },
  {
   "cell_type": "code",
   "execution_count": 14,
   "id": "cc31a176-25f0-4c4d-a46d-15fa05100fa2",
   "metadata": {},
   "outputs": [
    {
     "data": {
      "text/plain": [
       "<sqlite3.Cursor at 0x7f574e5cca40>"
      ]
     },
     "execution_count": 14,
     "metadata": {},
     "output_type": "execute_result"
    }
   ],
   "source": [
    "cursor.execute('UPDATE user SET money = (?) WHERE (name==(?)) and (age==(?))', [chenge_money, check_name, check_age])"
   ]
  },
  {
   "cell_type": "code",
   "execution_count": 16,
   "id": "68fc9856-6add-44d7-93c6-aa66611909f4",
   "metadata": {},
   "outputs": [],
   "source": [
    "con = sqlite3.connect('spec.db')\n",
    "cursor = con.cursor()"
   ]
  },
  {
   "cell_type": "code",
   "execution_count": 19,
   "id": "d828f38c-fc2f-4ef6-94bb-67ecfe971788",
   "metadata": {},
   "outputs": [
    {
     "name": "stdout",
     "output_type": "stream",
     "text": [
      "CR北斗の拳\n",
      "1/349\n",
      "+300(80%) or +1500(20%)\n",
      "確変:100%\n",
      "当:1/25 or 転落:1/180[回転数:いずれか引くまで]\n",
      "+300(25%) or +1500(75%)\n",
      "88%\n",
      "なし\n",
      "--------------------\n",
      "CRエヴァンゲリオン\n",
      "1/319\n",
      "+450(75%) or +1500(25%)\n",
      "確変:70%、チャンスタイム:30%\n",
      "当:1/90[回転数:170回]\n",
      "ALL+1500\n",
      "85%\n",
      "なし\n",
      "--------------------\n",
      "CR魔法少女まどかマギカ\n",
      "1/199\n",
      "+450(90%) or +1500(10%)\n",
      "確変:50%、通常:50%\n",
      "当:1/70[回転数:80回]、<上位>当:1/80[回転数:120回]\n",
      "ALL+1500\n",
      "68% or 86%<上位>\n",
      "確率変動中の当たり1/4で確率変動<上位>に突入\n",
      "--------------------\n"
     ]
    }
   ],
   "source": [
    "itr = cursor.execute('SELECT * FROM spec')\n",
    "for row in itr:\n",
    "    for col in row:\n",
    "        print(col)\n",
    "    print('-'*20)"
   ]
  },
  {
   "cell_type": "code",
   "execution_count": null,
   "id": "370734f4-46e5-4963-aaac-47ad8d3312b6",
   "metadata": {},
   "outputs": [],
   "source": []
  }
 ],
 "metadata": {
  "kernelspec": {
   "display_name": "Python 3 (ipykernel)",
   "language": "python",
   "name": "python3"
  },
  "language_info": {
   "codemirror_mode": {
    "name": "ipython",
    "version": 3
   },
   "file_extension": ".py",
   "mimetype": "text/x-python",
   "name": "python",
   "nbconvert_exporter": "python",
   "pygments_lexer": "ipython3",
   "version": "3.9.13"
  }
 },
 "nbformat": 4,
 "nbformat_minor": 5
}
