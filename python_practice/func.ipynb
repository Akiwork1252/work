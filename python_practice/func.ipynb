{
 "cells": [
  {
   "cell_type": "code",
   "execution_count": 1,
   "id": "46251301-9fae-4159-b6ad-400726b0c6a2",
   "metadata": {},
   "outputs": [
    {
     "name": "stdout",
     "output_type": "stream",
     "text": [
      "one : 1\n",
      "two : 2\n"
     ]
    }
   ],
   "source": [
    "def print_dict(input_dict):\n",
    "    for k, v in input_dict.items():\n",
    "        print(k, ':', v)\n",
    "        \n",
    "num_dict = {'one': 1, 'two': 2}\n",
    "print_dict(num_dict)"
   ]
  },
  {
   "cell_type": "code",
   "execution_count": 6,
   "id": "c0d13bd5-a5a1-4eb3-a73c-f9eaa3615484",
   "metadata": {},
   "outputs": [
    {
     "name": "stdout",
     "output_type": "stream",
     "text": [
      "one : 1\n",
      "two : 2\n"
     ]
    }
   ],
   "source": [
    "print_dict(num_dict)"
   ]
  },
  {
   "cell_type": "code",
   "execution_count": 8,
   "id": "81b46ed0-c440-499c-9b03-3db516a1b376",
   "metadata": {},
   "outputs": [
    {
     "name": "stdout",
     "output_type": "stream",
     "text": [
      "one : 1\n",
      "two : 2\n",
      "None\n"
     ]
    }
   ],
   "source": [
    "print(print_dict(num_dict))"
   ]
  },
  {
   "cell_type": "code",
   "execution_count": 12,
   "id": "734cdff0-65a7-45fc-a289-5917cfcf5a3c",
   "metadata": {},
   "outputs": [],
   "source": [
    "def get_first_last_word(text):\n",
    "    word = text.split()\n",
    "    return word[0], word[1]"
   ]
  },
  {
   "cell_type": "code",
   "execution_count": 11,
   "id": "4c3dfe66-eb7b-4d81-9f51-15362ffe6ac7",
   "metadata": {},
   "outputs": [
    {
     "data": {
      "text/plain": [
       "'H'"
      ]
     },
     "execution_count": 11,
     "metadata": {},
     "output_type": "execute_result"
    }
   ],
   "source": [
    "text = 'Hello would'\n",
    "text.split()[0][0]"
   ]
  },
  {
   "cell_type": "code",
   "execution_count": 13,
   "id": "c84f3121-91c6-421f-9205-d54d9d125f99",
   "metadata": {},
   "outputs": [
    {
     "name": "stdout",
     "output_type": "stream",
     "text": [
      "Hello\n",
      "would\n"
     ]
    }
   ],
   "source": [
    "word1, word2 = get_first_last_word(text)\n",
    "print(word1)\n",
    "print(word2)"
   ]
  },
  {
   "cell_type": "code",
   "execution_count": 16,
   "id": "44718439-a539-41cb-a141-5bf152d648ca",
   "metadata": {},
   "outputs": [
    {
     "data": {
      "text/plain": [
       "'Aki'"
      ]
     },
     "execution_count": 16,
     "metadata": {},
     "output_type": "execute_result"
    }
   ],
   "source": [
    "text = 'My name is Aki.'\n",
    "text = text.replace('.', '')\n",
    "text.split()[-1]"
   ]
  },
  {
   "cell_type": "markdown",
   "id": "afd2d5cd-1de4-445d-8c55-e51771ced036",
   "metadata": {},
   "source": [
    "### *args, **kwargs"
   ]
  },
  {
   "cell_type": "code",
   "execution_count": 24,
   "id": "38cb2b8d-4b00-437b-9e79-15500f1e2716",
   "metadata": {},
   "outputs": [
    {
     "data": {
      "text/plain": [
       "0"
      ]
     },
     "execution_count": 24,
     "metadata": {},
     "output_type": "execute_result"
    }
   ],
   "source": [
    "def get_average(*args):\n",
    "    num = len(args)\n",
    "    if num == 0:\n",
    "        return 0\n",
    "    total = sum(args)\n",
    "    return total / num\n",
    "    \n",
    "get_average()"
   ]
  },
  {
   "cell_type": "code",
   "execution_count": 21,
   "id": "784cfbad-00f8-43b1-8565-58d0047ced02",
   "metadata": {},
   "outputs": [
    {
     "data": {
      "text/plain": [
       "10"
      ]
     },
     "execution_count": 21,
     "metadata": {},
     "output_type": "execute_result"
    }
   ],
   "source": [
    "num = (1, 2, 3, 4)\n",
    "sum(num)"
   ]
  },
  {
   "cell_type": "code",
   "execution_count": 28,
   "id": "483214e2-e00d-47bb-91bd-949fae9fe7a6",
   "metadata": {},
   "outputs": [],
   "source": [
    "def kw_func(**kwargs):\n",
    "    print(kwargs)\n",
    "    \n"
   ]
  },
  {
   "cell_type": "code",
   "execution_count": 29,
   "id": "bab7a0fa-a00c-4d3c-9040-4abfbcdc5489",
   "metadata": {},
   "outputs": [
    {
     "name": "stdout",
     "output_type": "stream",
     "text": [
      "{'param1': 10, 'param2': 20}\n"
     ]
    }
   ],
   "source": [
    "kw_func(param1=10, param2=20)"
   ]
  },
  {
   "cell_type": "code",
   "execution_count": 32,
   "id": "5e0fe669-4298-4a36-94ee-e17153bb3335",
   "metadata": {},
   "outputs": [
    {
     "data": {
      "text/plain": [
       "'nothing'"
      ]
     },
     "execution_count": 32,
     "metadata": {},
     "output_type": "execute_result"
    }
   ],
   "source": [
    "d = {'one': 1, 'two':2}\n",
    "d.get('three', 'nothing')"
   ]
  },
  {
   "cell_type": "code",
   "execution_count": 40,
   "id": "cd24c214-2724-4391-ac8c-077e840de374",
   "metadata": {},
   "outputs": [
    {
     "name": "stdout",
     "output_type": "stream",
     "text": [
      "{'param1': 10, 'param2': 20, 'param3': 30}\n",
      "10 20 30 4\n"
     ]
    }
   ],
   "source": [
    "def kwargs_func(**kwargs):\n",
    "    print(kwargs)\n",
    "    param1 = kwargs.get('param1', 1)\n",
    "    param2 = kwargs.get('param2', 2)    \n",
    "    param3 = kwargs.get('param3', 3)    \n",
    "    param4 = kwargs.get('param4', 4)    \n",
    "    \n",
    "    print(param1, param2, param3, param4)\n",
    "    \n",
    "kwargs_func(param1=10, param2=20, param3=30)"
   ]
  },
  {
   "cell_type": "code",
   "execution_count": 41,
   "id": "2359c2e3-5234-4edf-bedc-6db1195ab331",
   "metadata": {},
   "outputs": [
    {
     "name": "stdout",
     "output_type": "stream",
     "text": [
      "(1, 2, 3)\n",
      "1 2 3\n"
     ]
    }
   ],
   "source": [
    "t = (1, 2, 3)\n",
    "print(t)\n",
    "print(*t)"
   ]
  },
  {
   "cell_type": "code",
   "execution_count": null,
   "id": "95ae81b1-362c-40c3-bbc8-52b42586bbcf",
   "metadata": {},
   "outputs": [],
   "source": []
  }
 ],
 "metadata": {
  "kernelspec": {
   "display_name": "Python 3 (ipykernel)",
   "language": "python",
   "name": "python3"
  },
  "language_info": {
   "codemirror_mode": {
    "name": "ipython",
    "version": 3
   },
   "file_extension": ".py",
   "mimetype": "text/x-python",
   "name": "python",
   "nbconvert_exporter": "python",
   "pygments_lexer": "ipython3",
   "version": "3.9.13"
  }
 },
 "nbformat": 4,
 "nbformat_minor": 5
}
