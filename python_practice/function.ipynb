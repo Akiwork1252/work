{
 "cells": [
  {
   "cell_type": "code",
   "execution_count": 1,
   "id": "46251301-9fae-4159-b6ad-400726b0c6a2",
   "metadata": {},
   "outputs": [
    {
     "name": "stdout",
     "output_type": "stream",
     "text": [
      "one : 1\n",
      "two : 2\n"
     ]
    }
   ],
   "source": [
    "def print_dict(input_dict):\n",
    "    for k, v in input_dict.items():\n",
    "        print(k, ':', v)\n",
    "        \n",
    "num_dict = {'one': 1, 'two': 2}\n",
    "print_dict(num_dict)"
   ]
  },
  {
   "cell_type": "code",
   "execution_count": 6,
   "id": "c0d13bd5-a5a1-4eb3-a73c-f9eaa3615484",
   "metadata": {},
   "outputs": [
    {
     "name": "stdout",
     "output_type": "stream",
     "text": [
      "one : 1\n",
      "two : 2\n"
     ]
    }
   ],
   "source": [
    "print_dict(num_dict)"
   ]
  },
  {
   "cell_type": "code",
   "execution_count": 8,
   "id": "81b46ed0-c440-499c-9b03-3db516a1b376",
   "metadata": {},
   "outputs": [
    {
     "name": "stdout",
     "output_type": "stream",
     "text": [
      "one : 1\n",
      "two : 2\n",
      "None\n"
     ]
    }
   ],
   "source": [
    "print(print_dict(num_dict))"
   ]
  },
  {
   "cell_type": "code",
   "execution_count": 12,
   "id": "734cdff0-65a7-45fc-a289-5917cfcf5a3c",
   "metadata": {},
   "outputs": [],
   "source": [
    "def get_first_last_word(text):\n",
    "    word = text.split()\n",
    "    return word[0], word[1]"
   ]
  },
  {
   "cell_type": "code",
   "execution_count": 11,
   "id": "4c3dfe66-eb7b-4d81-9f51-15362ffe6ac7",
   "metadata": {},
   "outputs": [
    {
     "data": {
      "text/plain": [
       "'H'"
      ]
     },
     "execution_count": 11,
     "metadata": {},
     "output_type": "execute_result"
    }
   ],
   "source": [
    "text = 'Hello would'\n",
    "text.split()[0][0]"
   ]
  },
  {
   "cell_type": "code",
   "execution_count": 13,
   "id": "c84f3121-91c6-421f-9205-d54d9d125f99",
   "metadata": {},
   "outputs": [
    {
     "name": "stdout",
     "output_type": "stream",
     "text": [
      "Hello\n",
      "would\n"
     ]
    }
   ],
   "source": [
    "word1, word2 = get_first_last_word(text)\n",
    "print(word1)\n",
    "print(word2)"
   ]
  },
  {
   "cell_type": "code",
   "execution_count": 16,
   "id": "44718439-a539-41cb-a141-5bf152d648ca",
   "metadata": {},
   "outputs": [
    {
     "data": {
      "text/plain": [
       "'Aki'"
      ]
     },
     "execution_count": 16,
     "metadata": {},
     "output_type": "execute_result"
    }
   ],
   "source": [
    "text = 'My name is Aki.'\n",
    "text = text.replace('.', '')\n",
    "text.split()[-1]"
   ]
  },
  {
   "cell_type": "markdown",
   "id": "afd2d5cd-1de4-445d-8c55-e51771ced036",
   "metadata": {},
   "source": [
    "### *args, **kwargs"
   ]
  },
  {
   "cell_type": "code",
   "execution_count": 24,
   "id": "38cb2b8d-4b00-437b-9e79-15500f1e2716",
   "metadata": {},
   "outputs": [
    {
     "data": {
      "text/plain": [
       "0"
      ]
     },
     "execution_count": 24,
     "metadata": {},
     "output_type": "execute_result"
    }
   ],
   "source": [
    "def get_average(*args):\n",
    "    num = len(args)\n",
    "    if num == 0:\n",
    "        return 0\n",
    "    total = sum(args)\n",
    "    return total / num\n",
    "    \n",
    "get_average()"
   ]
  },
  {
   "cell_type": "code",
   "execution_count": 21,
   "id": "784cfbad-00f8-43b1-8565-58d0047ced02",
   "metadata": {},
   "outputs": [
    {
     "data": {
      "text/plain": [
       "10"
      ]
     },
     "execution_count": 21,
     "metadata": {},
     "output_type": "execute_result"
    }
   ],
   "source": [
    "num = (1, 2, 3, 4)\n",
    "sum(num)"
   ]
  },
  {
   "cell_type": "code",
   "execution_count": 28,
   "id": "483214e2-e00d-47bb-91bd-949fae9fe7a6",
   "metadata": {},
   "outputs": [],
   "source": [
    "def kw_func(**kwargs):\n",
    "    print(kwargs)\n",
    "    \n"
   ]
  },
  {
   "cell_type": "code",
   "execution_count": 29,
   "id": "bab7a0fa-a00c-4d3c-9040-4abfbcdc5489",
   "metadata": {},
   "outputs": [
    {
     "name": "stdout",
     "output_type": "stream",
     "text": [
      "{'param1': 10, 'param2': 20}\n"
     ]
    }
   ],
   "source": [
    "kw_func(param1=10, param2=20)"
   ]
  },
  {
   "cell_type": "code",
   "execution_count": 32,
   "id": "5e0fe669-4298-4a36-94ee-e17153bb3335",
   "metadata": {},
   "outputs": [
    {
     "data": {
      "text/plain": [
       "'nothing'"
      ]
     },
     "execution_count": 32,
     "metadata": {},
     "output_type": "execute_result"
    }
   ],
   "source": [
    "d = {'one': 1, 'two':2}\n",
    "d.get('three', 'nothing')"
   ]
  },
  {
   "cell_type": "code",
   "execution_count": 40,
   "id": "cd24c214-2724-4391-ac8c-077e840de374",
   "metadata": {},
   "outputs": [
    {
     "name": "stdout",
     "output_type": "stream",
     "text": [
      "{'param1': 10, 'param2': 20, 'param3': 30}\n",
      "10 20 30 4\n"
     ]
    }
   ],
   "source": [
    "def kwargs_func(**kwargs):\n",
    "    print(kwargs)\n",
    "    param1 = kwargs.get('param1', 1)\n",
    "    param2 = kwargs.get('param2', 2)    \n",
    "    param3 = kwargs.get('param3', 3)    \n",
    "    param4 = kwargs.get('param4', 4)    \n",
    "    \n",
    "    print(param1, param2, param3, param4)\n",
    "    \n",
    "kwargs_func(param1=10, param2=20, param3=30)"
   ]
  },
  {
   "cell_type": "code",
   "execution_count": 41,
   "id": "2359c2e3-5234-4edf-bedc-6db1195ab331",
   "metadata": {},
   "outputs": [
    {
     "name": "stdout",
     "output_type": "stream",
     "text": [
      "(1, 2, 3)\n",
      "1 2 3\n"
     ]
    }
   ],
   "source": [
    "t = (1, 2, 3)\n",
    "print(t)\n",
    "print(*t)"
   ]
  },
  {
   "cell_type": "code",
   "execution_count": 2,
   "id": "95ae81b1-362c-40c3-bbc8-52b42586bbcf",
   "metadata": {},
   "outputs": [
    {
     "name": "stdin",
     "output_type": "stream",
     "text": [
      "What your name?:  aki\n"
     ]
    },
    {
     "name": "stdout",
     "output_type": "stream",
     "text": [
      "Hello\n",
      "My name is aki.\n",
      "Nice to meet you\n"
     ]
    }
   ],
   "source": [
    "def greeting(func):\n",
    "    def wrapper(x):\n",
    "        print('Hello')\n",
    "        func(x)\n",
    "        print('Nice to meet you')\n",
    "    return wrapper\n",
    "\n",
    "@greeting\n",
    "def self_introduction(name):\n",
    "    print(f'My name is {name}.')\n",
    "    \n",
    "\n",
    "name = input('What your name?: ')\n",
    "self_introduction(name)"
   ]
  },
  {
   "cell_type": "code",
   "execution_count": 4,
   "id": "4939efe5-5673-4806-8ef3-4684b0a03360",
   "metadata": {},
   "outputs": [
    {
     "name": "stdin",
     "output_type": "stream",
     "text": [
      "What your name?:  aki\n"
     ]
    },
    {
     "name": "stdout",
     "output_type": "stream",
     "text": [
      "Hello\n",
      "My name is aki.\n",
      "Nice to meet you\n"
     ]
    }
   ],
   "source": [
    "def greeting(func):\n",
    "    def wrapper(x):\n",
    "        print('Hello')\n",
    "        func(x)\n",
    "        print('Nice to meet you')\n",
    "    return wrapper\n",
    "\n",
    "\n",
    "def self_introduction(name):\n",
    "    print(f'My name is {name}.')\n",
    "    \n",
    "\n",
    "name = input('What your name?: ')\n",
    "greeting(self_introduction)(name)"
   ]
  },
  {
   "cell_type": "code",
   "execution_count": 13,
   "id": "b731032d-cbff-4e79-b793-68ffbc28d636",
   "metadata": {},
   "outputs": [
    {
     "name": "stdin",
     "output_type": "stream",
     "text": [
      "start_number:  1\n",
      "stop_number 20\n"
     ]
    },
    {
     "name": "stdout",
     "output_type": "stream",
     "text": [
      "1 2 3 4 5 6 7 8 9 10 11 12 13 14 15 16 17 18 19 20 "
     ]
    }
   ],
   "source": [
    "def func(x):\n",
    "    while True:\n",
    "        yield x\n",
    "        x += 1\n",
    "        \n",
    "        \n",
    "start = int(input('start_number: '))\n",
    "stop = int(input('stop_number'))\n",
    "for i in func(start):\n",
    "    if i <= stop:\n",
    "        print(i, end=' ')\n",
    "    else:\n",
    "        break"
   ]
  },
  {
   "cell_type": "code",
   "execution_count": 2,
   "id": "2576bd44-83f6-44e0-bacc-cc74f8dd2d52",
   "metadata": {},
   "outputs": [
    {
     "name": "stdin",
     "output_type": "stream",
     "text": [
      "start_number 1\n",
      "stop_number 20\n"
     ]
    },
    {
     "name": "stdout",
     "output_type": "stream",
     "text": [
      "1 2 3 4 5 6 7 8 9 10 11 12 13 14 15 16 17 18 19 20 "
     ]
    }
   ],
   "source": [
    "def func(x):\n",
    "    while True:\n",
    "        yield x\n",
    "        x += 1\n",
    "        \n",
    "start = int(input('start_number'))\n",
    "stop = int(input('stop_number'))\n",
    "for i in func(start):\n",
    "    if i <= stop:\n",
    "        print(i, end=' ')\n",
    "    else:\n",
    "        break"
   ]
  },
  {
   "cell_type": "code",
   "execution_count": 4,
   "id": "16465629-2dff-40ef-b23c-ff5bb4ac7d92",
   "metadata": {},
   "outputs": [
    {
     "name": "stdin",
     "output_type": "stream",
     "text": [
      "start_number 1\n",
      "stop_number 20\n"
     ]
    },
    {
     "name": "stdout",
     "output_type": "stream",
     "text": [
      "1 2 3 4 5 6 7 8 9 10 11 12 13 14 15 16 17 18 19 20 "
     ]
    }
   ],
   "source": [
    "def func(x):\n",
    "    while x <= stop:\n",
    "        yield x\n",
    "        x += 1\n",
    "        \n",
    "start = int(input('start_number'))\n",
    "stop = int(input('stop_number'))\n",
    "for i in func(start):\n",
    "    print(i, end=' ')"
   ]
  },
  {
   "cell_type": "code",
   "execution_count": 6,
   "id": "5741e05b-ce3b-43a0-9ecb-47810d81d6f8",
   "metadata": {},
   "outputs": [
    {
     "data": {
      "text/plain": [
       "8"
      ]
     },
     "execution_count": 6,
     "metadata": {},
     "output_type": "execute_result"
    }
   ],
   "source": [
    "def outer_power(n):\n",
    "    def inner_power(m):\n",
    "        return n ** m\n",
    "    return inner_power\n",
    "\n",
    "two = outer_power(2)\n",
    "two(3)"
   ]
  },
  {
   "cell_type": "code",
   "execution_count": null,
   "id": "40571643-58d6-4d99-8fae-d997182f80cd",
   "metadata": {},
   "outputs": [],
   "source": [
    "def add_list(func)"
   ]
  },
  {
   "cell_type": "code",
   "execution_count": 15,
   "id": "4376ad90-ee00-4251-95cb-26c3d054fcac",
   "metadata": {},
   "outputs": [
    {
     "name": "stdout",
     "output_type": "stream",
     "text": [
      "入力された値の２〜９乗までを返します。\n"
     ]
    },
    {
     "name": "stdin",
     "output_type": "stream",
     "text": [
      ":  2\n"
     ]
    },
    {
     "name": "stdout",
     "output_type": "stream",
     "text": [
      "2の2乗は4\n",
      "2の3乗は8\n",
      "2の4乗は16\n",
      "2の5乗は32\n",
      "2の6乗は64\n",
      "2の7乗は128\n",
      "2の8乗は256\n",
      "2の9乗は512\n"
     ]
    },
    {
     "data": {
      "text/plain": [
       "[4, 8, 16, 32, 64, 128, 256, 512]"
      ]
     },
     "execution_count": 15,
     "metadata": {},
     "output_type": "execute_result"
    }
   ],
   "source": [
    "num = [2, 3, 4, 5, 6, 7, 8, 9]\n",
    "power_result = []\n",
    "def power(n):\n",
    "    for i in num:\n",
    "        result = n**i\n",
    "        print(f'{n}の{i}乗は{result}')\n",
    "        power_result.append(result)\n",
    "    return power_result\n",
    "\n",
    "\n",
    "print('入力された値の２〜９乗までを返します。')\n",
    "n = int(input(': '))\n",
    "power(n)"
   ]
  },
  {
   "cell_type": "code",
   "execution_count": 27,
   "id": "95cad314-c5b6-41ef-be41-2975ca67eb69",
   "metadata": {},
   "outputs": [],
   "source": [
    "def add_number(func):\n",
    "    def wrapper(x):\n",
    "        num = [2, 3, 4, 5, 6, 7, 8, 9]\n",
    "        for i in num:\n",
    "            func(i)\n",
    "    return wrapper"
   ]
  },
  {
   "cell_type": "code",
   "execution_count": 40,
   "id": "eff2688c-a2ac-455e-b3c7-e021e427a215",
   "metadata": {},
   "outputs": [
    {
     "name": "stdout",
     "output_type": "stream",
     "text": [
      "2の2乗は4\n",
      "3の2乗は9\n",
      "4の2乗は16\n",
      "5の2乗は25\n",
      "6の2乗は36\n",
      "7の2乗は49\n",
      "8の2乗は64\n",
      "9の2乗は81\n"
     ]
    }
   ],
   "source": [
    "@add_number\n",
    "def power(n):\n",
    "    result = n ** 2\n",
    "    print(f'{n}の2乗は{result}')\n",
    "    return result\n",
    "\n",
    "power(2)"
   ]
  },
  {
   "cell_type": "code",
   "execution_count": 31,
   "id": "0e6028e5-f164-48dd-91ec-b96902d0dce0",
   "metadata": {},
   "outputs": [
    {
     "ename": "NameError",
     "evalue": "name 'result' is not defined",
     "output_type": "error",
     "traceback": [
      "\u001b[0;31m---------------------------------------------------------------------------\u001b[0m",
      "\u001b[0;31mNameError\u001b[0m                                 Traceback (most recent call last)",
      "\u001b[0;32m/tmp/ipykernel_341/1049141082.py\u001b[0m in \u001b[0;36m<module>\u001b[0;34m\u001b[0m\n\u001b[0;32m----> 1\u001b[0;31m \u001b[0mresult\u001b[0m\u001b[0;34m\u001b[0m\u001b[0;34m\u001b[0m\u001b[0m\n\u001b[0m",
      "\u001b[0;31mNameError\u001b[0m: name 'result' is not defined"
     ]
    }
   ],
   "source": []
  },
  {
   "cell_type": "code",
   "execution_count": null,
   "id": "87a7678c-53c3-4494-8516-2af27b9ff4e6",
   "metadata": {},
   "outputs": [],
   "source": []
  }
 ],
 "metadata": {
  "kernelspec": {
   "display_name": "Python 3 (ipykernel)",
   "language": "python",
   "name": "python3"
  },
  "language_info": {
   "codemirror_mode": {
    "name": "ipython",
    "version": 3
   },
   "file_extension": ".py",
   "mimetype": "text/x-python",
   "name": "python",
   "nbconvert_exporter": "python",
   "pygments_lexer": "ipython3",
   "version": "3.9.13"
  }
 },
 "nbformat": 4,
 "nbformat_minor": 5
}
