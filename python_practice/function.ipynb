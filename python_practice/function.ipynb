{
 "cells": [
  {
   "cell_type": "code",
   "execution_count": 1,
   "id": "46251301-9fae-4159-b6ad-400726b0c6a2",
   "metadata": {},
   "outputs": [
    {
     "name": "stdout",
     "output_type": "stream",
     "text": [
      "one : 1\n",
      "two : 2\n"
     ]
    }
   ],
   "source": [
    "def print_dict(input_dict):\n",
    "    for k, v in input_dict.items():\n",
    "        print(k, ':', v)\n",
    "        \n",
    "num_dict = {'one': 1, 'two': 2}\n",
    "print_dict(num_dict)"
   ]
  },
  {
   "cell_type": "code",
   "execution_count": 6,
   "id": "c0d13bd5-a5a1-4eb3-a73c-f9eaa3615484",
   "metadata": {},
   "outputs": [
    {
     "name": "stdout",
     "output_type": "stream",
     "text": [
      "one : 1\n",
      "two : 2\n"
     ]
    }
   ],
   "source": [
    "print_dict(num_dict)"
   ]
  },
  {
   "cell_type": "code",
   "execution_count": 8,
   "id": "81b46ed0-c440-499c-9b03-3db516a1b376",
   "metadata": {},
   "outputs": [
    {
     "name": "stdout",
     "output_type": "stream",
     "text": [
      "one : 1\n",
      "two : 2\n",
      "None\n"
     ]
    }
   ],
   "source": [
    "print(print_dict(num_dict))"
   ]
  },
  {
   "cell_type": "code",
   "execution_count": 12,
   "id": "734cdff0-65a7-45fc-a289-5917cfcf5a3c",
   "metadata": {},
   "outputs": [],
   "source": [
    "def get_first_last_word(text):\n",
    "    word = text.split()\n",
    "    return word[0], word[1]"
   ]
  },
  {
   "cell_type": "code",
   "execution_count": 11,
   "id": "4c3dfe66-eb7b-4d81-9f51-15362ffe6ac7",
   "metadata": {},
   "outputs": [
    {
     "data": {
      "text/plain": [
       "'H'"
      ]
     },
     "execution_count": 11,
     "metadata": {},
     "output_type": "execute_result"
    }
   ],
   "source": [
    "text = 'Hello would'\n",
    "text.split()[0][0]"
   ]
  },
  {
   "cell_type": "code",
   "execution_count": 13,
   "id": "c84f3121-91c6-421f-9205-d54d9d125f99",
   "metadata": {},
   "outputs": [
    {
     "name": "stdout",
     "output_type": "stream",
     "text": [
      "Hello\n",
      "would\n"
     ]
    }
   ],
   "source": [
    "word1, word2 = get_first_last_word(text)\n",
    "print(word1)\n",
    "print(word2)"
   ]
  },
  {
   "cell_type": "code",
   "execution_count": 16,
   "id": "44718439-a539-41cb-a141-5bf152d648ca",
   "metadata": {},
   "outputs": [
    {
     "data": {
      "text/plain": [
       "'Aki'"
      ]
     },
     "execution_count": 16,
     "metadata": {},
     "output_type": "execute_result"
    }
   ],
   "source": [
    "text = 'My name is Aki.'\n",
    "text = text.replace('.', '')\n",
    "text.split()[-1]"
   ]
  },
  {
   "cell_type": "markdown",
   "id": "afd2d5cd-1de4-445d-8c55-e51771ced036",
   "metadata": {},
   "source": [
    "### *args, **kwargs"
   ]
  },
  {
   "cell_type": "code",
   "execution_count": 24,
   "id": "38cb2b8d-4b00-437b-9e79-15500f1e2716",
   "metadata": {},
   "outputs": [
    {
     "data": {
      "text/plain": [
       "0"
      ]
     },
     "execution_count": 24,
     "metadata": {},
     "output_type": "execute_result"
    }
   ],
   "source": [
    "def get_average(*args):\n",
    "    num = len(args)\n",
    "    if num == 0:\n",
    "        return 0\n",
    "    total = sum(args)\n",
    "    return total / num\n",
    "    \n",
    "get_average()"
   ]
  },
  {
   "cell_type": "code",
   "execution_count": 21,
   "id": "784cfbad-00f8-43b1-8565-58d0047ced02",
   "metadata": {},
   "outputs": [
    {
     "data": {
      "text/plain": [
       "10"
      ]
     },
     "execution_count": 21,
     "metadata": {},
     "output_type": "execute_result"
    }
   ],
   "source": [
    "num = (1, 2, 3, 4)\n",
    "sum(num)"
   ]
  },
  {
   "cell_type": "code",
   "execution_count": 28,
   "id": "483214e2-e00d-47bb-91bd-949fae9fe7a6",
   "metadata": {},
   "outputs": [],
   "source": [
    "def kw_func(**kwargs):\n",
    "    print(kwargs)\n",
    "    \n"
   ]
  },
  {
   "cell_type": "code",
   "execution_count": 29,
   "id": "bab7a0fa-a00c-4d3c-9040-4abfbcdc5489",
   "metadata": {},
   "outputs": [
    {
     "name": "stdout",
     "output_type": "stream",
     "text": [
      "{'param1': 10, 'param2': 20}\n"
     ]
    }
   ],
   "source": [
    "kw_func(param1=10, param2=20)"
   ]
  },
  {
   "cell_type": "code",
   "execution_count": 32,
   "id": "5e0fe669-4298-4a36-94ee-e17153bb3335",
   "metadata": {},
   "outputs": [
    {
     "data": {
      "text/plain": [
       "'nothing'"
      ]
     },
     "execution_count": 32,
     "metadata": {},
     "output_type": "execute_result"
    }
   ],
   "source": [
    "d = {'one': 1, 'two':2}\n",
    "d.get('three', 'nothing')"
   ]
  },
  {
   "cell_type": "code",
   "execution_count": 40,
   "id": "cd24c214-2724-4391-ac8c-077e840de374",
   "metadata": {},
   "outputs": [
    {
     "name": "stdout",
     "output_type": "stream",
     "text": [
      "{'param1': 10, 'param2': 20, 'param3': 30}\n",
      "10 20 30 4\n"
     ]
    }
   ],
   "source": [
    "def kwargs_func(**kwargs):\n",
    "    print(kwargs)\n",
    "    param1 = kwargs.get('param1', 1)\n",
    "    param2 = kwargs.get('param2', 2)    \n",
    "    param3 = kwargs.get('param3', 3)    \n",
    "    param4 = kwargs.get('param4', 4)    \n",
    "    \n",
    "    print(param1, param2, param3, param4)\n",
    "    \n",
    "kwargs_func(param1=10, param2=20, param3=30)"
   ]
  },
  {
   "cell_type": "code",
   "execution_count": 41,
   "id": "2359c2e3-5234-4edf-bedc-6db1195ab331",
   "metadata": {},
   "outputs": [
    {
     "name": "stdout",
     "output_type": "stream",
     "text": [
      "(1, 2, 3)\n",
      "1 2 3\n"
     ]
    }
   ],
   "source": [
    "t = (1, 2, 3)\n",
    "print(t)\n",
    "print(*t)"
   ]
  },
  {
   "cell_type": "code",
   "execution_count": 2,
   "id": "95ae81b1-362c-40c3-bbc8-52b42586bbcf",
   "metadata": {},
   "outputs": [
    {
     "name": "stdin",
     "output_type": "stream",
     "text": [
      "What your name?:  aki\n"
     ]
    },
    {
     "name": "stdout",
     "output_type": "stream",
     "text": [
      "Hello\n",
      "My name is aki.\n",
      "Nice to meet you\n"
     ]
    }
   ],
   "source": [
    "def greeting(func):\n",
    "    def wrapper(x):\n",
    "        print('Hello')\n",
    "        func(x)\n",
    "        print('Nice to meet you')\n",
    "    return wrapper\n",
    "\n",
    "@greeting\n",
    "def self_introduction(name):\n",
    "    print(f'My name is {name}.')\n",
    "    \n",
    "\n",
    "name = input('What your name?: ')\n",
    "self_introduction(name)"
   ]
  },
  {
   "cell_type": "code",
   "execution_count": 4,
   "id": "4939efe5-5673-4806-8ef3-4684b0a03360",
   "metadata": {},
   "outputs": [
    {
     "name": "stdin",
     "output_type": "stream",
     "text": [
      "What your name?:  aki\n"
     ]
    },
    {
     "name": "stdout",
     "output_type": "stream",
     "text": [
      "Hello\n",
      "My name is aki.\n",
      "Nice to meet you\n"
     ]
    }
   ],
   "source": [
    "def greeting(func):\n",
    "    def wrapper(x):\n",
    "        print('Hello')\n",
    "        func(x)\n",
    "        print('Nice to meet you')\n",
    "    return wrapper\n",
    "\n",
    "\n",
    "def self_introduction(name):\n",
    "    print(f'My name is {name}.')\n",
    "    \n",
    "\n",
    "name = input('What your name?: ')\n",
    "greeting(self_introduction)(name)"
   ]
  },
  {
   "cell_type": "code",
   "execution_count": 13,
   "id": "b731032d-cbff-4e79-b793-68ffbc28d636",
   "metadata": {},
   "outputs": [
    {
     "name": "stdin",
     "output_type": "stream",
     "text": [
      "start_number:  1\n",
      "stop_number 20\n"
     ]
    },
    {
     "name": "stdout",
     "output_type": "stream",
     "text": [
      "1 2 3 4 5 6 7 8 9 10 11 12 13 14 15 16 17 18 19 20 "
     ]
    }
   ],
   "source": [
    "def func(x):\n",
    "    while True:\n",
    "        yield x\n",
    "        x += 1\n",
    "        \n",
    "        \n",
    "start = int(input('start_number: '))\n",
    "stop = int(input('stop_number'))\n",
    "for i in func(start):\n",
    "    if i <= stop:\n",
    "        print(i, end=' ')\n",
    "    else:\n",
    "        break"
   ]
  },
  {
   "cell_type": "code",
   "execution_count": 2,
   "id": "2576bd44-83f6-44e0-bacc-cc74f8dd2d52",
   "metadata": {},
   "outputs": [
    {
     "name": "stdin",
     "output_type": "stream",
     "text": [
      "start_number 1\n",
      "stop_number 20\n"
     ]
    },
    {
     "name": "stdout",
     "output_type": "stream",
     "text": [
      "1 2 3 4 5 6 7 8 9 10 11 12 13 14 15 16 17 18 19 20 "
     ]
    }
   ],
   "source": [
    "def func(x):\n",
    "    while True:\n",
    "        yield x\n",
    "        x += 1\n",
    "        \n",
    "start = int(input('start_number'))\n",
    "stop = int(input('stop_number'))\n",
    "for i in func(start):\n",
    "    if i <= stop:\n",
    "        print(i, end=' ')\n",
    "    else:\n",
    "        break"
   ]
  },
  {
   "cell_type": "code",
   "execution_count": 4,
   "id": "16465629-2dff-40ef-b23c-ff5bb4ac7d92",
   "metadata": {},
   "outputs": [
    {
     "name": "stdin",
     "output_type": "stream",
     "text": [
      "start_number 1\n",
      "stop_number 20\n"
     ]
    },
    {
     "name": "stdout",
     "output_type": "stream",
     "text": [
      "1 2 3 4 5 6 7 8 9 10 11 12 13 14 15 16 17 18 19 20 "
     ]
    }
   ],
   "source": [
    "def func(x):\n",
    "    while x <= stop:\n",
    "        yield x\n",
    "        x += 1\n",
    "        \n",
    "start = int(input('start_number'))\n",
    "stop = int(input('stop_number'))\n",
    "for i in func(start):\n",
    "    print(i, end=' ')"
   ]
  },
  {
   "cell_type": "code",
   "execution_count": 6,
   "id": "5741e05b-ce3b-43a0-9ecb-47810d81d6f8",
   "metadata": {},
   "outputs": [
    {
     "data": {
      "text/plain": [
       "8"
      ]
     },
     "execution_count": 6,
     "metadata": {},
     "output_type": "execute_result"
    }
   ],
   "source": [
    "def outer_power(n):\n",
    "    def inner_power(m):\n",
    "        return n ** m\n",
    "    return inner_power\n",
    "\n",
    "two = outer_power(2)\n",
    "two(3)"
   ]
  },
  {
   "cell_type": "code",
   "execution_count": null,
   "id": "40571643-58d6-4d99-8fae-d997182f80cd",
   "metadata": {},
   "outputs": [],
   "source": [
    "def add_list(func)"
   ]
  },
  {
   "cell_type": "code",
   "execution_count": 15,
   "id": "4376ad90-ee00-4251-95cb-26c3d054fcac",
   "metadata": {},
   "outputs": [
    {
     "name": "stdout",
     "output_type": "stream",
     "text": [
      "入力された値の２〜９乗までを返します。\n"
     ]
    },
    {
     "name": "stdin",
     "output_type": "stream",
     "text": [
      ":  2\n"
     ]
    },
    {
     "name": "stdout",
     "output_type": "stream",
     "text": [
      "2の2乗は4\n",
      "2の3乗は8\n",
      "2の4乗は16\n",
      "2の5乗は32\n",
      "2の6乗は64\n",
      "2の7乗は128\n",
      "2の8乗は256\n",
      "2の9乗は512\n"
     ]
    },
    {
     "data": {
      "text/plain": [
       "[4, 8, 16, 32, 64, 128, 256, 512]"
      ]
     },
     "execution_count": 15,
     "metadata": {},
     "output_type": "execute_result"
    }
   ],
   "source": [
    "num = [2, 3, 4, 5, 6, 7, 8, 9]\n",
    "power_result = []\n",
    "def power(n):\n",
    "    for i in num:\n",
    "        result = n**i\n",
    "        print(f'{n}の{i}乗は{result}')\n",
    "        power_result.append(result)\n",
    "    return power_result\n",
    "\n",
    "\n",
    "print('入力された値の２〜９乗までを返します。')\n",
    "n = int(input(': '))\n",
    "power(n)"
   ]
  },
  {
   "cell_type": "code",
   "execution_count": 27,
   "id": "95cad314-c5b6-41ef-be41-2975ca67eb69",
   "metadata": {},
   "outputs": [],
   "source": [
    "def add_number(func):\n",
    "    def wrapper(x):\n",
    "        num = [2, 3, 4, 5, 6, 7, 8, 9]\n",
    "        for i in num:\n",
    "            func(i)\n",
    "    return wrapper"
   ]
  },
  {
   "cell_type": "code",
   "execution_count": 40,
   "id": "eff2688c-a2ac-455e-b3c7-e021e427a215",
   "metadata": {},
   "outputs": [
    {
     "name": "stdout",
     "output_type": "stream",
     "text": [
      "2の2乗は4\n",
      "3の2乗は9\n",
      "4の2乗は16\n",
      "5の2乗は25\n",
      "6の2乗は36\n",
      "7の2乗は49\n",
      "8の2乗は64\n",
      "9の2乗は81\n"
     ]
    }
   ],
   "source": [
    "@add_number\n",
    "def power(n):\n",
    "    result = n ** 2\n",
    "    print(f'{n}の2乗は{result}')\n",
    "    return result\n",
    "\n",
    "power(2)"
   ]
  },
  {
   "cell_type": "code",
   "execution_count": 41,
   "id": "0e6028e5-f164-48dd-91ec-b96902d0dce0",
   "metadata": {},
   "outputs": [
    {
     "name": "stdout",
     "output_type": "stream",
     "text": [
      "0\n",
      "1\n",
      "2\n",
      "3\n",
      "4\n",
      "5\n"
     ]
    }
   ],
   "source": [
    "for i in range(6):\n",
    "    print(i)"
   ]
  },
  {
   "cell_type": "code",
   "execution_count": 51,
   "id": "87a7678c-53c3-4494-8516-2af27b9ff4e6",
   "metadata": {},
   "outputs": [
    {
     "name": "stdout",
     "output_type": "stream",
     "text": [
      "8\n"
     ]
    }
   ],
   "source": [
    "def fibo(n):\n",
    "    n_1 = 1\n",
    "    n_2 = 0\n",
    "    if n == 0:\n",
    "        return 0\n",
    "    for _ in range(n):\n",
    "        if n <= 2:\n",
    "            return n_1 + n_2\n",
    "        else:\n",
    "            num = n_1\n",
    "            n_1 += n_2\n",
    "            n_2 = num\n",
    "            n -= 1\n",
    "            \n",
    "print(fibo(6))"
   ]
  },
  {
   "cell_type": "code",
   "execution_count": 43,
   "id": "3d6f1abc-c066-4c29-8f5a-66dcfb1f2f1f",
   "metadata": {},
   "outputs": [
    {
     "name": "stdout",
     "output_type": "stream",
     "text": [
      "8\n"
     ]
    }
   ],
   "source": [
    "def fibo_kame(n):\n",
    "    if n < 2:\n",
    "        return n\n",
    "    else:\n",
    "        n_1 = 1\n",
    "        n_2 = 0\n",
    "        for _ in range(n-1):\n",
    "            result = n_1 + n_2\n",
    "            n_2 = n_1\n",
    "            n_1 = result\n",
    "        return result\n",
    "    \n",
    "print(fibo_kame(6))"
   ]
  },
  {
   "cell_type": "code",
   "execution_count": 48,
   "id": "60b775cc-e9d7-4a98-9a07-6deb86c63e54",
   "metadata": {},
   "outputs": [],
   "source": [
    "import time"
   ]
  },
  {
   "cell_type": "code",
   "execution_count": 55,
   "id": "9e0b85be-f56f-4c40-9613-1dfac4bc7592",
   "metadata": {
    "collapsed": true,
    "jupyter": {
     "outputs_hidden": true
    },
    "tags": []
   },
   "outputs": [
    {
     "name": "stdout",
     "output_type": "stream",
     "text": [
      "fibonacci-0:  0\n",
      "fibonacci-1:  1\n",
      "fibonacci-2:  1\n",
      "fibonacci-3:  2\n",
      "fibonacci-4:  3\n",
      "fibonacci-5:  5\n",
      "fibonacci-6:  8\n",
      "fibonacci-7:  13\n",
      "fibonacci-8:  21\n",
      "fibonacci-9:  34\n",
      "fibonacci-10:  55\n",
      "fibonacci-11:  89\n",
      "fibonacci-12:  144\n",
      "fibonacci-13:  233\n",
      "fibonacci-14:  377\n",
      "fibonacci-15:  610\n",
      "fibonacci-16:  987\n",
      "fibonacci-17:  1597\n",
      "fibonacci-18:  2584\n",
      "fibonacci-19:  4181\n",
      "fibonacci-20:  6765\n",
      "fibonacci-21:  10946\n",
      "fibonacci-22:  17711\n",
      "fibonacci-23:  28657\n",
      "fibonacci-24:  46368\n",
      "fibonacci-25:  75025\n",
      "fibonacci-26:  121393\n",
      "fibonacci-27:  196418\n",
      "fibonacci-28:  317811\n",
      "fibonacci-29:  514229\n",
      "fibonacci-30:  832040\n",
      "fibonacci-31:  1346269\n",
      "fibonacci-32:  2178309\n",
      "fibonacci-33:  3524578\n",
      "fibonacci-34:  5702887\n",
      "fibonacci-35:  9227465\n",
      "fibonacci-36:  14930352\n",
      "fibonacci-37:  24157817\n",
      "fibonacci-38:  39088169\n",
      "fibonacci-39:  63245986\n",
      "fibonacci-40:  102334155\n",
      "fibonacci-41:  165580141\n",
      "fibonacci-42:  267914296\n",
      "fibonacci-43:  433494437\n",
      "fibonacci-44:  701408733\n",
      "fibonacci-45:  1134903170\n",
      "fibonacci-46:  1836311903\n",
      "fibonacci-47:  2971215073\n",
      "fibonacci-48:  4807526976\n",
      "fibonacci-49:  7778742049\n",
      "fibonacci-50:  12586269025\n",
      "fibonacci-51:  20365011074\n",
      "fibonacci-52:  32951280099\n",
      "fibonacci-53:  53316291173\n",
      "fibonacci-54:  86267571272\n",
      "fibonacci-55:  139583862445\n",
      "fibonacci-56:  225851433717\n",
      "fibonacci-57:  365435296162\n",
      "fibonacci-58:  591286729879\n",
      "fibonacci-59:  956722026041\n",
      "fibonacci-60:  1548008755920\n",
      "fibonacci-61:  2504730781961\n",
      "fibonacci-62:  4052739537881\n",
      "fibonacci-63:  6557470319842\n",
      "fibonacci-64:  10610209857723\n",
      "fibonacci-65:  17167680177565\n",
      "fibonacci-66:  27777890035288\n",
      "fibonacci-67:  44945570212853\n",
      "fibonacci-68:  72723460248141\n",
      "fibonacci-69:  117669030460994\n",
      "fibonacci-70:  190392490709135\n",
      "fibonacci-71:  308061521170129\n",
      "fibonacci-72:  498454011879264\n",
      "fibonacci-73:  806515533049393\n",
      "fibonacci-74:  1304969544928657\n",
      "fibonacci-75:  2111485077978050\n",
      "fibonacci-76:  3416454622906707\n",
      "fibonacci-77:  5527939700884757\n",
      "fibonacci-78:  8944394323791464\n",
      "fibonacci-79:  14472334024676221\n",
      "fibonacci-80:  23416728348467685\n",
      "fibonacci-81:  37889062373143906\n",
      "fibonacci-82:  61305790721611591\n",
      "fibonacci-83:  99194853094755497\n",
      "fibonacci-84:  160500643816367088\n",
      "fibonacci-85:  259695496911122585\n",
      "fibonacci-86:  420196140727489673\n",
      "fibonacci-87:  679891637638612258\n",
      "fibonacci-88:  1100087778366101931\n",
      "fibonacci-89:  1779979416004714189\n",
      "fibonacci-90:  2880067194370816120\n",
      "fibonacci-91:  4660046610375530309\n",
      "fibonacci-92:  7540113804746346429\n",
      "fibonacci-93:  12200160415121876738\n",
      "fibonacci-94:  19740274219868223167\n",
      "fibonacci-95:  31940434634990099905\n",
      "fibonacci-96:  51680708854858323072\n",
      "fibonacci-97:  83621143489848422977\n",
      "fibonacci-98:  135301852344706746049\n",
      "fibonacci-99:  218922995834555169026\n",
      "0.002405405044555664\n"
     ]
    }
   ],
   "source": [
    "before = time.time()\n",
    "for i in range(100):\n",
    "    print(f'fibonacci-{i}: ',fibo_kame(i))\n",
    "after = time.time()\n",
    "total = after - before\n",
    "print(total)"
   ]
  },
  {
   "cell_type": "code",
   "execution_count": 56,
   "id": "c12be93e-c3d9-4e44-83fa-2f7df6ab5f6b",
   "metadata": {
    "collapsed": true,
    "jupyter": {
     "outputs_hidden": true
    },
    "tags": []
   },
   "outputs": [
    {
     "name": "stdout",
     "output_type": "stream",
     "text": [
      "fibonacci-0:  0\n",
      "fibonacci-1:  1\n",
      "fibonacci-2:  1\n",
      "fibonacci-3:  2\n",
      "fibonacci-4:  3\n",
      "fibonacci-5:  5\n",
      "fibonacci-6:  8\n",
      "fibonacci-7:  13\n",
      "fibonacci-8:  21\n",
      "fibonacci-9:  34\n",
      "fibonacci-10:  55\n",
      "fibonacci-11:  89\n",
      "fibonacci-12:  144\n",
      "fibonacci-13:  233\n",
      "fibonacci-14:  377\n",
      "fibonacci-15:  610\n",
      "fibonacci-16:  987\n",
      "fibonacci-17:  1597\n",
      "fibonacci-18:  2584\n",
      "fibonacci-19:  4181\n",
      "fibonacci-20:  6765\n",
      "fibonacci-21:  10946\n",
      "fibonacci-22:  17711\n",
      "fibonacci-23:  28657\n",
      "fibonacci-24:  46368\n",
      "fibonacci-25:  75025\n",
      "fibonacci-26:  121393\n",
      "fibonacci-27:  196418\n",
      "fibonacci-28:  317811\n",
      "fibonacci-29:  514229\n",
      "fibonacci-30:  832040\n",
      "fibonacci-31:  1346269\n",
      "fibonacci-32:  2178309\n",
      "fibonacci-33:  3524578\n",
      "fibonacci-34:  5702887\n",
      "fibonacci-35:  9227465\n",
      "fibonacci-36:  14930352\n",
      "fibonacci-37:  24157817\n",
      "fibonacci-38:  39088169\n",
      "fibonacci-39:  63245986\n",
      "fibonacci-40:  102334155\n",
      "fibonacci-41:  165580141\n",
      "fibonacci-42:  267914296\n",
      "fibonacci-43:  433494437\n",
      "fibonacci-44:  701408733\n",
      "fibonacci-45:  1134903170\n",
      "fibonacci-46:  1836311903\n",
      "fibonacci-47:  2971215073\n",
      "fibonacci-48:  4807526976\n",
      "fibonacci-49:  7778742049\n",
      "fibonacci-50:  12586269025\n",
      "fibonacci-51:  20365011074\n",
      "fibonacci-52:  32951280099\n",
      "fibonacci-53:  53316291173\n",
      "fibonacci-54:  86267571272\n",
      "fibonacci-55:  139583862445\n",
      "fibonacci-56:  225851433717\n",
      "fibonacci-57:  365435296162\n",
      "fibonacci-58:  591286729879\n",
      "fibonacci-59:  956722026041\n",
      "fibonacci-60:  1548008755920\n",
      "fibonacci-61:  2504730781961\n",
      "fibonacci-62:  4052739537881\n",
      "fibonacci-63:  6557470319842\n",
      "fibonacci-64:  10610209857723\n",
      "fibonacci-65:  17167680177565\n",
      "fibonacci-66:  27777890035288\n",
      "fibonacci-67:  44945570212853\n",
      "fibonacci-68:  72723460248141\n",
      "fibonacci-69:  117669030460994\n",
      "fibonacci-70:  190392490709135\n",
      "fibonacci-71:  308061521170129\n",
      "fibonacci-72:  498454011879264\n",
      "fibonacci-73:  806515533049393\n",
      "fibonacci-74:  1304969544928657\n",
      "fibonacci-75:  2111485077978050\n",
      "fibonacci-76:  3416454622906707\n",
      "fibonacci-77:  5527939700884757\n",
      "fibonacci-78:  8944394323791464\n",
      "fibonacci-79:  14472334024676221\n",
      "fibonacci-80:  23416728348467685\n",
      "fibonacci-81:  37889062373143906\n",
      "fibonacci-82:  61305790721611591\n",
      "fibonacci-83:  99194853094755497\n",
      "fibonacci-84:  160500643816367088\n",
      "fibonacci-85:  259695496911122585\n",
      "fibonacci-86:  420196140727489673\n",
      "fibonacci-87:  679891637638612258\n",
      "fibonacci-88:  1100087778366101931\n",
      "fibonacci-89:  1779979416004714189\n",
      "fibonacci-90:  2880067194370816120\n",
      "fibonacci-91:  4660046610375530309\n",
      "fibonacci-92:  7540113804746346429\n",
      "fibonacci-93:  12200160415121876738\n",
      "fibonacci-94:  19740274219868223167\n",
      "fibonacci-95:  31940434634990099905\n",
      "fibonacci-96:  51680708854858323072\n",
      "fibonacci-97:  83621143489848422977\n",
      "fibonacci-98:  135301852344706746049\n",
      "fibonacci-99:  218922995834555169026\n",
      "0.0022864341735839844\n"
     ]
    }
   ],
   "source": [
    "before = time.time()\n",
    "for i in range(100):\n",
    "    print(f'fibonacci-{i}: ',fibo(i))\n",
    "after = time.time()\n",
    "total = after - before\n",
    "print(total)"
   ]
  },
  {
   "cell_type": "code",
   "execution_count": 57,
   "id": "bada8342-e7e6-4140-8836-a9a690164e16",
   "metadata": {},
   "outputs": [
    {
     "name": "stdout",
     "output_type": "stream",
     "text": [
      "[33, 71, 3]\n"
     ]
    }
   ],
   "source": [
    "nums = [6, 33, 78, 92, 71, 3]\n",
    "print(list(filter(lambda i: i % 2, nums)))"
   ]
  },
  {
   "cell_type": "code",
   "execution_count": 58,
   "id": "3a2d36c7-9bbd-46b6-98df-71dc25db52cc",
   "metadata": {},
   "outputs": [
    {
     "data": {
      "text/plain": [
       "1"
      ]
     },
     "execution_count": 58,
     "metadata": {},
     "output_type": "execute_result"
    }
   ],
   "source": [
    "i % 2"
   ]
  },
  {
   "cell_type": "code",
   "execution_count": 59,
   "id": "b8f12f2a-c065-4f73-a974-1ff6b220b593",
   "metadata": {},
   "outputs": [
    {
     "name": "stdout",
     "output_type": "stream",
     "text": [
      "6\n",
      "33\n",
      "78\n",
      "92\n",
      "71\n",
      "3\n"
     ]
    }
   ],
   "source": [
    "for i in nums:\n",
    "    print(i)"
   ]
  },
  {
   "cell_type": "code",
   "execution_count": 62,
   "id": "10e3bf30-8315-4613-abd5-0412a12aa9b6",
   "metadata": {},
   "outputs": [
    {
     "name": "stdout",
     "output_type": "stream",
     "text": [
      "0\n",
      "1\n",
      "0\n",
      "0\n",
      "1\n",
      "1\n"
     ]
    }
   ],
   "source": [
    "for i in nums:\n",
    "    print(i % 2)"
   ]
  },
  {
   "cell_type": "code",
   "execution_count": 63,
   "id": "e37a7a4e-4c1d-4920-b311-c6534ee2af05",
   "metadata": {},
   "outputs": [
    {
     "name": "stdout",
     "output_type": "stream",
     "text": [
      "True\n",
      "False\n",
      "True\n",
      "True\n",
      "False\n",
      "False\n"
     ]
    }
   ],
   "source": [
    "for i in nums:\n",
    "    print(i % 2 == 0)"
   ]
  },
  {
   "cell_type": "code",
   "execution_count": 67,
   "id": "068b7f3b-dd53-4034-8369-3f877cb219e8",
   "metadata": {},
   "outputs": [],
   "source": [
    "def filter_nums(n):\n",
    "    if i % 2 == 0:\n",
    "        return True\n",
    "    else:\n",
    "        return False"
   ]
  },
  {
   "cell_type": "code",
   "execution_count": 66,
   "id": "ba0a6cee-6af1-4b26-88f3-e36d37a5a042",
   "metadata": {},
   "outputs": [
    {
     "data": {
      "text/plain": [
       "0"
      ]
     },
     "execution_count": 66,
     "metadata": {},
     "output_type": "execute_result"
    }
   ],
   "source": [
    "filter_nums(11)"
   ]
  },
  {
   "cell_type": "code",
   "execution_count": null,
   "id": "fa0d822d-f494-49a5-b7c9-12df37ee860b",
   "metadata": {},
   "outputs": [],
   "source": []
  }
 ],
 "metadata": {
  "kernelspec": {
   "display_name": "Python 3 (ipykernel)",
   "language": "python",
   "name": "python3"
  },
  "language_info": {
   "codemirror_mode": {
    "name": "ipython",
    "version": 3
   },
   "file_extension": ".py",
   "mimetype": "text/x-python",
   "name": "python",
   "nbconvert_exporter": "python",
   "pygments_lexer": "ipython3",
   "version": "3.9.13"
  }
 },
 "nbformat": 4,
 "nbformat_minor": 5
}
