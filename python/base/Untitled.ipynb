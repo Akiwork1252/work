{
 "cells": [
  {
   "cell_type": "code",
   "execution_count": 2,
   "id": "08bbea85-cfbd-4feb-b7d5-be4a2764e89b",
   "metadata": {},
   "outputs": [
    {
     "name": "stdout",
     "output_type": "stream",
     "text": [
      "1から10までの偶数を表示します\n",
      "2\n",
      "4\n",
      "6\n",
      "8\n",
      "10\n"
     ]
    }
   ],
   "source": [
    "print('1から10までの偶数を表示します')\n",
    "for i in range(1, 11):\n",
    "    if i % 2 == 0:\n",
    "        print(i)"
   ]
  },
  {
   "cell_type": "code",
   "execution_count": 8,
   "id": "d34efa3d-4682-4dda-a683-b5055c762405",
   "metadata": {},
   "outputs": [
    {
     "name": "stdout",
     "output_type": "stream",
     "text": [
      "2\n",
      "4\n",
      "6\n",
      "8\n",
      "10\n"
     ]
    }
   ],
   "source": [
    "for i in range(2, 11, 2):\n",
    "    print(i)"
   ]
  },
  {
   "cell_type": "code",
   "execution_count": 10,
   "id": "5ab90817-d57f-4f0f-b56e-b5829117d717",
   "metadata": {},
   "outputs": [
    {
     "name": "stdout",
     "output_type": "stream",
     "text": [
      "1\t2\t3\t4\t5\t6\t7\t8\t9\t\n",
      "2\t4\t6\t8\t10\t12\t14\t16\t18\t\n",
      "3\t6\t9\t12\t15\t18\t21\t24\t27\t\n",
      "4\t8\t12\t16\t20\t24\t28\t32\t36\t\n",
      "5\t10\t15\t20\t25\t30\t35\t40\t45\t\n",
      "6\t12\t18\t24\t30\t36\t42\t48\t54\t\n",
      "7\t14\t21\t28\t35\t42\t49\t56\t63\t\n",
      "8\t16\t24\t32\t40\t48\t56\t64\t72\t\n",
      "9\t18\t27\t36\t45\t54\t63\t72\t81\t\n"
     ]
    }
   ],
   "source": [
    "for i in range(1, 10):\n",
    "    for j in range(1, 10):\n",
    "        print(i * j, end='\\t')\n",
    "    print()"
   ]
  },
  {
   "cell_type": "code",
   "execution_count": 12,
   "id": "198368eb-5293-45f5-8077-9d3ee2280d64",
   "metadata": {},
   "outputs": [
    {
     "name": "stdout",
     "output_type": "stream",
     "text": [
      "*\n",
      "**\n",
      "***\n",
      "****\n",
      "*****\n"
     ]
    }
   ],
   "source": [
    "count = 1\n",
    "for i in range(5):\n",
    "    print('*'*count)\n",
    "    count += 1"
   ]
  },
  {
   "cell_type": "code",
   "execution_count": 15,
   "id": "2d6e81ab-ce4c-47af-a5fa-2abec72fcdc7",
   "metadata": {},
   "outputs": [
    {
     "name": "stdout",
     "output_type": "stream",
     "text": [
      "テストの点は[83, 85, 52, 70, 59]です。\n",
      "最高点は85点です。\n",
      "最低点は52点です。\n",
      "平均点は69.8点です。\n"
     ]
    }
   ],
   "source": [
    "import random\n",
    "\n",
    "test_score = [random.randint(50, 100) for _ in range(5)]\n",
    "print(f'テストの点は{test_score}です。')\n",
    "max_score = max(test_score)\n",
    "min_score = min(test_score)\n",
    "mean = sum(test_score) / len(test_score)\n",
    "print(f'最高点は{max_score}点です。')\n",
    "print(f'最低点は{min_score}点です。')\n",
    "print(f'平均点は{mean}点です。')"
   ]
  },
  {
   "cell_type": "code",
   "execution_count": 20,
   "id": "81551967-9db0-4c67-b2e4-3b3042fa908e",
   "metadata": {},
   "outputs": [
    {
     "name": "stdout",
     "output_type": "stream",
     "text": [
      "テストの点は[91, 88, 57, 91, 85]です。\n",
      "昇順は[57, 85, 88, 91, 91]です。\n",
      "降順は[91, 91, 88, 85, 57]です。\n"
     ]
    }
   ],
   "source": [
    "test_score = [random.randint(50, 100) for _ in range(5)]\n",
    "print(f'テストの点は{test_score}です。')\n",
    "test_score.sort()\n",
    "print(f'昇順は{test_score}です。')\n",
    "test_score.sort(reverse=True)\n",
    "print(f'降順は{test_score}です。')"
   ]
  },
  {
   "cell_type": "code",
   "execution_count": 23,
   "id": "7ed6e683-33eb-4f12-9a87-29770dc303dc",
   "metadata": {},
   "outputs": [
    {
     "name": "stdout",
     "output_type": "stream",
     "text": [
      "テストの点は[91, 100, 98, 53, 69]です。\n",
      "８０点以上は[91, 100, 98]です。\n",
      "８０点以上の人数は3人です。\n"
     ]
    }
   ],
   "source": [
    "test_score = [random.randint(50, 100) for _ in range(5)]\n",
    "print(f'テストの点は{test_score}です。')\n",
    "high_score = [i for i in test_score if i > 80]\n",
    "print(f'８０点以上は{high_score}です。')\n",
    "print(f'８０点以上の人数は{len(high_score)}人です。')"
   ]
  },
  {
   "cell_type": "code",
   "execution_count": 26,
   "id": "5d5c4d83-5dfd-417f-9e0d-31decda169a6",
   "metadata": {},
   "outputs": [
    {
     "name": "stdout",
     "output_type": "stream",
     "text": [
      "都市データ：['東京', '名古屋', '大阪', '京都', '福岡']\n",
      "最高気温データ：[32, 28, 30, 25, 31]\n",
      "最低気温データ：[5, 9, 5, 15, 15]\n",
      "東京の最高気温は32度、最低気温は5度です\n",
      "名古屋の最高気温は28度、最低気温は9度です\n",
      "大阪の最高気温は30度、最低気温は5度です\n",
      "京都の最高気温は25度、最低気温は15度です\n",
      "福岡の最高気温は31度、最低気温は15度です\n"
     ]
    }
   ],
   "source": [
    "citys = ['東京', '名古屋', '大阪', '京都', '福岡']\n",
    "max_temp = [random.randint(25, 35) for _ in range(5)]\n",
    "min_temp = [random.randint(5, 15) for _ in range(5)]\n",
    "\n",
    "print(f'都市データ：{citys}')\n",
    "print(f'最高気温データ：{max_temp}')\n",
    "print(f'最低気温データ：{min_temp}')\n",
    "\n",
    "for data in zip(citys, max_temp, min_temp):\n",
    "    city, mx, mn = data\n",
    "    print(f'{city}の最高気温は{mx}度、最低気温は{mn}度です')"
   ]
  },
  {
   "cell_type": "code",
   "execution_count": 2,
   "id": "925d7347-36c8-4777-b861-d1230cacf539",
   "metadata": {},
   "outputs": [],
   "source": [
    "def rpast(num):\n",
    "    print('*'*num)"
   ]
  },
  {
   "cell_type": "code",
   "execution_count": 4,
   "id": "649a21a1-6f18-4c1f-9dba-13ec8b1ea840",
   "metadata": {},
   "outputs": [
    {
     "name": "stdout",
     "output_type": "stream",
     "text": [
      "個数を入力してください。\n"
     ]
    },
    {
     "name": "stdin",
     "output_type": "stream",
     "text": [
      ": f\n"
     ]
    },
    {
     "name": "stdout",
     "output_type": "stream",
     "text": [
      "半角英数字で入力してください\n"
     ]
    },
    {
     "name": "stdin",
     "output_type": "stream",
     "text": [
      ": 10\n"
     ]
    },
    {
     "name": "stdout",
     "output_type": "stream",
     "text": [
      "**********\n"
     ]
    }
   ],
   "source": [
    "print('個数を入力してください。')\n",
    "active = True\n",
    "while active:\n",
    "    try:\n",
    "        num = int(input(':'))\n",
    "    except ValueError:\n",
    "        print('半角英数字で入力してください')\n",
    "    else:\n",
    "        rpast(num)\n",
    "        active = False"
   ]
  },
  {
   "cell_type": "code",
   "execution_count": 5,
   "id": "44fcd60b-f474-4d95-ae59-88bc867b0224",
   "metadata": {},
   "outputs": [],
   "source": [
    "def rpstr(num, _str='*'):\n",
    "    print(_str * num)"
   ]
  },
  {
   "cell_type": "code",
   "execution_count": 7,
   "id": "f4c2c1fc-f2ae-4aa4-a7f8-47615980bb75",
   "metadata": {},
   "outputs": [
    {
     "name": "stdout",
     "output_type": "stream",
     "text": [
      "文字列を入力してください。 "
     ]
    },
    {
     "name": "stdin",
     "output_type": "stream",
     "text": [
      "str:  \n"
     ]
    },
    {
     "name": "stdout",
     "output_type": "stream",
     "text": [
      "個数を入力してください。 "
     ]
    },
    {
     "name": "stdin",
     "output_type": "stream",
     "text": [
      "num:  7\n"
     ]
    },
    {
     "name": "stdout",
     "output_type": "stream",
     "text": [
      "\n"
     ]
    }
   ],
   "source": [
    "print('文字列を入力してください。', end=' ')\n",
    "_str = input('str: ')\n",
    "active = True\n",
    "while active:\n",
    "    try:\n",
    "        print('個数を入力してください。', end=' ')\n",
    "        num = int(input('num: '))\n",
    "    except ValueError:\n",
    "        print('半角英数字で入力してください。')\n",
    "    else:\n",
    "        rpstr(num, _str)\n",
    "        active = False"
   ]
  },
  {
   "cell_type": "code",
   "execution_count": 8,
   "id": "c96013fe-36c2-4534-ba28-9d96247b0aa2",
   "metadata": {},
   "outputs": [
    {
     "name": "stdout",
     "output_type": "stream",
     "text": [
      "*****\n"
     ]
    }
   ],
   "source": [
    "rpstr(5)"
   ]
  },
  {
   "cell_type": "code",
   "execution_count": 13,
   "id": "3469a3d8-c9b1-46c6-bd65-66111b07d556",
   "metadata": {},
   "outputs": [
    {
     "name": "stdin",
     "output_type": "stream",
     "text": [
      "start:  4\n",
      "stop:  10\n"
     ]
    },
    {
     "name": "stdout",
     "output_type": "stream",
     "text": [
      "<generator object increment_func at 0x7fe4928bd900>\n",
      "4\n",
      "5\n",
      "6\n",
      "7\n",
      "8\n",
      "9\n",
      "10\n"
     ]
    }
   ],
   "source": [
    "def increment_func(start, stop):\n",
    "    while start <= stop:\n",
    "        yield start\n",
    "        start += 1\n",
    "\n",
    "start = int(input('start: '))\n",
    "stop = int(input('stop: '))\n",
    "n = increment_func(start, stop)\n",
    "print(n)\n",
    "for n in n:\n",
    "    print(n)"
   ]
  },
  {
   "cell_type": "code",
   "execution_count": null,
   "id": "95ae919f-6cb9-479a-9589-b56ad34d7c3d",
   "metadata": {},
   "outputs": [],
   "source": []
  },
  {
   "cell_type": "code",
   "execution_count": 16,
   "id": "5acf7edd-5a49-49da-a934-f5178cbb2817",
   "metadata": {},
   "outputs": [
    {
     "data": {
      "text/plain": [
       "33.333333333333336"
      ]
     },
     "execution_count": 16,
     "metadata": {},
     "output_type": "execute_result"
    }
   ],
   "source": []
  },
  {
   "cell_type": "code",
   "execution_count": null,
   "id": "14adb3ea-f0b5-4437-8fa1-bcd76b81797f",
   "metadata": {},
   "outputs": [],
   "source": []
  }
 ],
 "metadata": {
  "kernelspec": {
   "display_name": "Python 3 (ipykernel)",
   "language": "python",
   "name": "python3"
  },
  "language_info": {
   "codemirror_mode": {
    "name": "ipython",
    "version": 3
   },
   "file_extension": ".py",
   "mimetype": "text/x-python",
   "name": "python",
   "nbconvert_exporter": "python",
   "pygments_lexer": "ipython3",
   "version": "3.9.13"
  }
 },
 "nbformat": 4,
 "nbformat_minor": 5
}
