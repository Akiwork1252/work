{
 "cells": [
  {
   "cell_type": "markdown",
   "id": "db8f8ad5-a168-4c81-b871-63a99ab1c4c9",
   "metadata": {},
   "source": [
    "## o(1)"
   ]
  },
  {
   "cell_type": "code",
   "execution_count": 2,
   "id": "6b895eba-3987-4733-bdc7-19744b87ea7a",
   "metadata": {},
   "outputs": [
    {
     "data": {
      "text/plain": [
       "1"
      ]
     },
     "execution_count": 2,
     "metadata": {},
     "output_type": "execute_result"
    }
   ],
   "source": [
    "def func1(numbers):\n",
    "    return numbers[0]\n",
    "\n",
    "\n",
    "numbers = [1, 2, 3, 4, 5]\n",
    "func1(numbers)"
   ]
  },
  {
   "cell_type": "markdown",
   "id": "76c07bcf-fc50-4aca-9814-2ea5948edb13",
   "metadata": {},
   "source": [
    "## o(log(n))"
   ]
  },
  {
   "cell_type": "code",
   "execution_count": 5,
   "id": "95840546-d098-4af3-993e-a3c861e749c2",
   "metadata": {},
   "outputs": [
    {
     "name": "stdout",
     "output_type": "stream",
     "text": [
      "10\n",
      "5.0\n",
      "2.5\n",
      "1.25\n"
     ]
    }
   ],
   "source": [
    "def func2(n):\n",
    "    if n <= 1:\n",
    "        return\n",
    "    else:\n",
    "        print(n)\n",
    "        func2(n/2)\n",
    "       \n",
    "\n",
    "func2(10)"
   ]
  },
  {
   "cell_type": "markdown",
   "id": "6f45ca4b-da96-43fc-85a7-65736ef93636",
   "metadata": {},
   "source": [
    "## o(n)"
   ]
  },
  {
   "cell_type": "code",
   "execution_count": 6,
   "id": "67892a20-1fe3-4f20-8617-7a4110bbc50c",
   "metadata": {},
   "outputs": [
    {
     "name": "stdout",
     "output_type": "stream",
     "text": [
      "1\n",
      "2\n",
      "3\n",
      "4\n",
      "5\n"
     ]
    }
   ],
   "source": [
    "def func3(numbers):\n",
    "    for num in numbers:\n",
    "        print(num)\n",
    "\n",
    "        \n",
    "func3(numbers)"
   ]
  },
  {
   "cell_type": "markdown",
   "id": "d0da506c-313a-4909-b9ea-ec8112631a2a",
   "metadata": {},
   "source": [
    "## o(n * log(n))"
   ]
  },
  {
   "cell_type": "code",
   "execution_count": 7,
   "id": "760846e5-da5f-4986-8afc-fa5c8fa34fd3",
   "metadata": {},
   "outputs": [
    {
     "name": "stdout",
     "output_type": "stream",
     "text": [
      "0 1 2 3 4 5 6 7 8 9 \n",
      "0 1 2 3 4 \n",
      "0 1 \n",
      "0 \n",
      "\n"
     ]
    }
   ],
   "source": [
    "def func4(n):\n",
    "    for i in range(int(n)):\n",
    "        print(i, end=' ')\n",
    "    print()\n",
    "    \n",
    "    if n <= 1:\n",
    "        return\n",
    "    func4(n/2)\n",
    "    \n",
    "    \n",
    "func4(10)"
   ]
  },
  {
   "cell_type": "markdown",
   "id": "5b51c6eb-dd08-4f05-81af-d0c3c848e8dc",
   "metadata": {},
   "source": [
    "## o(n**2)"
   ]
  },
  {
   "cell_type": "code",
   "execution_count": 8,
   "id": "1c76fb8a-57a0-4fad-a421-c3024856b8e8",
   "metadata": {},
   "outputs": [
    {
     "name": "stdout",
     "output_type": "stream",
     "text": [
      "1 1\n",
      "1 2\n",
      "1 3\n",
      "1 4\n",
      "1 5\n",
      "\n",
      "2 1\n",
      "2 2\n",
      "2 3\n",
      "2 4\n",
      "2 5\n",
      "\n",
      "3 1\n",
      "3 2\n",
      "3 3\n",
      "3 4\n",
      "3 5\n",
      "\n",
      "4 1\n",
      "4 2\n",
      "4 3\n",
      "4 4\n",
      "4 5\n",
      "\n",
      "5 1\n",
      "5 2\n",
      "5 3\n",
      "5 4\n",
      "5 5\n",
      "\n"
     ]
    }
   ],
   "source": [
    "def func5(numbers):\n",
    "    for i in range(len(numbers)):\n",
    "        for j in range(len(numbers)):\n",
    "            print(numbers[i], numbers[j])\n",
    "        print()\n",
    "        \n",
    "        \n",
    "func5(numbers)"
   ]
  },
  {
   "cell_type": "code",
   "execution_count": null,
   "id": "4e3af34a-fed3-4502-836e-0e60e82c2e88",
   "metadata": {},
   "outputs": [],
   "source": []
  }
 ],
 "metadata": {
  "kernelspec": {
   "display_name": "Python 3 (ipykernel)",
   "language": "python",
   "name": "python3"
  },
  "language_info": {
   "codemirror_mode": {
    "name": "ipython",
    "version": 3
   },
   "file_extension": ".py",
   "mimetype": "text/x-python",
   "name": "python",
   "nbconvert_exporter": "python",
   "pygments_lexer": "ipython3",
   "version": "3.9.13"
  }
 },
 "nbformat": 4,
 "nbformat_minor": 5
}
