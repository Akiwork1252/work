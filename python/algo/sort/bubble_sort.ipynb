{
 "cells": [
  {
   "cell_type": "markdown",
   "id": "9bd970d8-a1ee-4e65-8b92-a58d9b53d2bf",
   "metadata": {},
   "source": [
    "## Bubble Sort"
   ]
  },
  {
   "cell_type": "code",
   "execution_count": 1,
   "id": "2b8b0756-544a-4ed3-83b2-a3193063981f",
   "metadata": {},
   "outputs": [],
   "source": [
    "from typing import List"
   ]
  },
  {
   "cell_type": "code",
   "execution_count": 2,
   "id": "4df550d7-f63a-45c7-98a4-9fdad85a5382",
   "metadata": {},
   "outputs": [],
   "source": [
    "def bubble_sort(numbers: List[int]) -> List[int]:\n",
    "    len_numbers = len(numbers)\n",
    "    for i in range(len_numbers):\n",
    "        for j in range(len_numbers - 1 - i):\n",
    "            if numbers[j] > numbers[j+1]:\n",
    "                numbers[j], numbers[j+1] = numbers[j+1], numbers[j]\n",
    "                \n",
    "    return numbers"
   ]
  },
  {
   "cell_type": "code",
   "execution_count": 3,
   "id": "19e06b65-825a-45eb-ab0d-e9584707b85f",
   "metadata": {},
   "outputs": [],
   "source": [
    "nums = [2, 5, 1, 8, 7, 3]"
   ]
  },
  {
   "cell_type": "code",
   "execution_count": 4,
   "id": "9a92efcc-e005-42c5-9ba1-f4367f4880e0",
   "metadata": {},
   "outputs": [
    {
     "name": "stdout",
     "output_type": "stream",
     "text": [
      "[1, 2, 3, 5, 7, 8]\n"
     ]
    }
   ],
   "source": [
    "sorted_nums = bubble_sort(nums)\n",
    "print(sorted_nums)"
   ]
  },
  {
   "cell_type": "code",
   "execution_count": 5,
   "id": "c0b8db1b-35d5-429d-afac-8c5d47267899",
   "metadata": {},
   "outputs": [
    {
     "name": "stdout",
     "output_type": "stream",
     "text": [
      "[3, 7, 2, 4, 10]\n",
      "[2, 3, 4, 7, 10]\n"
     ]
    }
   ],
   "source": [
    "import random\n",
    "\n",
    "nums = [random.randint(1, 10) for i in range(5)]\n",
    "print(nums)\n",
    "sorted_nums = bubble_sort(nums)\n",
    "print(sorted_nums)"
   ]
  },
  {
   "cell_type": "code",
   "execution_count": 6,
   "id": "6072f724-1dab-4daf-9f83-20d58d85d776",
   "metadata": {},
   "outputs": [],
   "source": [
    "def bubble_sort2(numbers: List[int]) -> List[int]:\n",
    "    len_numbers = len(numbers)\n",
    "    for i in range(len_numbers):\n",
    "        swapped = False\n",
    "        for j in range(len_numbers - 1 - i):\n",
    "            if numbers[j] > numbers[j+1]:\n",
    "                numbers[j], numbers[j+1] = numbers[j+1], numbers[j]\n",
    "                swapped = True\n",
    "        if not swapped:\n",
    "            break\n",
    "    \n",
    "    return numbers"
   ]
  },
  {
   "cell_type": "code",
   "execution_count": 7,
   "id": "706c2c4a-f2cf-40a2-bc4b-5ee2628a7252",
   "metadata": {},
   "outputs": [
    {
     "name": "stdout",
     "output_type": "stream",
     "text": [
      "[324, 83, 212, 415, 500, 759, 131, 373, 423, 979]\n",
      "[83, 131, 212, 324, 373, 415, 423, 500, 759, 979]\n"
     ]
    }
   ],
   "source": [
    "nums = [random.randint(1, 1000) for i in range(10)]\n",
    "print(nums)\n",
    "sorted_nums = bubble_sort2(nums)\n",
    "print(sorted_nums)"
   ]
  },
  {
   "cell_type": "code",
   "execution_count": null,
   "id": "e3f31d91-4cea-4ead-85fe-908349a4698d",
   "metadata": {},
   "outputs": [],
   "source": []
  }
 ],
 "metadata": {
  "kernelspec": {
   "display_name": "Python 3 (ipykernel)",
   "language": "python",
   "name": "python3"
  },
  "language_info": {
   "codemirror_mode": {
    "name": "ipython",
    "version": 3
   },
   "file_extension": ".py",
   "mimetype": "text/x-python",
   "name": "python",
   "nbconvert_exporter": "python",
   "pygments_lexer": "ipython3",
   "version": "3.9.13"
  }
 },
 "nbformat": 4,
 "nbformat_minor": 5
}
