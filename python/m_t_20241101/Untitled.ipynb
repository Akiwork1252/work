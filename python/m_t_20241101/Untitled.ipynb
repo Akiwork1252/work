{
 "cells": [
  {
   "cell_type": "code",
   "execution_count": 1,
   "id": "70b1552c-93f1-4571-8e56-945060c74df5",
   "metadata": {},
   "outputs": [],
   "source": [
    "import random"
   ]
  },
  {
   "cell_type": "code",
   "execution_count": 46,
   "id": "9cadcad2-8d4c-4785-b646-149f268a44e0",
   "metadata": {},
   "outputs": [
    {
     "name": "stdout",
     "output_type": "stream",
     "text": [
      "0.0003866561003273983\n",
      "0.0009321381291953479\n",
      "0.0008343412054130361\n"
     ]
    }
   ],
   "source": [
    "for i in range(1000):\n",
    "    result = random.random()\n",
    "    if result < 1/999:\n",
    "        print(result)"
   ]
  },
  {
   "cell_type": "code",
   "execution_count": 47,
   "id": "cba2a690-3362-4d6b-8654-48c36b5df6b0",
   "metadata": {},
   "outputs": [
    {
     "data": {
      "text/plain": [
       "0.9082165118543404"
      ]
     },
     "execution_count": 47,
     "metadata": {},
     "output_type": "execute_result"
    }
   ],
   "source": [
    "random.random()"
   ]
  },
  {
   "cell_type": "code",
   "execution_count": 51,
   "id": "94f64e62-8b6a-4749-998b-0add8f064fbc",
   "metadata": {},
   "outputs": [
    {
     "name": "stdout",
     "output_type": "stream",
     "text": [
      "0.003134796238244514\n",
      "0.05\n",
      "0.0001567398119122257\n",
      "0.05313479623824452\n",
      "0.06269592476489028\n"
     ]
    }
   ],
   "source": [
    "jackpot = 1/319\n",
    "big = 1/20\n",
    "print(jackpot)\n",
    "print(big)\n",
    "print(jackpot/20)\n",
    "print(jackpot+big)\n",
    "print(jackpot/big)"
   ]
  },
  {
   "cell_type": "code",
   "execution_count": 31,
   "id": "a8a75fdf-15f8-4663-841d-15fd932b15bf",
   "metadata": {},
   "outputs": [
    {
     "data": {
      "text/plain": [
       "0.0028653295128939827"
      ]
     },
     "execution_count": 31,
     "metadata": {},
     "output_type": "execute_result"
    }
   ],
   "source": [
    "1/349"
   ]
  },
  {
   "cell_type": "code",
   "execution_count": 32,
   "id": "e94ade3c-f8e6-4a97-81b1-1f623754206b",
   "metadata": {},
   "outputs": [
    {
     "data": {
      "text/plain": [
       "0.001001001001001001"
      ]
     },
     "execution_count": 32,
     "metadata": {},
     "output_type": "execute_result"
    }
   ],
   "source": [
    "1/999"
   ]
  },
  {
   "cell_type": "code",
   "execution_count": null,
   "id": "b101e531-5237-4b50-9ef0-532893eefd81",
   "metadata": {},
   "outputs": [],
   "source": [
    "import random\n",
    "# code-1\n",
    "jackpot_probability = 319\n",
    "user = random.randint(1, jackpot_probability)\n",
    "n = random.randint(1, jackpot_probability)\n",
    "\n",
    "if user == n:\n",
    "    print('jackpot')\n",
    "    \n",
    "\n",
    "# code-2\n",
    "jackpot_probability = 1/319\n",
    "user = random.random()\n",
    "if user < jackpot_probability:\n",
    "    print('jackpot')"
   ]
  },
  {
   "cell_type": "code",
   "execution_count": 52,
   "id": "9854da8e-75d1-4ef7-8b84-a807c2fc3436",
   "metadata": {},
   "outputs": [
    {
     "name": "stdout",
     "output_type": "stream",
     "text": [
      "0.04\n",
      "0.005555555555555556\n"
     ]
    }
   ],
   "source": [
    "win = 1/25\n",
    "lose = 1/180\n",
    "print(win)\n",
    "print(lose)"
   ]
  },
  {
   "cell_type": "code",
   "execution_count": 55,
   "id": "faf9250a-bbff-485b-a01d-833c512ac773",
   "metadata": {},
   "outputs": [
    {
     "data": {
      "text/plain": [
       "0.002"
      ]
     },
     "execution_count": 55,
     "metadata": {},
     "output_type": "execute_result"
    }
   ],
   "source": [
    "win/20"
   ]
  },
  {
   "cell_type": "code",
   "execution_count": 56,
   "id": "61a3fd49-5940-42c6-8dd5-87179230625d",
   "metadata": {},
   "outputs": [
    {
     "data": {
      "text/plain": [
       "0.0005"
      ]
     },
     "execution_count": 56,
     "metadata": {},
     "output_type": "execute_result"
    }
   ],
   "source": [
    "win/80"
   ]
  },
  {
   "cell_type": "code",
   "execution_count": 57,
   "id": "fc695aa1-951b-4123-9133-5afe528c19db",
   "metadata": {},
   "outputs": [
    {
     "data": {
      "text/plain": [
       "0.008"
      ]
     },
     "execution_count": 57,
     "metadata": {},
     "output_type": "execute_result"
    }
   ],
   "source": [
    "win*0.2"
   ]
  },
  {
   "cell_type": "code",
   "execution_count": 58,
   "id": "0f0ecf23-cb30-47ec-b017-14d59716bf71",
   "metadata": {},
   "outputs": [],
   "source": [
    "win = 1/349"
   ]
  },
  {
   "cell_type": "code",
   "execution_count": 59,
   "id": "99f42494-452f-4c9b-b8c1-901ebbd3078b",
   "metadata": {},
   "outputs": [
    {
     "name": "stdout",
     "output_type": "stream",
     "text": [
      "0.002292263610315186\n",
      "0.0005730659025787965\n"
     ]
    }
   ],
   "source": [
    "print(win*0.8)\n",
    "print(win*0.2)"
   ]
  },
  {
   "cell_type": "code",
   "execution_count": 61,
   "id": "d4c3564a-0fa0-45d7-b6b2-dc8d925e859a",
   "metadata": {},
   "outputs": [
    {
     "data": {
      "text/plain": [
       "True"
      ]
     },
     "execution_count": 61,
     "metadata": {},
     "output_type": "execute_result"
    }
   ],
   "source": [
    "num = 10\n",
    "isinstance(num, int)"
   ]
  },
  {
   "cell_type": "code",
   "execution_count": 62,
   "id": "6d1921c8-2638-41f5-aa2f-a39e57daca81",
   "metadata": {},
   "outputs": [
    {
     "name": "stderr",
     "output_type": "stream",
     "text": [
      "2024-12-17 04:55:34,619 - root - DEBUG - これはデバッグメッセージです\n",
      "2024-12-17 04:55:34,626 - root - INFO - これは情報メッセージです\n",
      "2024-12-17 04:55:34,629 - root - WARNING - これは警告メッセージです\n",
      "2024-12-17 04:55:34,633 - root - ERROR - これはエラーメッセージです\n",
      "2024-12-17 04:55:34,637 - root - CRITICAL - これは重大なエラーメッセージです\n"
     ]
    }
   ],
   "source": [
    "import logging\n",
    "\n",
    "# ログの設定\n",
    "logging.basicConfig(\n",
    "    level=logging.DEBUG,  # ログレベル（DEBUG, INFO, WARNING, ERROR, CRITICAL）\n",
    "    format='%(asctime)s - %(name)s - %(levelname)s - %(message)s'  # ログフォーマット\n",
    ")\n",
    "\n",
    "# ログの出力\n",
    "logging.debug('これはデバッグメッセージです')\n",
    "logging.info('これは情報メッセージです')\n",
    "logging.warning('これは警告メッセージです')\n",
    "logging.error('これはエラーメッセージです')\n",
    "logging.critical('これは重大なエラーメッセージです')\n"
   ]
  },
  {
   "cell_type": "code",
   "execution_count": 71,
   "id": "f75776f3-5fd8-49c1-bfb9-784eeab1f51f",
   "metadata": {},
   "outputs": [],
   "source": [
    "logging.basicConfig(\n",
    "    level=logging.DEBUG,  # ログレベル（DEBUG, INFO, WARNING, ERROR, CRITICAL）\n",
    "    format='%(asctime)s - %(name)s - %(levelname)s - %(message)s'  # ログフォーマット\n",
    ")"
   ]
  },
  {
   "cell_type": "code",
   "execution_count": 72,
   "id": "596418a7-7507-48fe-aec4-7d98082c1012",
   "metadata": {},
   "outputs": [],
   "source": [
    "import sqlite3"
   ]
  },
  {
   "cell_type": "code",
   "execution_count": 73,
   "id": "a815aac6-9c1e-4748-be81-a3151553dba2",
   "metadata": {},
   "outputs": [],
   "source": [
    "conn = sqlite3.connect('spec.db')\n",
    "cursor = conn.cursor()"
   ]
  },
  {
   "cell_type": "code",
   "execution_count": 82,
   "id": "24d8dad6-2d56-41f2-bb23-41fc59b6c1d3",
   "metadata": {},
   "outputs": [
    {
     "name": "stdout",
     "output_type": "stream",
     "text": [
      "ない\n",
      "ない\n",
      "CR魔法少女まどかマギカ\n"
     ]
    }
   ],
   "source": [
    "itr = cursor.execute('SELECT * FROM spec')\n",
    "for model in itr:\n",
    "    if values_madokamagika[0] != model[0]:\n",
    "        print('ない')\n",
    "    else:\n",
    "        print(model[0])"
   ]
  },
  {
   "cell_type": "code",
   "execution_count": 77,
   "id": "17cb55be-dd1f-4f3a-ba19-e0a371fabc4f",
   "metadata": {},
   "outputs": [],
   "source": [
    "values_madokamagika = [\n",
    "'CR魔法少女まどかマギカ', '1/199', '+450(90%) or +1500(10%)', \n",
    "'確変:50%、通常:50%', '当:1/70[回転数:80回]、<上位>当:1/80[回転数:120回]', 'ALL+1500', \n",
    "'68% or 86%<上位>', '確率変動中の当たり1/4で確率変動<上位>に突入'\n",
    "]"
   ]
  },
  {
   "cell_type": "code",
   "execution_count": 83,
   "id": "98d9c063-ee78-4285-bbf4-ba68b9814cf5",
   "metadata": {},
   "outputs": [],
   "source": [
    "values_madokamagika2 = '''\n",
    "'CR魔法少女まどかマギカ', '1/199', '+450(90%) or +1500(10%)', \n",
    "'確変:50%、通常:50%', '当:1/70[回転数:80回]、<上位>当:1/80[回転数:120回]', 'ALL+1500', \n",
    "'68% or 86%<上位>', '確率変動中の当たり1/4で確率変動<上位>に突入'\n",
    "'''"
   ]
  },
  {
   "cell_type": "code",
   "execution_count": 95,
   "id": "ab03971d-6f12-4f1d-88ab-5f35c102b623",
   "metadata": {},
   "outputs": [],
   "source": [
    "text = ''\n",
    "for idx, i in enumerate(values_madokamagika):\n",
    "    if idx == 0:\n",
    "        text += i\n",
    "    else:\n",
    "        text += f', '+i"
   ]
  },
  {
   "cell_type": "code",
   "execution_count": 96,
   "id": "0e61d012-a4aa-4616-a14c-4b52ddf5b762",
   "metadata": {},
   "outputs": [
    {
     "name": "stdout",
     "output_type": "stream",
     "text": [
      "CR魔法少女まどかマギカ, 1/199, +450(90%) or +1500(10%), 確変:50%、通常:50%, 当:1/70[回転数:80回]、<上位>当:1/80[回転数:120回], ALL+1500, 68% or 86%<上位>, 確率変動中の当たり1/4で確率変動<上位>に突入\n"
     ]
    }
   ],
   "source": [
    "print(text)"
   ]
  },
  {
   "cell_type": "code",
   "execution_count": 97,
   "id": "29284c83-ca93-4f9f-9df5-404cbce7d806",
   "metadata": {},
   "outputs": [
    {
     "name": "stdout",
     "output_type": "stream",
     "text": [
      "abc\n"
     ]
    }
   ],
   "source": [
    "l = ['a', 'b', 'c']\n",
    "def chenge(l):\n",
    "    s = ''\n",
    "    for i in l:\n",
    "        s += i\n",
    "    return s\n",
    "st = chenge(l)\n",
    "print(st)"
   ]
  },
  {
   "cell_type": "code",
   "execution_count": 104,
   "id": "64c5b411-565b-40df-a221-a9c65bda0176",
   "metadata": {},
   "outputs": [
    {
     "data": {
      "text/plain": [
       "1"
      ]
     },
     "execution_count": 104,
     "metadata": {},
     "output_type": "execute_result"
    }
   ],
   "source": [
    "a = [1]\n",
    "c = []\n",
    "b = 'a'\n",
    "a = list(a)\n",
    "a[0]"
   ]
  },
  {
   "cell_type": "code",
   "execution_count": 105,
   "id": "71d08352-0ebb-41d4-8ecd-846cf1fa127c",
   "metadata": {},
   "outputs": [],
   "source": [
    "for i in c:\n",
    "    print(i)"
   ]
  },
  {
   "cell_type": "code",
   "execution_count": 111,
   "id": "3823f06c-f378-4917-955c-dbdbd9703d3d",
   "metadata": {},
   "outputs": [
    {
     "data": {
      "text/plain": [
       "True"
      ]
     },
     "execution_count": 111,
     "metadata": {},
     "output_type": "execute_result"
    }
   ],
   "source": [
    "f = 'ffffff'\n",
    "isinstance(f, str)"
   ]
  },
  {
   "cell_type": "code",
   "execution_count": 113,
   "id": "edce4a22-3fcf-4183-8f58-4259d7584988",
   "metadata": {},
   "outputs": [
    {
     "data": {
      "text/plain": [
       "False"
      ]
     },
     "execution_count": 113,
     "metadata": {},
     "output_type": "execute_result"
    }
   ],
   "source": [
    "d = {1:'a', 2:'b'}\n",
    "3 in d"
   ]
  },
  {
   "cell_type": "code",
   "execution_count": 115,
   "id": "722e7f77-1a41-4f94-946e-722541d75847",
   "metadata": {},
   "outputs": [
    {
     "data": {
      "text/plain": [
       "0.07"
      ]
     },
     "execution_count": 115,
     "metadata": {},
     "output_type": "execute_result"
    }
   ],
   "source": [
    "7/100"
   ]
  },
  {
   "cell_type": "code",
   "execution_count": 116,
   "id": "ab5cc562-28ef-4b01-ae96-241f12a8b66c",
   "metadata": {},
   "outputs": [
    {
     "data": {
      "text/plain": [
       "0.0028653295128939827"
      ]
     },
     "execution_count": 116,
     "metadata": {},
     "output_type": "execute_result"
    }
   ],
   "source": [
    "1/349"
   ]
  },
  {
   "cell_type": "code",
   "execution_count": 117,
   "id": "4429ca2d-af01-4ec5-8879-da367368b6b2",
   "metadata": {},
   "outputs": [
    {
     "data": {
      "text/plain": [
       "0.9"
      ]
     },
     "execution_count": 117,
     "metadata": {},
     "output_type": "execute_result"
    }
   ],
   "source": [
    "9/10"
   ]
  },
  {
   "cell_type": "code",
   "execution_count": 127,
   "id": "0d73aec6-cacc-4585-a9af-138679b2e6bc",
   "metadata": {},
   "outputs": [
    {
     "data": {
      "text/plain": [
       "True"
      ]
     },
     "execution_count": 127,
     "metadata": {},
     "output_type": "execute_result"
    }
   ],
   "source": [
    "n = 3.0\n",
    "\n",
    "isinstance(n, float)"
   ]
  },
  {
   "cell_type": "code",
   "execution_count": 128,
   "id": "547a1a78-2649-444f-aef6-705e525f11fa",
   "metadata": {},
   "outputs": [],
   "source": [
    "import sqlite3"
   ]
  },
  {
   "cell_type": "code",
   "execution_count": 134,
   "id": "012e2aa1-6cb5-429a-abd2-156c47dcb236",
   "metadata": {},
   "outputs": [
    {
     "name": "stdout",
     "output_type": "stream",
     "text": [
      "('CR北斗の拳',)\n",
      "('CRエヴァンゲリオン',)\n",
      "('CR魔法少女まどかマギカ',)\n"
     ]
    }
   ],
   "source": [
    "with sqlite3.connect('spec.db') as conn:\n",
    "    cursor = conn.cursor()\n",
    "    itr = cursor.execute('SELECT Name FROM spec')\n",
    "    for i in itr:\n",
    "        print(i)"
   ]
  },
  {
   "cell_type": "code",
   "execution_count": 160,
   "id": "0caa413c-826e-4e0c-a033-0f4390eface3",
   "metadata": {},
   "outputs": [
    {
     "name": "stdout",
     "output_type": "stream",
     "text": [
      "['CR北斗の拳', '1/349']\n",
      "['CRエヴァンゲリオン', '1/319']\n",
      "['CR魔法少女まどかマギカ', '1/199']\n"
     ]
    }
   ],
   "source": [
    "conn = sqlite3.connect('spec.db')\n",
    "cursor = conn.cursor()\n",
    "itr = cursor.execute('SELECT name, Probability_Normal FROM spec')\n",
    "for i in itr:\n",
    "    i = list(i)\n",
    "    print(i)"
   ]
  },
  {
   "cell_type": "code",
   "execution_count": 147,
   "id": "f70ad299-c2f1-4741-9294-16e990975a83",
   "metadata": {},
   "outputs": [
    {
     "name": "stdout",
     "output_type": "stream",
     "text": [
      "None\n"
     ]
    }
   ],
   "source": [
    "users = ['aki', 'luffy']\n",
    "with sqlite3.connect('lesson.db') as conn:\n",
    "    cursor = conn.cursor()\n",
    "    cursor.execute('CREATE TABLE IF NOT EXISTS user(Name TEXT, Age INT)')\n",
    "    itr = cursor.execute('SELECT * FROM user')\n",
    "    check = None\n",
    "    for i in itr:\n",
    "        check = True\n",
    "    print(check)"
   ]
  },
  {
   "cell_type": "code",
   "execution_count": 137,
   "id": "480c7a8b-cac0-42f1-8e66-1d3c9ea7e910",
   "metadata": {},
   "outputs": [],
   "source": [
    "with sqlite3.connect('lesson.db') as conn:\n",
    "    cursor = conn.cursor()\n",
    "    cursor.execute('DROP TABLE user')"
   ]
  },
  {
   "cell_type": "code",
   "execution_count": 161,
   "id": "d2d607ff-2184-4280-9a50-3fa2313badde",
   "metadata": {},
   "outputs": [
    {
     "data": {
      "text/plain": [
       "0.5"
      ]
     },
     "execution_count": 161,
     "metadata": {},
     "output_type": "execute_result"
    }
   ],
   "source": [
    "1/2"
   ]
  },
  {
   "cell_type": "code",
   "execution_count": 162,
   "id": "b81d3843-1b0d-4b22-8540-678f06a92c11",
   "metadata": {},
   "outputs": [
    {
     "data": {
      "text/plain": [
       "0.003134796238244514"
      ]
     },
     "execution_count": 162,
     "metadata": {},
     "output_type": "execute_result"
    }
   ],
   "source": [
    "1/319"
   ]
  },
  {
   "cell_type": "code",
   "execution_count": 165,
   "id": "5fdfdec3-7448-4f15-981f-872907c6ab51",
   "metadata": {},
   "outputs": [
    {
     "data": {
      "text/plain": [
       "8"
      ]
     },
     "execution_count": 165,
     "metadata": {},
     "output_type": "execute_result"
    }
   ],
   "source": [
    "def func(n):\n",
    "    while n > 0:\n",
    "        if n == 8:\n",
    "            return n\n",
    "        n -= 1\n",
    "    return n - 1\n",
    "func(10)"
   ]
  },
  {
   "cell_type": "code",
   "execution_count": 2,
   "id": "7d6fe602-dcbb-49b2-bb35-ce7db9f5fbd1",
   "metadata": {},
   "outputs": [],
   "source": [
    "import random"
   ]
  },
  {
   "cell_type": "code",
   "execution_count": 3,
   "id": "fa4beaee-096f-4865-9652-64c4ea3a82fb",
   "metadata": {},
   "outputs": [
    {
     "data": {
      "text/plain": [
       "0.2529115911556049"
      ]
     },
     "execution_count": 3,
     "metadata": {},
     "output_type": "execute_result"
    }
   ],
   "source": [
    "random.random()"
   ]
  },
  {
   "cell_type": "code",
   "execution_count": 11,
   "id": "6c9fae26-2e3e-4edb-a0cc-409258489325",
   "metadata": {},
   "outputs": [],
   "source": [
    "lucky = 1/25\n",
    "unlucky = 1/180"
   ]
  },
  {
   "cell_type": "code",
   "execution_count": 12,
   "id": "ec726e48-c6d9-4a4d-bad0-eee636fb999f",
   "metadata": {},
   "outputs": [],
   "source": [
    "def func():\n",
    "    user = random.random()\n",
    "    if user <= lucky:\n",
    "        print('Lucky')\n",
    "    elif user <= unlucky:\n",
    "        print('UnLucky')\n",
    "    else:\n",
    "        print('-', end='')"
   ]
  },
  {
   "cell_type": "code",
   "execution_count": 17,
   "id": "c63765b0-7b72-4da1-aa06-6d8027096ab7",
   "metadata": {},
   "outputs": [
    {
     "name": "stdout",
     "output_type": "stream",
     "text": [
      "-------Lucky\n",
      "-----Lucky\n",
      "------------------------------------------------------------------------------------Lucky\n",
      "-"
     ]
    }
   ],
   "source": [
    "for i in range(100):\n",
    "    func()"
   ]
  },
  {
   "cell_type": "code",
   "execution_count": 9,
   "id": "12146e8e-2968-4a11-a267-73b42262063f",
   "metadata": {},
   "outputs": [
    {
     "name": "stdout",
     "output_type": "stream",
     "text": [
      "1\n"
     ]
    }
   ],
   "source": [
    "count = 0\n",
    "for i in range(25):\n",
    "    user = random.random()\n",
    "    if user <= 1/25:\n",
    "        count += 1\n",
    "print(count)"
   ]
  },
  {
   "cell_type": "code",
   "execution_count": 21,
   "id": "ab7d40b4-4008-4878-adb4-d520f70652e1",
   "metadata": {},
   "outputs": [
    {
     "name": "stdout",
     "output_type": "stream",
     "text": [
      "0.9\n",
      "0.5\n",
      "0.09090909090909091\n",
      "0.04\n",
      "0.005555555555555556\n",
      "0.0028653295128939827\n"
     ]
    }
   ],
   "source": [
    "print(9/10)\n",
    "print(1/2)\n",
    "print(1/11)\n",
    "print(lucky)\n",
    "print(unlucky)\n",
    "print(1/349)"
   ]
  },
  {
   "cell_type": "code",
   "execution_count": 26,
   "id": "a6485f07-8248-490b-99c5-b8310d8ea794",
   "metadata": {},
   "outputs": [
    {
     "name": "stdout",
     "output_type": "stream",
     "text": [
      "0.04\n",
      "0.96\n",
      "0.005555555555555556\n",
      "False\n"
     ]
    }
   ],
   "source": [
    "print(lucky)\n",
    "print(1-lucky)\n",
    "print(unlucky)\n",
    "print(1-unlucky <= user)"
   ]
  },
  {
   "cell_type": "code",
   "execution_count": 20,
   "id": "301eeca1-f74a-412c-bcab-e28f67d2ebeb",
   "metadata": {},
   "outputs": [
    {
     "name": "stdout",
     "output_type": "stream",
     "text": [
      "0.04555555555555556\n"
     ]
    }
   ],
   "source": [
    "total = lucky + unlucky\n",
    "print(total)"
   ]
  },
  {
   "cell_type": "code",
   "execution_count": 46,
   "id": "b7a4583f-c5a5-4278-ba3b-8455a8f90641",
   "metadata": {},
   "outputs": [
    {
     "name": "stdout",
     "output_type": "stream",
     "text": [
      "--------------------当たり\n",
      "-----------------------------------------------------当たり\n",
      "-------当たり\n",
      "-当たり\n",
      "-------------当たり\n",
      "------------------------------------当たり\n",
      "-----当たり\n",
      "--------------当たり\n",
      "---転落\n"
     ]
    }
   ],
   "source": [
    "while True:\n",
    "    user = random.random()\n",
    "    if user <= 1/25:\n",
    "        print('当たり')\n",
    "    elif (1-unlucky) <= user:\n",
    "        print('転落')\n",
    "        break\n",
    "    else:\n",
    "        print('-', end='')"
   ]
  },
  {
   "cell_type": "code",
   "execution_count": 39,
   "id": "1da11529-21e9-4fa3-bb5d-4d1c6a5c4587",
   "metadata": {},
   "outputs": [
    {
     "data": {
      "text/plain": [
       "0.9944444444444445"
      ]
     },
     "execution_count": 39,
     "metadata": {},
     "output_type": "execute_result"
    }
   ],
   "source": [
    "(1-unlucky)"
   ]
  },
  {
   "cell_type": "code",
   "execution_count": 40,
   "id": "09cf2139-5a20-44d3-998e-8c53360aefe3",
   "metadata": {},
   "outputs": [
    {
     "data": {
      "text/plain": [
       "0.005555555555555556"
      ]
     },
     "execution_count": 40,
     "metadata": {},
     "output_type": "execute_result"
    }
   ],
   "source": [
    "unlucky"
   ]
  },
  {
   "cell_type": "code",
   "execution_count": 53,
   "id": "46c3341b-6008-4a4d-8b88-b52dfd0a39c7",
   "metadata": {},
   "outputs": [
    {
     "name": "stdout",
     "output_type": "stream",
     "text": [
      "555109 554723\n",
      "0.00555109 0.00554723\n"
     ]
    }
   ],
   "source": [
    "jacpot = 1/25\n",
    "joker = 1/180\n",
    "num = 1000000\n",
    "count_1 = 0\n",
    "count_2 = 0\n",
    "\n",
    "for i in range(num):\n",
    "    user = random.random()\n",
    "    if user <= joker:\n",
    "        count_1 += 1\n",
    "    if user >= (1-joker):\n",
    "        count_2 += 1\n",
    "        \n",
    "print(count_1, count_2)\n",
    "print(count_1/num, count_2/num)"
   ]
  },
  {
   "cell_type": "code",
   "execution_count": 54,
   "id": "0e9d2441-36f4-4833-a1db-211fa7c3ab49",
   "metadata": {},
   "outputs": [
    {
     "data": {
      "text/plain": [
       "0.005555555555555556"
      ]
     },
     "execution_count": 54,
     "metadata": {},
     "output_type": "execute_result"
    }
   ],
   "source": [
    "1/180"
   ]
  },
  {
   "cell_type": "code",
   "execution_count": 51,
   "id": "bfb215b0-8a47-4815-ba12-d446f0978c22",
   "metadata": {},
   "outputs": [
    {
     "name": "stdout",
     "output_type": "stream",
     "text": [
      "P(user <= lucky): 0.00571\n",
      "P((1-lucky) <= user): 0.00577\n"
     ]
    }
   ],
   "source": [
    "import random\n",
    "\n",
    "lucky = 1 / 180\n",
    "trials = 100000\n",
    "count1 = 0\n",
    "count2 = 0\n",
    "\n",
    "for _ in range(trials):\n",
    "    user = random.random()\n",
    "    if user <= lucky:\n",
    "        count1 += 1\n",
    "    if (1 - lucky) <= user:\n",
    "        count2 += 1\n",
    "\n",
    "print(\"P(user <= lucky):\", count1 / trials)\n",
    "print(\"P((1-lucky) <= user):\", count2 / trials)\n"
   ]
  },
  {
   "cell_type": "code",
   "execution_count": 58,
   "id": "d7cbee7a-e82d-40eb-8f62-5e3012e1f515",
   "metadata": {},
   "outputs": [],
   "source": [
    "import re"
   ]
  },
  {
   "cell_type": "code",
   "execution_count": 66,
   "id": "7ffecca9-8498-4808-a9b0-4e37bccf7f85",
   "metadata": {},
   "outputs": [],
   "source": [
    "name = 'aknori'"
   ]
  },
  {
   "cell_type": "code",
   "execution_count": 67,
   "id": "bb0110cf-ab4f-474a-a047-df1a8395a50a",
   "metadata": {},
   "outputs": [
    {
     "name": "stdout",
     "output_type": "stream",
     "text": [
      "<re.Match object; span=(0, 3), match='akn'>\n"
     ]
    }
   ],
   "source": [
    "pattern = '^([A-Z]|[a-z]){3}'\n",
    "pattern = re.compile(pattern)\n",
    "res = pattern.search(name)\n",
    "\n",
    "print(res)"
   ]
  },
  {
   "cell_type": "code",
   "execution_count": 78,
   "id": "96d89776-4515-42ba-99cb-f4ad68c54bae",
   "metadata": {},
   "outputs": [
    {
     "name": "stdout",
     "output_type": "stream",
     "text": [
      "150149148147146145144143142141140139138137136135134133132131130129128127126125"
     ]
    },
    {
     "name": "stdin",
     "output_type": "stream",
     "text": [
      "玉が無くなりました。継続しますか y\n"
     ]
    },
    {
     "name": "stdout",
     "output_type": "stream",
     "text": [
      "1241231221211201191181171161151141131121111101091081071061051041031021011009998979695949392919089888786858483828180797877767574737271706968676665646362616059585756555453525150494847464544434241403938373635343332313029282726252423222120191817161514131211"
     ]
    }
   ],
   "source": [
    "ball = 150\n",
    "while ball>10:\n",
    "    print(ball, end='')\n",
    "    if ball == 125:\n",
    "        user = input('玉が無くなりました。継続しますか')\n",
    "        if user == 'y':\n",
    "            ball -= 1\n",
    "            continue\n",
    "        else:\n",
    "            break\n",
    "    ball -= 1"
   ]
  },
  {
   "cell_type": "code",
   "execution_count": 3,
   "id": "02066355-fd7b-42a9-8ab3-e491815b8ea9",
   "metadata": {},
   "outputs": [
    {
     "name": "stdout",
     "output_type": "stream",
     "text": [
      "9\n",
      "8\n",
      "7\n",
      "6\n",
      "5\n",
      "4\n",
      "3\n",
      "2\n",
      "1\n",
      "0\n"
     ]
    }
   ],
   "source": [
    "import random\n",
    "ball = 10\n",
    "\n",
    "while ball > 0:\n",
    "    user = random.randrange(1, 10)\n",
    "    if user == 7:\n",
    "        continue\n",
    "    else:\n",
    "        ball -= 1\n",
    "    print(ball)"
   ]
  },
  {
   "cell_type": "code",
   "execution_count": 11,
   "id": "93cc1aae-b2cd-449c-a05f-d75459aa942b",
   "metadata": {},
   "outputs": [
    {
     "name": "stdout",
     "output_type": "stream",
     "text": [
      "True\n"
     ]
    }
   ],
   "source": [
    "jackpot = False\n",
    "res = isinstance(jackpot, bool)\n",
    "print(res)"
   ]
  },
  {
   "cell_type": "code",
   "execution_count": 5,
   "id": "0fd71b3c-82d2-44d1-b671-dd851d377a00",
   "metadata": {},
   "outputs": [
    {
     "data": {
      "text/plain": [
       "False"
      ]
     },
     "execution_count": 5,
     "metadata": {},
     "output_type": "execute_result"
    }
   ],
   "source": [
    "False is int"
   ]
  },
  {
   "cell_type": "code",
   "execution_count": 10,
   "id": "db4bd4b6-fe1c-4e32-b836-cb6f0c240a48",
   "metadata": {},
   "outputs": [
    {
     "data": {
      "text/plain": [
       "False"
      ]
     },
     "execution_count": 10,
     "metadata": {},
     "output_type": "execute_result"
    }
   ],
   "source": [
    "type(jackpot) is int"
   ]
  },
  {
   "cell_type": "code",
   "execution_count": 13,
   "id": "a1068098-9651-4a0b-9410-9b79a2ab1f2e",
   "metadata": {},
   "outputs": [
    {
     "data": {
      "text/plain": [
       "0.0006269592476489029"
      ]
     },
     "execution_count": 13,
     "metadata": {},
     "output_type": "execute_result"
    }
   ],
   "source": [
    "1/319*0.2"
   ]
  },
  {
   "cell_type": "code",
   "execution_count": 14,
   "id": "3d1a8216-6627-4648-a86a-77b09ce68bdc",
   "metadata": {},
   "outputs": [
    {
     "data": {
      "text/plain": [
       "0.003134796238244514"
      ]
     },
     "execution_count": 14,
     "metadata": {},
     "output_type": "execute_result"
    }
   ],
   "source": [
    "1/319"
   ]
  },
  {
   "cell_type": "code",
   "execution_count": 15,
   "id": "6e079a6e-cd25-4dc2-b741-32e52bffbc72",
   "metadata": {},
   "outputs": [
    {
     "data": {
      "text/plain": [
       "0.0025078369905956114"
      ]
     },
     "execution_count": 15,
     "metadata": {},
     "output_type": "execute_result"
    }
   ],
   "source": [
    "1/319*0.8"
   ]
  },
  {
   "cell_type": "code",
   "execution_count": 16,
   "id": "9c7cde52-56da-49b9-912b-cb98f68c2f29",
   "metadata": {},
   "outputs": [
    {
     "data": {
      "text/plain": [
       "0.0006269592476489028"
      ]
     },
     "execution_count": 16,
     "metadata": {},
     "output_type": "execute_result"
    }
   ],
   "source": [
    "(1/319)/5"
   ]
  },
  {
   "cell_type": "code",
   "execution_count": 17,
   "id": "fb158640-4b46-4ad5-97ed-6303527b3eba",
   "metadata": {},
   "outputs": [
    {
     "data": {
      "text/plain": [
       "0.25"
      ]
     },
     "execution_count": 17,
     "metadata": {},
     "output_type": "execute_result"
    }
   ],
   "source": [
    "1/4"
   ]
  },
  {
   "cell_type": "code",
   "execution_count": 18,
   "id": "d173ff21-2917-41a4-88b4-cc97c8146490",
   "metadata": {},
   "outputs": [
    {
     "ename": "NameError",
     "evalue": "name 'length' is not defined",
     "output_type": "error",
     "traceback": [
      "\u001b[0;31m---------------------------------------------------------------------------\u001b[0m",
      "\u001b[0;31mNameError\u001b[0m                                 Traceback (most recent call last)",
      "\u001b[0;32m/tmp/ipykernel_220/973295781.py\u001b[0m in \u001b[0;36m<module>\u001b[0;34m\u001b[0m\n\u001b[0;32m----> 1\u001b[0;31m \u001b[0mlength\u001b[0m\u001b[0;34m(\u001b[0m\u001b[0mlist\u001b[0m\u001b[0;34m)\u001b[0m\u001b[0;34m\u001b[0m\u001b[0;34m\u001b[0m\u001b[0m\n\u001b[0m",
      "\u001b[0;31mNameError\u001b[0m: name 'length' is not defined"
     ]
    }
   ],
   "source": [
    "length(list)"
   ]
  },
  {
   "cell_type": "code",
   "execution_count": null,
   "id": "53961ac4-7597-434f-bb2c-dbbff1ea3338",
   "metadata": {},
   "outputs": [],
   "source": []
  }
 ],
 "metadata": {
  "kernelspec": {
   "display_name": "Python 3 (ipykernel)",
   "language": "python",
   "name": "python3"
  },
  "language_info": {
   "codemirror_mode": {
    "name": "ipython",
    "version": 3
   },
   "file_extension": ".py",
   "mimetype": "text/x-python",
   "name": "python",
   "nbconvert_exporter": "python",
   "pygments_lexer": "ipython3",
   "version": "3.9.13"
  }
 },
 "nbformat": 4,
 "nbformat_minor": 5
}
