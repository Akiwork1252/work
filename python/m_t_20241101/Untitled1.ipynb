{
 "cells": [
  {
   "cell_type": "code",
   "execution_count": 1,
   "id": "4811a2d8-f660-45eb-85fc-69306f587729",
   "metadata": {},
   "outputs": [
    {
     "name": "stdout",
     "output_type": "stream",
     "text": [
      "問題 1:\n",
      "以下のコードの出力は何ですか？\n",
      "\n",
      "x = 5\n",
      "y = 2\n",
      "print(x + y)\n",
      "\n",
      "1) 7\n",
      "2) 52\n",
      "3) エラー\n",
      "4) 5\n"
     ]
    },
    {
     "name": "stdin",
     "output_type": "stream",
     "text": [
      "正しい番号を入力してください:  1\n"
     ]
    },
    {
     "name": "stdout",
     "output_type": "stream",
     "text": [
      "正解です！\n",
      "\n",
      "問題 2:\n",
      "以下のコードに含まれるエラーを修正してください。\n",
      "\n",
      "for i in range(5):\n",
      "print(i)\n",
      "1) インデントを修正\n",
      "2) range()の値を変更\n",
      "3) プリント文を削除\n",
      "4) エラーはない\n"
     ]
    },
    {
     "name": "stdin",
     "output_type": "stream",
     "text": [
      "正しい番号を入力してください:  1\n"
     ]
    },
    {
     "name": "stdout",
     "output_type": "stream",
     "text": [
      "正解です！\n",
      "\n",
      "問題 3:\n",
      "以下のコードに適切な関数を追加してください。\n",
      "\n",
      "___(list)\n",
      "list = [1, 2, 3, 4]\n",
      "print(length(list))\n",
      "1) len\n",
      "2) list_length\n",
      "3) length\n",
      "4) count\n"
     ]
    },
    {
     "name": "stdin",
     "output_type": "stream",
     "text": [
      "正しい番号を入力してください:  1\n"
     ]
    },
    {
     "name": "stdout",
     "output_type": "stream",
     "text": [
      "正解です！\n",
      "\n",
      "テスト終了！あなたのスコアは 3/3 です！\n",
      "素晴らしい！Pythonの基礎をしっかり理解しています。\n"
     ]
    }
   ],
   "source": [
    "def run_python_test():\n",
    "    questions = [\n",
    "        {\n",
    "            \"question\": \"以下のコードの出力は何ですか？\\n\\n\"\n",
    "                        \"x = 5\\n\"\n",
    "                        \"y = 2\\n\"\n",
    "                        \"print(x + y)\\n\",\n",
    "            \"options\": [\"1) 7\", \"2) 52\", \"3) エラー\", \"4) 5\"],\n",
    "            \"answer\": 1\n",
    "        },\n",
    "        {\n",
    "            \"question\": \"以下のコードに含まれるエラーを修正してください。\\n\\n\"\n",
    "                        \"for i in range(5):\\n\"\n",
    "                        \"print(i)\",\n",
    "            \"options\": [\"1) インデントを修正\", \"2) range()の値を変更\", \"3) プリント文を削除\", \"4) エラーはない\"],\n",
    "            \"answer\": 1\n",
    "        },\n",
    "        {\n",
    "            \"question\": \"以下のコードに適切な関数を追加してください。\\n\\n\"\n",
    "                        \"___(list)\\n\"\n",
    "                        \"list = [1, 2, 3, 4]\\n\"\n",
    "                        \"print(length(list))\",\n",
    "            \"options\": [\"1) len\", \"2) list_length\", \"3) length\", \"4) count\"],\n",
    "            \"answer\": 1\n",
    "        }\n",
    "    ]\n",
    "\n",
    "    score = 0\n",
    "\n",
    "    for i, q in enumerate(questions, start=1):\n",
    "        print(f\"問題 {i}:\\n{q['question']}\")\n",
    "        for option in q['options']:\n",
    "            print(option)\n",
    "        try:\n",
    "            user_answer = int(input(\"正しい番号を入力してください: \"))\n",
    "            if user_answer == q['answer']:\n",
    "                print(\"正解です！\\n\")\n",
    "                score += 1\n",
    "            else:\n",
    "                print(\"不正解です。\\n\")\n",
    "        except ValueError:\n",
    "            print(\"無効な入力です。数字を入力してください。\\n\")\n",
    "\n",
    "    print(f\"テスト終了！あなたのスコアは {score}/{len(questions)} です！\")\n",
    "    if score == len(questions):\n",
    "        print(\"素晴らしい！Pythonの基礎をしっかり理解しています。\")\n",
    "    elif score > len(questions) // 2:\n",
    "        print(\"良い結果です！もう少しで完璧です。\")\n",
    "    else:\n",
    "        print(\"もう少し練習が必要です。頑張りましょう！\")\n",
    "\n",
    "# テストを実行\n",
    "run_python_test()"
   ]
  },
  {
   "cell_type": "code",
   "execution_count": null,
   "id": "ad609a9c-1333-4ce5-b452-914b88b95b95",
   "metadata": {},
   "outputs": [],
   "source": []
  },
  {
   "cell_type": "code",
   "execution_count": null,
   "id": "1c4a458d-3283-4754-bfa8-042f1a11466a",
   "metadata": {},
   "outputs": [],
   "source": []
  }
 ],
 "metadata": {
  "kernelspec": {
   "display_name": "Python 3 (ipykernel)",
   "language": "python",
   "name": "python3"
  },
  "language_info": {
   "codemirror_mode": {
    "name": "ipython",
    "version": 3
   },
   "file_extension": ".py",
   "mimetype": "text/x-python",
   "name": "python",
   "nbconvert_exporter": "python",
   "pygments_lexer": "ipython3",
   "version": "3.9.13"
  }
 },
 "nbformat": 4,
 "nbformat_minor": 5
}
